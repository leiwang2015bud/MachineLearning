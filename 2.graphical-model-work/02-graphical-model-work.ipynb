{
 "metadata": {
  "kernelspec": {
   "display_name": "Python 3",
   "language": "python",
   "name": "python3"
  },
  "language_info": {
   "codemirror_mode": {
    "name": "ipython",
    "version": 3
   },
   "file_extension": ".py",
   "mimetype": "text/x-python",
   "name": "python",
   "nbconvert_exporter": "python",
   "pygments_lexer": "ipython3",
   "version": "3.4.2"
  },
  "name": "02-graphical-model-work.ipynb"
 },
 "nbformat": 3,
 "nbformat_minor": 0,
 "worksheets": [
  {
   "cells": [
    {
     "cell_type": "heading",
     "level": 1,
     "metadata": {},
     "source": [
      "Inference with Probabilistic Graphical Models"
     ]
    },
    {
     "cell_type": "markdown",
     "metadata": {},
     "source": [
      "COMP4670/8600 - Introduction to Statistical Machine Learning - Assignment 2 (due: Monday, 18 May, 23:59)"
     ]
    },
    {
     "cell_type": "markdown",
     "metadata": {},
     "source": [
      "Name: LEI WANG\n",
      "\n",
      "Student ID: U5419419"
     ]
    },
    {
     "cell_type": "markdown",
     "metadata": {},
     "source": [
      "## Instructions\n",
      "\n",
      "|             |Notes|\n",
      "|:------------|:--|\n",
      "|Maximum marks| 20|\n",
      "|Weight|20% of final grade|\n",
      "|Format| Complete this ipython notebook. Do not forget to fill in your name and student ID above|\n",
      "|Submission mode| Use [wattle](https://wattle.anu.edu.au/)|\n",
      "|Formulas| All formulas which you derive need to be explained unless you use very common mathematical facts. Picture yourself as explaining your arguments to somebody who is just learning about your assignment. With other words, do not assume that the person marking your assignment knows all the background and therefore you can just write down the formulas without any explanation. It is your task to convince the reader that you know what you are doing when you derive an argument.|\n",
      "| Code quality | Python code should be well structured, use meaningful identifiers for variables and subroutines, and provide sufficient comments. Please refer to the examples given in the tutorials. |\n",
      "| Code efficiency | An efficient implementation of an algorithm uses fast subroutines provided by the language or additional libraries. For the purpose of implementing Machine Learning algorithms in this course, that means using the appropriate data structures provided by Python and in numpy/scipy (e.g. Linear Algebra and random generators). |\n",
      "| Late penalty | For every day (starts at midnight) after the deadline of an assignment, the mark will be reduced by 5%. No assignments shall be accepted if it is later than 10 days. | \n",
      "| Coorperation | All assignments must be done individually. Cheating and plagiarism will be dealt with in accordance with University procedures (please see the ANU policies on [Academic Honesty and Plagiarism](http://academichonesty.anu.edu.au)). Hence, for example, code for programming assignments must not be developed in groups, nor should code be shared. You are encouraged to broadly discuss ideas, approaches and techniques with a few other students, but not at a level of detail where specific solutions or implementation issues are described by anyone. If you choose to consult with other students, you will include the names of your discussion partners for each solution. If you have any questions on this, please ask the lecturer before you act. |\n",
      "| Solution | To be presented in the tutorials. |"
     ]
    },
    {
     "cell_type": "markdown",
     "metadata": {},
     "source": [
      "## Part 1: (4 points) Marginal and conditional probability\n",
      "\n",
      "At the end of Semester 1 of 2015, the results of a course at a university were released.\n",
      "The following table contains the numbers of students who passed and failed the course.\n",
      "\n",
      "|  | Passed | Failed |\n",
      "|--|:--:|:--:|\n",
      "| Women | 27 | 8 |\n",
      "| Men | 29 | 6 |\n",
      "\n",
      "### Part 1a: Men vs Women\n",
      "\n",
      "Compute the following probabilities (show details of your reasoning):\n",
      "* probability that a person passes the course\n",
      "* probability that a woman passes the course\n",
      "* probability that a man passes the course"
     ]
    },
    {
     "cell_type": "markdown",
     "metadata": {},
     "source": [
      "##Solution\n",
      "\n",
      "P(Exam = Passed) = $\\sum_{Gender}$P(Gender, Exam=Passed)= 27/70 + 29/70 = 56/70\n",
      "\n",
      "P(Exam = Passed | Gender = woman) = P(Exam = Passed, Gender = Woman)/$\\sum_{Exam}$P(Exam, Gender = Woman) = 27/(27+8) = 27/35\n",
      "\n",
      "P(Exam = Passed | Gender = man) = P(Exam = Passed, Gender = man)/$\\sum_{Exam}$P(Exam, Gender = man) = 29/(29+6) = 29/35"
     ]
    },
    {
     "cell_type": "code",
     "collapsed": false,
     "input": [
      "print 'P(Exam = Passed) = ',56.0/70\n",
      "print 'P(Exam = Passed | Gender = woman) = ',27.0/35\n",
      "print 'P(Exam = Passed | Gender = man)',29.0/35"
     ],
     "language": "python",
     "metadata": {},
     "outputs": [
      {
       "output_type": "stream",
       "stream": "stdout",
       "text": [
        "P(Exam = Passed) =  0.8\n",
        "P(Exam = Passed | Gender = woman) =  0.771428571429\n",
        "P(Exam = Passed | Gender = man) 0.828571428571\n"
       ]
      }
     ],
     "prompt_number": 1
    },
    {
     "cell_type": "markdown",
     "metadata": {},
     "source": [
      "### Part 1b: Including Bachelor and Master's level\n",
      "\n",
      "The dean is concerned that the lecturer may be failing a higher proportion of women than men in the course, so she investigates further and demands the numbers of students at the Bachelor and Master's level.\n",
      "\n",
      "|  | Passed | Failed |\n",
      "|--|:--:|:--:|\n",
      "| B.Sc Women | 8 | 1 |\n",
      "| B.Sc Men | 23 | 3 |\n",
      "| M.Sc Women | 19 | 7 |\n",
      "| M.Sc Men | 6 | 3 |\n",
      "\n",
      "Compute the following probabilities (show details of your reasoning):\n",
      "* probability that a B.Sc student passes the course\n",
      "* probability that a B.Sc woman passes the course\n",
      "* probability that a B.Sc man passes the course\n",
      "* probability that a M.Sc student passes the course\n",
      "* probability that a M.Sc woman passes the course\n",
      "* probability that a M.Sc man passes the course"
     ]
    },
    {
     "cell_type": "markdown",
     "metadata": {},
     "source": [
      "##Solution\n",
      "\n",
      "P(Exam = Passed | level = B.Sc) = P(Exam = Passed , level = B.Sc)/ $\\sum_{Exam}$P(Exam, level = B.Sc) = (8+23)/(8+23+1+3) = 31/35\n",
      "\n",
      "P(Exam = Passed | level = B.Sc, Gender = Woman) = P(Exam = Passed , level = B.Sc, Gender = Woman)/ $\\sum_{Exam}$P(Exam, level = B.Sc, Gender = Woman) = (8)/(8+1) = 8/9\n",
      "\n",
      "P(Exam = Passed | level = B.Sc, Gender = man) = P(Exam = Passed , level = B.Sc, Gender = man)/ $\\sum_{Exam}$P(Exam, level = B.Sc, Gender = man) = (23)/(23+3) = 23/26\n",
      "\n",
      "P(Exam = Passed | level = M.Sc) = P(Exam = Passed , level = M.Sc)/ $\\sum_{Exam}$P(Exam, level = M.Sc) = (19+6)/(19+6+7+3) = 25/35\n",
      "\n",
      "P(Exam = Passed | level = M.Sc, Gender = Woman) = P(Exam = Passed , level = M.Sc, Gender = Woman)/ $\\sum_{Exam}$P(Exam, level = M.Sc, Gender = Woman) = (19)/(19+7) = 19/26\n",
      "\n",
      "P(Exam = Passed | level = M.Sc, Gender = man) = P(Exam = Passed , level = M.Sc, Gender = man)/ $\\sum_{Exam}$P(Exam, level = M.Sc, Gender = man) = (6)/(6+3) = 6/9 \n"
     ]
    },
    {
     "cell_type": "code",
     "collapsed": false,
     "input": [
      "print 'P(Exam = Passed | level = B.Sc) = ',31.0/35\n",
      "print 'P(Exam = Passed | level = B.Sc, Gender = Woman) = ',8.0/9\n",
      "print 'P(Exam = Passed | level = B.Sc, Gender = man) = ',23.0/26\n",
      "print '\\n'\n",
      "print 'P(Exam = Passed | level = M.Sc) = ',25.0/35\n",
      "print 'P(Exam = Passed | level = M.Sc, Gender = Woman) = ',19.0/26\n",
      "print 'P(Exam = Passed | level = M.Sc, Gender = man) = ',6.0/9"
     ],
     "language": "python",
     "metadata": {},
     "outputs": [
      {
       "output_type": "stream",
       "stream": "stdout",
       "text": [
        "P(Exam = Passed | level = B.Sc) =  0.885714285714\n",
        "P(Exam = Passed | level = B.Sc, Gender = Woman) =  0.888888888889\n",
        "P(Exam = Passed | level = B.Sc, Gender = man) =  0.884615384615\n",
        "\n",
        "\n",
        "P(Exam = Passed | level = M.Sc) =  0.714285714286\n",
        "P(Exam = Passed | level = M.Sc, Gender = Woman) =  0.730769230769\n",
        "P(Exam = Passed | level = M.Sc, Gender = man) =  0.666666666667\n"
       ]
      }
     ],
     "prompt_number": 2
    },
    {
     "cell_type": "markdown",
     "metadata": {},
     "source": [
      "### Part 1c: Interpreting results\n",
      "\n",
      "Given the probabilities of passing that you have computed in the two parts above, discuss whether women are more likely to pass the course compared to men.\n",
      "Explain how you came to your conclusion using the data that is presented above."
     ]
    },
    {
     "cell_type": "markdown",
     "metadata": {},
     "source": [
      "##Solution:\n",
      "\n",
      "Based on the above all probabilities, I think in this situation considering same level women are morelikely to pass the course compared to men.\n",
      "\n",
      "First, I would explain why we have to also need to consider the level of women and man before we draw the conclusion. Otherwise, it looks like someone are talking about wheter women are more likely to drink whole milk compared to men, but not considering how many woman and man are infants who are both mainly feed on whole milk. For example, we could define that the one level is in 1 year old, and the other is in 24 years old. For majority both of 1 year old woman and man, whole milk is their mainly food. However, for most 18 years old woman, they might don't like whole milk because they want to wear beautiful dress and love light milk. If we only consider the gender but not with level, we would draw a really funny conclusion. \n",
      "\n",
      "Second, if we not only consider the gender but also the level of students, we would find that for students in same level, the probability of woman students passing the course is lightly larger then man students.\n",
      "\n",
      "P(Exam = Passed | level = B.Sc, Gender = Woman) = 0.888888888889\n",
      "P(Exam = Passed | level = B.Sc, Gender = man)  = 0.884615384615\n",
      "\n",
      "P(Exam = Passed | level = M.Sc, Gender = Woman) = 0.730769230769\n",
      "P(Exam = Passed | level = M.Sc, Gender = man) = 0.666666666667"
     ]
    },
    {
     "cell_type": "markdown",
     "metadata": {},
     "source": [
      "### Part 1d: Computing conditional probability tables\n",
      "\n",
      "Compute the following conditional probability tables:\n",
      "* The probability of the level of the student (B.Sc or M.Sc) conditioned on the gender\n",
      "* The probability of the level of the student conditioned on whether the student passed"
     ]
    },
    {
     "cell_type": "markdown",
     "metadata": {},
     "source": [
      "##Solution:\n",
      "1. P(level | Gender)\n",
      "\n",
      "|  | Woman | Men |\n",
      "|--|:--:|:--:|\n",
      "| B.Sc | (8+1)/(8+1+19+7) = 9/35 | (23+3)/(23+3+6+3) = 26/35 |\n",
      "| M.Sc | (19+7)/(8+1+19+7) =26/35 | (6+3)/(23+3+6+3) = 9/35 |\n",
      "\n",
      "2. P(level | Exam)\n",
      "\n",
      "|  | Passed | Failed |\n",
      "|--|:--:|:--:|\n",
      "| B.Sc | (8+23)/(8+23+19+6) = 31/56 | (1+3)/(1+3+7+3) = 4/14 |\n",
      "| M.Sc | (19+6)/(8+23+19+6) = 25/56 | (7+3)/(1+3+7+3) = 10/14 |"
     ]
    },
    {
     "cell_type": "code",
     "collapsed": false,
     "input": [
      "print 'P(level | Gender)    |      Woman          Men'\n",
      "print 'B.Sc                 |',9.0/35,'  ', 26.0/35\n",
      "print 'M.Sc                 |',26.0/35,'  ', 9.0/35\n",
      "print '\\n'\n",
      "\n",
      "print 'P(level | Gender)    |      Woman          Men'\n",
      "print 'B.Sc                 |',31.0/56,'  ', 4.0/14\n",
      "print 'M.Sc                 |',25.0/56,'  ', 10.0/14"
     ],
     "language": "python",
     "metadata": {},
     "outputs": [
      {
       "output_type": "stream",
       "stream": "stdout",
       "text": [
        "P(level | Gender)    |      Woman          Men\n",
        "B.Sc                 | 0.257142857143    0.742857142857\n",
        "M.Sc                 | 0.742857142857    0.257142857143\n",
        "\n",
        "\n",
        "P(level | Gender)    |      Woman          Men\n",
        "B.Sc                 | 0.553571428571    0.285714285714\n",
        "M.Sc                 | 0.446428571429    0.714285714286\n"
       ]
      }
     ],
     "prompt_number": 3
    },
    {
     "cell_type": "markdown",
     "metadata": {},
     "source": [
      "## Bayesian Network\n",
      "\n",
      "If you get Bronchitis, it is likely to cause Aches. Additionally it may be a severe Disease, especially if you have a Cough. Of course, not all Coughs result in a Disease, and some of them may be Fast healing. If your Disease is serious, it is likely to be an Emergency and you should head to hospital.\n",
      "\n",
      "Consider the following Bayesian Network that formalises the above scenario. It has the following variables:\n",
      "* **A**ches with states (False, True)\n",
      "* **B**ronchitis with states (none, mild, severe)\n",
      "* **C**ough with states (False, True)\n",
      "* **D**isease with states (healthy, carrier, sick, recovering)\n",
      "* **E**mergency with states (False, True)\n",
      "* **F**ast healing with states (False, True)"
     ]
    },
    {
     "cell_type": "markdown",
     "metadata": {},
     "source": [
      "The conditional probabilities are given by the following tables.\n",
      "\n",
      "|$p(B)$ | B=n | B=m | B=s |\n",
      "|:-----:|:--:|:--:|:--:|\n",
      "|marginal| 0.97 | 0.01 | 0.02 |\n",
      "\n",
      "|$p(C)$ | C=False | C=True |\n",
      "|:-----:|:--:|:--:|\n",
      "|marginal| 0.7 | 0.3 |\n",
      "\n",
      "| $p(A|B)$ | B=n | B=m | B=s |\n",
      "|:-----:|:--:|:--:|:--:|\n",
      "|**A**=False |0.9|0.8|0.3|\n",
      "|**A**=True |0.1|0.2|0.7|\n",
      "\n",
      "| $p(D|B,C)$ | B=n, C=F | B=m, C=F | B=s, C=F | B=n, C=T | B=m, C=T | B=s, C=T |\n",
      "|:-----:|:--:|:--:|:--:|:--:|:--:|:--:|\n",
      "|**D**=healthy   |0.9 |0.8 |0.1 |  0.3 |0.4 |0.01|\n",
      "|**D**=carrier   |0.08|0.17|0.01|  0.05|0.05|0.01|\n",
      "|**D**=sick      |0.01|0.01|0.87|  0.05|0.15|0.97|\n",
      "|**D**=recovering|0.01|0.02|0.02|  0.6 |0.4 |0.01|\n",
      "\n",
      "| $p(E|D)$ | D=h | D=c | D=s | D=r |\n",
      "|:-----:|:--:|:--:|:--:|\n",
      "|**E**=False |0.99|0.99|0.4|0.9|\n",
      "|**E**=True |0.01|0.01|0.6|0.1|\n",
      "\n",
      "| $p(F|C)$ | C=False | C=True |\n",
      "|:-----:|:--:|:--:|\n",
      "|**F**=False |0.99|0.2|\n",
      "|**F**=True |0.01|0.8|"
     ]
    },
    {
     "cell_type": "markdown",
     "metadata": {},
     "source": [
      "## Part 2: (6 points) Markov Chain Monte Carlo\n",
      "\n",
      "We consider a special case of the Metropolis Hastings algorithm. \n",
      "Recall that the Metropolis Hastings algorithm uses the current sample to decide which next sample to produce.\n",
      "We use the proposal distribution which is the conditional distribution of a single variable, conditioned on the current state of all the other variables. We cycle through all the variables at each time step, updating the current state. That is for each step, we sample:\n",
      "* p(A | B,C,D,E,F)\n",
      "* p(B | A,C,D,E,F)\n",
      "* p(C | A,B,D,E,F)\n",
      "* p(D | A,B,C,E,F)\n",
      "* p(E | A,B,C,D,F)\n",
      "* p(F | A,B,C,D,E)\n",
      "\n",
      "After each sampling step, we use the sample as the new state of the variable.\n",
      "\n",
      "### Part 2a: Implement MCMC algorithm[Coding]\n",
      "\n",
      "Implement this Markov chain Monte Carlo algorithm for the above graphical model. Use\n",
      "$$\n",
      "p(A=False, B=none, C=False, D=healthy, E=False, F=False)\n",
      "$$\n",
      "as the initial state.\n",
      "\n",
      "*Hint: You may find ```numpy.random.multinomial``` useful.*\n",
      "\n",
      "*Hint: Many of the proposal distributions can be simplified due to the structure of the graphical model.*"
     ]
    },
    {
     "cell_type": "code",
     "collapsed": false,
     "input": [
      "import numpy as np\n",
      "from scipy import stats\n",
      "\n",
      "class GibbsSampling:\n",
      "\n",
      "    def __init__(self,A, B, C, D, E, F, p_B, p_C, p_A_B, p_D_BC, p_E_D, p_F_C):\n",
      "        self.A = A\n",
      "        self.B = B\n",
      "        self.C = C\n",
      "        self.D = D\n",
      "        self.E = E\n",
      "        self.F = F\n",
      "        self.p_B = p_B\n",
      "        self.p_C = p_C\n",
      "        self.p_A_B = p_A_B\n",
      "        self.p_D_BC = p_D_BC\n",
      "        self.p_E_D = p_E_D\n",
      "        self.p_F_C = p_F_C\n",
      "        self.a = ''   # creates a null state for random variable A\n",
      "        self.b = ''   # creates a null state for random variable B\n",
      "        self.c = ''   # creates a null state for random variable C\n",
      "        self.d = ''   # creates a null state for random variable D\n",
      "        self.e = ''   # creates a null state for random variable E\n",
      "        self.f = ''   # creates a null state for random variable F\n",
      "    def get_VarTuple(self):\n",
      "        \"\"\"\n",
      "            return a list of all variabels' states\n",
      "        \"\"\"\n",
      "        return (A[self.a], B[self.b], C[self.c], D[self.d], E[self.e], F[self.f])\n",
      "\n",
      "    def initialize(self, varList):\n",
      "        \"\"\"\n",
      "            Input: varList = [f,e,d,c,b,a]\n",
      "            Output: none\n",
      "            Function: initialize all the variables\n",
      "        \"\"\"\n",
      "        self.a =  varList .pop()\n",
      "        self.b =  varList .pop()\n",
      "        self.c =  varList .pop()\n",
      "        self.d =  varList .pop()\n",
      "        self.e =  varList .pop()\n",
      "        self.f =  varList .pop()\n",
      "            \n",
      "    def buildProposalDistrion_A(self):\n",
      "        \"\"\"\n",
      "            Input: none\n",
      "            Output: proposal distribution for variabel A\n",
      "            Function: calculate the proposal distribution for variabel A\n",
      "            which is equle to P(A|B)/sum_A`{P(A`|B)}\n",
      "        \"\"\"\n",
      "        upper = self.p_A_B[:,self.b]\n",
      "        bottom =upper.sum(axis = 0)\n",
      "        proposalDis_A = upper/bottom\n",
      "        return proposalDis_A\n",
      "    \n",
      "    def samplingAndUpdate_A(self):\n",
      "        xk = np.arange(0,len(self.A))\n",
      "        pk = self.buildProposalDistrion_A()\n",
      "        custm = stats.rv_discrete(name='custm', values=(xk, pk))      \n",
      "        R = custm.rvs(size=1)# Return a row vector\n",
      "        self.a =  R[0]# update variable a\n",
      "        #print 'xk',xk\n",
      "        #print 'pk:',pk\n",
      "        #print 'A state index: ',R\n",
      "        \n",
      "    def buildProposalDistrion_B(self):\n",
      "        \"\"\"\n",
      "            Input: none\n",
      "            Output: proposal distribution for variabel B\n",
      "            Function: calculate the proposal distribution for variabel B\n",
      "            which is equle to P(B)P(A|B)P(D|B,C)/sum_B`{P(B`)P(A|B`)P(D|B`,C)}\n",
      "        \"\"\"\n",
      "        upper = self.p_B * self.p_A_B[self.a,:] * self.p_D_BC[self.d,self.c,:]\n",
      "        bottom =upper.sum(axis = 0)\n",
      "        proposalDis_B = upper/bottom\n",
      "        return proposalDis_B\n",
      "    \n",
      "    def samplingAndUpdate_B(self):\n",
      "        xk = np.arange(0,len(self.B))\n",
      "        pk = self.buildProposalDistrion_B()\n",
      "        custm = stats.rv_discrete(name='custm', values=(xk, pk))      \n",
      "        R = custm.rvs(size=1)# Return a row vector\n",
      "        self.b =  R[0]# update variable a\n",
      "        #print 'xk',xk\n",
      "        #print 'pk:',pk\n",
      "        #print 'B state index: ',R\n",
      "        \n",
      "    def buildProposalDistrion_C(self):\n",
      "        \"\"\"\n",
      "            Input: none\n",
      "            Output: proposal distribution for variabel C\n",
      "            Function: calculate the proposal distribution for variabel C\n",
      "            which is equle to P(C)P(D|B,C)P(F|C)/sum_C`{P(C)P(D|B,C)P(F|C)}\n",
      "        \"\"\"\n",
      "        upper = self.p_C * self.p_D_BC[self.d,:,self.b]* self.p_F_C[self.f,:] \n",
      "        bottom =upper.sum(axis = 0)\n",
      "        proposalDis_C = upper/bottom\n",
      "        return proposalDis_C\n",
      "    \n",
      "    def samplingAndUpdate_C(self):\n",
      "        xk = np.arange(0,len(self.C))\n",
      "        pk = self.buildProposalDistrion_C()\n",
      "        custm = stats.rv_discrete(name='custm', values=(xk, pk))      \n",
      "        R = custm.rvs(size=1)# Return a row vector\n",
      "        self.c =  R[0]# update variable a\n",
      "        #print 'xk',xk\n",
      "        #print 'pk:',pk\n",
      "        #print 'C state index: ',R\n",
      "        \n",
      "    def buildProposalDistrion_D(self):\n",
      "        \"\"\"\n",
      "            Input: none\n",
      "            Output: proposal distribution for variabel D\n",
      "            Function: calculate the proposal distribution for variabel D\n",
      "            which is equle to P(D|B,C)P(E|D)/sum_D`{P(D|B,C)P(E|D)}\n",
      "        \"\"\"\n",
      "        upper = self.p_D_BC[:,self.c,self.b] * self.p_E_D[self.e,:] \n",
      "        bottom =upper.sum(axis = 0)\n",
      "        proposalDis_D = upper/bottom\n",
      "        return proposalDis_D\n",
      "    \n",
      "    def samplingAndUpdate_D(self):\n",
      "        xk = np.arange(0,len(self.D))\n",
      "        pk = self.buildProposalDistrion_D()\n",
      "        custm = stats.rv_discrete(name='custm', values=(xk, pk))      \n",
      "        R = custm.rvs(size=1)# Return a row vector\n",
      "        self.d =  R[0]# update variable a\n",
      "        #print 'xk',xk\n",
      "        #print 'pk:',pk\n",
      "        #print 'D state index: ',R\n",
      "\n",
      "    def buildProposalDistrion_E(self):\n",
      "        \"\"\"\n",
      "            Input: none\n",
      "            Output: proposal distribution for variabel E\n",
      "            Function: calculate the proposal distribution for variabel A\n",
      "            which is equle to P(E|D)/sum_E`{P(E`|D)}\n",
      "        \"\"\"\n",
      "        upper = self.p_E_D[:,self.d]\n",
      "        bottom =upper.sum(axis = 0)\n",
      "        proposalDis_E = upper/bottom\n",
      "        return proposalDis_E\n",
      "    \n",
      "    def samplingAndUpdate_E(self):\n",
      "        xk = np.arange(0,len(self.E))\n",
      "        pk = self.buildProposalDistrion_E()\n",
      "        custm = stats.rv_discrete(name='custm', values=(xk, pk))      \n",
      "        R = custm.rvs(size=1)# Return a row vector\n",
      "        self.e =  R[0]# update variable a\n",
      "        #print 'xk',xk\n",
      "        #print 'pk:',pk\n",
      "        #print 'E state index: ',R\n",
      "        \n",
      "    def buildProposalDistrion_F(self):\n",
      "        \"\"\"\n",
      "            Input: none\n",
      "            Output: proposal distribution for variabel F\n",
      "            Function: calculate the proposal distribution for variabel F\n",
      "            which is equle to P(F|C)/sum_F`{P(F`|C)}\n",
      "        \"\"\"\n",
      "        upper = self.p_F_C[:,self.c]\n",
      "        bottom =upper.sum(axis = 0)\n",
      "        proposalDis_F = upper/bottom\n",
      "        return proposalDis_F\n",
      "    \n",
      "    def samplingAndUpdate_F(self):\n",
      "        xk = np.arange(0,len(self.F))\n",
      "        pk = self.buildProposalDistrion_F()\n",
      "        custm = stats.rv_discrete(name='custm', values=(xk, pk))      \n",
      "        R = custm.rvs(size=1)# Return a row vector\n",
      "        self.f =  R[0]# update variable a\n",
      "        #print 'xk',xk\n",
      "        #print 'pk:',pk\n",
      "        #print 'F state index: ',R"
     ],
     "language": "python",
     "metadata": {},
     "outputs": [],
     "prompt_number": 2
    },
    {
     "cell_type": "code",
     "collapsed": false,
     "input": [
      "# 1) Set Varaibels' state list        \n",
      "A = [False, True]\n",
      "B = ['n', 'm', 's']\n",
      "C = [False, True]\n",
      "D = ['healthy', 'carrier', 'sick', 'recovering']\n",
      "E = [False, True]\n",
      "F = [False, True]\n",
      "\n",
      "# 2) Set Known probabilities distribution\n",
      "p_B = np.array([0.97, 0.01, 0.02])\n",
      "p_C = np.array([0.7, 0.3])\n",
      "p_A_B = np.array([[0.9,0.8,0.3],[0.1,0.2,0.7]])\n",
      "# Load P(D|B,C)\n",
      "# axis = 0 represent D (4 variabels)\n",
      "# axis = 1 represent C (2 variabels)\n",
      "# axis = 2 represent B (3 variabels)\n",
      "p_D_BC = np.zeros((4,2,3))\n",
      "p_D_BC[0] = np.array([[0.9, 0.8, 0.1],[0.3,0.4,0.01]])\n",
      "p_D_BC[1] = np.array([[0.08, 0.17, 0.01],[0.05,0.05,0.01]])\n",
      "p_D_BC[2] = np.array([[0.01,0.01,0.87],[0.05,0.15,0.97]])\n",
      "p_D_BC[3] = np.array([[0.01,0.02,0.02],[0.6,0.4,0.01]])\n",
      "## E.G. 2by2 matrix with ones = p_D_BC.sum(axis = 0) where first row with C = False\n",
      "## and second row is with C = True\n",
      "p_E_D = np.array([[0.99,0.99,0.4,0.9],[0.01,0.01,0.6,0.1]])\n",
      "p_F_C = np.array([[0.99,0.2],[0.01,0.8]])\n",
      "\n",
      "# 3) Start Gibbs sampling algorithm\n",
      "Gibbs = GibbsSampling(A, B, C, D, E, F, p_B, p_C, p_A_B, p_D_BC, p_E_D, p_F_C)\n",
      "# varList = [F,E,D,C,B,A]\n",
      "varStateIndexList = [ 0, 0, 0, 0, None, 0]\n",
      "# 3.1) initialize all variabels with initial state\n",
      "Gibbs.initialize(varStateIndexList)\n",
      "# 3.2) start sampling until mixing\n",
      "p_ABCDEF_try = {}# Target distribution is joint distribution for all variabels P(A,B,C,D,E,F)\n",
      "T = 500000\n",
      "for i in xrange(1,T):\n",
      "    Gibbs.samplingAndUpdate_B()\n",
      "    Gibbs.samplingAndUpdate_A()\n",
      "    Gibbs.samplingAndUpdate_C()\n",
      "    Gibbs.samplingAndUpdate_D()\n",
      "    Gibbs.samplingAndUpdate_E()\n",
      "    Gibbs.samplingAndUpdate_F()\n",
      "    key = Gibbs.get_VarTuple()\n",
      "    if p_ABCDEF_try.get(key) == None:\n",
      "        p_ABCDEF_try[key] = 1\n",
      "    else:\n",
      "        p_ABCDEF_try[key] = p_ABCDEF_try.get(key) + 1\n",
      "print '\\n-------------Repeat until reaching the invariant distribution---------------'\n",
      "print 'There are ',len(p_ABCDEF_try.keys()),'(192) entries'\n",
      "print 'and ',T,' sets of samples'"
     ],
     "language": "python",
     "metadata": {},
     "outputs": [
      {
       "output_type": "stream",
       "stream": "stdout",
       "text": [
        "\n",
        "-------------Repeat until reaching the invariant distribution---------------\n",
        "There are  160 (192) entries\n",
        "and  500000  sets of samples\n"
       ]
      }
     ],
     "prompt_number": 3
    },
    {
     "cell_type": "code",
     "collapsed": false,
     "input": [
      "# 3.3) Sampling sufficient samples such as M samples in order to approximate\n",
      "#      Target distribution which is joint distribution for all variabels P(A,B,C,D,E,F)\n",
      "p_ABCDEF = {}\n",
      "M = 50000\n",
      "for i in xrange(1,M):\n",
      "    Gibbs.samplingAndUpdate_B()\n",
      "    Gibbs.samplingAndUpdate_A()\n",
      "    Gibbs.samplingAndUpdate_C()\n",
      "    Gibbs.samplingAndUpdate_D()\n",
      "    Gibbs.samplingAndUpdate_E()\n",
      "    Gibbs.samplingAndUpdate_F()\n",
      "    key = Gibbs.get_VarTuple()\n",
      "    if p_ABCDEF.get(key) == None:\n",
      "        p_ABCDEF[key] = 1\n",
      "    else:\n",
      "        p_ABCDEF[key] = p_ABCDEF.get(key) + 1\n",
      "print '\\n-------------Repeat until geting enough samples-----------------------'\n",
      "print 'There are ',len(p_ABCDEF.keys()),' entries for estimating'\n",
      "print 'and ',M,' sets of samples'\n",
      "print '\\n'\n"
     ],
     "language": "python",
     "metadata": {},
     "outputs": [
      {
       "output_type": "stream",
       "stream": "stdout",
       "text": [
        "\n",
        "-------------Repeat until geting enough samples-----------------------\n",
        "There are  109  entries for estimating\n",
        "and  50000  sets of samples\n",
        "\n",
        "\n"
       ]
      }
     ],
     "prompt_number": 4
    },
    {
     "cell_type": "markdown",
     "metadata": {},
     "source": [
      "### Part 2b: Proposed algorithm is a valid MCMC method\n",
      "\n",
      "In the lectures, you have seen that Metropolis Hastings algorithms need to satisfy certain properties. State these properties and show that the proposed algorithm satisfies them."
     ]
    },
    {
     "cell_type": "markdown",
     "metadata": {},
     "source": [
      "##Solution:\n",
      "In the Metropolis-Hasting algorithm , we should make sure the Markov chain to be ergodic and to approach to the required stationary distribution. More specifically, (1) The required distribution which we want to sample from should be invariant of the whole Markov Chain; (2) If we set up a Markov chain which can converge to the required stationary distribution, no matter of the different choice of initial distribution. This kind of Markov chain is ergodic and only have one stationary distribution, which is called equilibrium distribution[1].  \n",
      "\n",
      "In the proposed algorithm, (1) The required distribution which we want to sample from is an invariant of each of the sampling steps individually, so is an invariant of the whole Markov Chain; (2) the Markov chain defined in this algorithm is ergodic, because in our question none of the conditional distributions be anywhere zero so as to any state can be reached from any other state in a finite number of steps involving one update of each of the component variables[1].\n",
      "\n",
      "Reference:\n",
      "[1] Bishop, C. M. (2006). Pattern recognition and machine learning (Vol. 4, No. 4, p. 12). New York: springer."
     ]
    },
    {
     "cell_type": "markdown",
     "metadata": {},
     "source": [
      "### Part 2c: Estimating probabilities[Coding]\n",
      "\n",
      "Use the sampler you implemented above to get estimates of the probabilities below.\n",
      "Choose appropriate values for burn in and the number of samples to use for the empirical probabilities.\n",
      "Plot the empirical probabilities that you obtain for the following:\n",
      "* p(E)\n",
      "* p(E|B=s)\n",
      "* p(E|B=s, C=T)\n"
     ]
    },
    {
     "cell_type": "code",
     "collapsed": false,
     "input": [
      "# 4. Estimate P(E), P(E|B=s), and P(E|B=s, C=True) with target distribution\n",
      "# P(A,B,C,D,E,F)\n",
      "import matplotlib.pyplot as plt\n",
      "# 4.1) P(E) \n",
      "E_False = 0\n",
      "for key in p_ABCDEF.keys():\n",
      "    if key[4] == False:\n",
      "        E_False += p_ABCDEF.get(key)\n",
      "p_E_False = (1.0*E_False)/M\n",
      "p_E = np.array([p_E_False, 1-p_E_False])\n",
      "print 'P(E)'\n",
      "print 'False True'\n",
      "print p_E\n",
      "plt.figure(1)\n",
      "xk = np.arange(2)\n",
      "pk = p_E\n",
      "custm = stats.rv_discrete(name='custm', values=(xk, pk))\n",
      "plt.plot(xk, custm.pmf(xk), 'ro', ms=12, mec='r')\n",
      "plt.vlines(xk, 0, custm.pmf(xk), colors='r', lw=4)\n",
      "plt.title('Estimating P(E)')\n",
      "plt.xlabel('variable(0:False, 1: True)')\n",
      "plt.ylabel('Probability')\n",
      "plt.show()\n",
      "print '\\n'\n",
      "\n",
      "# 4.2) P(E|B=s)\n",
      "E_False = 0\n",
      "E_True = 0\n",
      "for key in p_ABCDEF.keys():\n",
      "    if key[1] == 's':\n",
      "        if key[4] == False:\n",
      "            E_False += p_ABCDEF.get(key)\n",
      "        elif key[4] == True:\n",
      "            E_True  += p_ABCDEF.get(key)\n",
      "if E_True + E_False == 0:\n",
      "    p_E_B_s = np.array([0, 0])\n",
      "else:\n",
      "    p_E_False_B_s = (1.0*E_False)/(E_True + E_False)\n",
      "    p_E_B_s = np.array([p_E_False_B_s, 1-p_E_False_B_s])\n",
      "print 'P(E|B=s)'\n",
      "print 'False True'\n",
      "print p_E_B_s\n",
      "plt.figure(2)\n",
      "pk = p_E_B_s\n",
      "custm = stats.rv_discrete(name='custm', values=(xk, pk))\n",
      "plt.plot(xk, custm.pmf(xk), 'ro', ms=12, mec='r')\n",
      "plt.vlines(xk, 0, custm.pmf(xk), colors='r', lw=4)\n",
      "plt.title('Estimating P(E|B = s)')\n",
      "plt.xlabel('variable(0:False, 1: True)')\n",
      "plt.ylabel('Probability')\n",
      "plt.show()\n",
      "print'\\n'\n",
      "\n",
      "# 4.3) P(E|B=s,C=T)\n",
      "E_False = 0\n",
      "E_True = 0\n",
      "for key in p_ABCDEF.keys():\n",
      "    if key[1] == 's' and key[2] == True:\n",
      "        if key[4] == False:\n",
      "            E_False += p_ABCDEF.get(key)\n",
      "        elif key[4] == True:\n",
      "            E_True  += p_ABCDEF.get(key)\n",
      "if E_True + E_False == 0:\n",
      "    p_E_B_s_C_T = np.array([0, 0])\n",
      "else:\n",
      "    p_E_False_B_s_C_T  = (1.0*E_False)/(E_True + E_False)\n",
      "    p_E_B_s_C_T = np.array([p_E_False_B_s_C_T , 1-p_E_False_B_s_C_T ])\n",
      "print 'P(E|B=s,C=True)'\n",
      "print 'False True'\n",
      "print p_E_B_s_C_T \n",
      "plt.figure(2)\n",
      "pk = p_E_B_s_C_T \n",
      "custm = stats.rv_discrete(name='custm', values=(xk, pk))\n",
      "plt.plot(xk, custm.pmf(xk), 'ro', ms=12, mec='r')\n",
      "plt.vlines(xk, 0, custm.pmf(xk), colors='r', lw=4)\n",
      "plt.title('Estimating P(E|B=s,C=True)')\n",
      "plt.xlabel('variable(0:False, 1: True)')\n",
      "plt.ylabel('Probability')\n",
      "plt.show()\n",
      "print '\\n'\n"
     ],
     "language": "python",
     "metadata": {},
     "outputs": [
      {
       "output_type": "stream",
       "stream": "stdout",
       "text": [
        "P(E)\n",
        "False True\n",
        "[ 0.94888  0.05112]\n"
       ]
      },
      {
       "metadata": {},
       "output_type": "display_data",
       "png": "[encoded data removed]",
       "text": [
        "<matplotlib.figure.Figure at 0x10ccc9d10>"
       ]
      },
      {
       "output_type": "stream",
       "stream": "stdout",
       "text": [
        "\n",
        "\n",
        "P(E|B=s)\n",
        "False True\n",
        "[ 0.44379277  0.55620723]\n"
       ]
      },
      {
       "metadata": {},
       "output_type": "display_data",
       "png": "[encoded data removed]",
       "text": [
        "<matplotlib.figure.Figure at 0x10d12f4d0>"
       ]
      },
      {
       "output_type": "stream",
       "stream": "stdout",
       "text": [
        "\n",
        "\n",
        "P(E|B=s,C=True)\n",
        "False True\n",
        "[ 0.41198502  0.58801498]\n"
       ]
      },
      {
       "metadata": {},
       "output_type": "display_data",
       "png": "[encoded data removed]",
       "text": [
        "<matplotlib.figure.Figure at 0x10cd08c50>"
       ]
      },
      {
       "output_type": "stream",
       "stream": "stdout",
       "text": [
        "\n",
        "\n"
       ]
      }
     ],
     "prompt_number": 5
    },
    {
     "cell_type": "markdown",
     "metadata": {},
     "source": [
      "## Part 3: (7 points) Message Passing[Coding]\n",
      "\n",
      "In this section, we use the same distribution as above."
     ]
    },
    {
     "cell_type": "markdown",
     "metadata": {},
     "source": [
      "### Part 3a: Factor graph\n",
      "\n",
      "Draw the factor graph (in tikz) corresponding to the Bayesian Network above which that consists of the factors:\n",
      "\n",
      "* f(A,B)\n",
      "* f(B,C,D)\n",
      "* f(C)\n",
      "* f(D,E)\n",
      "* f(C,F)\n",
      "\n",
      "Write down the factors in terms of the conditional probability tables above.\n",
      "\n",
      "*The tikz code needs to be in a cell by itself.*"
     ]
    },
    {
     "cell_type": "markdown",
     "metadata": {},
     "source": [
      "##Solution:\n",
      "* f(A,B)=p(B)p(A|B)\n",
      "* f(B,C,D) = p(D|B,C)\n",
      "* f(C)= p(C)\n",
      "* f(D,E)= p(E|D)\n",
      "* f(C,F)= p(F|C)"
     ]
    },
    {
     "cell_type": "code",
     "collapsed": false,
     "input": [
      "%install_ext https://sml.forge.nicta.com.au/isml15/data/tikzmagic.py"
     ],
     "language": "python",
     "metadata": {},
     "outputs": [
      {
       "output_type": "stream",
       "stream": "stdout",
       "text": [
        "Installed tikzmagic.py. To use it, type:\n",
        "  %load_ext tikzmagic\n"
       ]
      }
     ],
     "prompt_number": 2
    },
    {
     "cell_type": "code",
     "collapsed": false,
     "input": [
      "%reload_ext tikzmagic"
     ],
     "language": "python",
     "metadata": {},
     "outputs": [],
     "prompt_number": 3
    },
    {
     "cell_type": "code",
     "collapsed": false,
     "input": [
      "%%tikz --scale 2 --size 700,300 -f jpg\n",
      "\\tikzstyle{vertex}=[circle, draw=black, fill=white, line width=0.5mm, minimum size=25pt, inner sep=0pt]\n",
      "\\tikzstyle{edge} = [draw, line width=1mm, -]\n",
      "\n",
      "\\node[vertex,label=above:{A}] (a) at (0,1) {};\n",
      "\\node[vertex,label=above:{B}] (b) at (2,1) {};\n",
      "\\node[vertex,label=above:{C}] (c) at (4,1) {};\n",
      "\\node[vertex,label=above:{D}] (d) at (6,1) {};\n",
      "\\node[vertex,label=above:{E}] (e) at (8,1) {};\n",
      "\\node[vertex,label=below:{F}] (f) at (10,1) {};\n",
      "\n",
      "\\tikzstyle{vertex}=[rectangle, draw=black, fill=black, line width=0.5mm, minimum size=12pt, inner sep=0pt]\n",
      "\\node[vertex,label=below:{f(A,B)}] (g) at (1,0) {};\n",
      "\\node[vertex,label=below:{f(B,C,D)}] (h) at (3,0) {};\n",
      "\\node[vertex,label=below:{f(C)}] (i) at (5,0) {};\n",
      "\\node[vertex,label=below:{f(D,E)}] (j) at (7,0) {};\n",
      "\\node[vertex,label=below:{f(C,F)}] (k) at (9,0) {};\n",
      "\n",
      "\\foreach \\source/ \\dest in {a/g, g/b, h/b, h/c, h/d,i/c,j/d,j/e,k/c,k/f}\n",
      "        \\path[edge] (\\source) -- (\\dest);"
     ],
     "language": "python",
     "metadata": {},
     "outputs": [
      {
       "jpeg": "[encoded data removed]",
       "metadata": {},
       "output_type": "display_data"
      }
     ],
     "prompt_number": 5
    },
    {
     "cell_type": "markdown",
     "metadata": {},
     "source": [
      "### Part 3b: Messages at leaf nodes\n",
      "\n",
      "Implement the two functions corresponding to when the leaf nodes are variables and factors."
     ]
    },
    {
     "cell_type": "markdown",
     "metadata": {},
     "source": [
      "### Part 3c: Messages at internal nodes\n",
      "\n",
      "Implement the two functions that compute the messages:\n",
      "* going from variable node to factor node\n",
      "* going from factor node to variable node\n",
      "\n",
      "The functions should be flexible enough to work with all the factors and variables with the same interface."
     ]
    },
    {
     "cell_type": "markdown",
     "metadata": {},
     "source": [
      "##Solution of Part 3b and Part 3c:"
     ]
    },
    {
     "cell_type": "code",
     "collapsed": false,
     "input": [
      "import numpy as np\n",
      "\n",
      "class SumProductAlgorithm:\n",
      "    def __init__(self,fDic,varNeiboursDic ,leaf_factor ,leaf_var):\n",
      "        self.fDic = fDic\n",
      "        self.varNeiboursDic = varNeiboursDic\n",
      "        self.leaf_factor = leaf_factor\n",
      "        self.leaf_var = leaf_var\n",
      "        \n",
      "    def miu_leaf_x_f(self,x,f):\n",
      "        \"\"\"\n",
      "            input:\n",
      "                x is the variable name\n",
      "                f is factor name\n",
      "            outout:\n",
      "                a message send from x variable to f factor\n",
      "        \"\"\"\n",
      "        return 1\n",
      "        \n",
      "    def miu_leaf_f_x(self,fx,x):\n",
      "        \"\"\"\n",
      "            input:\n",
      "                x is the variable name\n",
      "                f is factor name\n",
      "            outout:\n",
      "                a message send from x variable to f factor\n",
      "            fDic : a dictionary whose key is factor name and the corresponding values are\n",
      "                the neighours variables set and the value of factor\n",
      "        \"\"\"\n",
      "        return self.fDic.get(fx)[1]\n",
      "        \n",
      "    def miu_x_f(self,x,f):\n",
      "        \"\"\"\n",
      "            input:\n",
      "                x is the variable name\n",
      "                f is factor name\n",
      "            outout:\n",
      "                a message send from x variable to f factor\n",
      "            varNeiboursDic: a dictionary whose key is variable name and the corresponding\n",
      "                values are the neighbours factors set and the name of variable\n",
      "        \"\"\"\n",
      "        result = 1\n",
      "        for h in self.varNeiboursDic.get(x):\n",
      "            if h != f:\n",
      "                if h not in self.leaf_factor:\n",
      "                    result = result * self.miu_f_x(h,x)\n",
      "                else:\n",
      "                    result = result * self.miu_leaf_f_x(h,x)\n",
      "        return result         \n",
      "    \n",
      "    def miu_f_x(self,f,x):\n",
      "        \"\"\"\n",
      "            input:\n",
      "                x is the variable name\n",
      "                f is factor name\n",
      "            outout:\n",
      "                a message send from x variable to f factor\n",
      "            fDic : a dictionary whose key is factor name and the corresponding values are\n",
      "                the neighours variables set and the value of factor\n",
      "        \"\"\"\n",
      "        result = self.fDic.get(f)[1]\n",
      "        miu = None;\n",
      "        for y in self.fDic.get(f)[0]:\n",
      "            if y != x:\n",
      "                if y not in self.leaf_var:\n",
      "                    if miu is None:\n",
      "                        miu = self.miu_x_f(y,f)\n",
      "                    else:\n",
      "                        if miu.ndim == 1:\n",
      "                            length = len(miu)\n",
      "                            miu = np.dot(miu.reshape(length,1), self.miu_x_f(y,f))\n",
      "                        else:\n",
      "                            miu = np.dot(miu, self.miu_x_f(y,f))\n",
      "                else:\n",
      "                    if miu is None:\n",
      "                        miu = self.miu_leaf_x_f(x,f)\n",
      "                    else:\n",
      "                        miu = miu * self.miu_leaf_x_f(x,f)\n",
      "        fNdim = result.ndim\n",
      "        if type(miu) != int:\n",
      "            if miu.ndim == 1:\n",
      "                length = len(miu)\n",
      "                result = miu.reshape(1,length)*result\n",
      "            else:\n",
      "                result = miu*result\n",
      "        else:\n",
      "            result = miu*result \n",
      "        for i in xrange(1, fNdim):\n",
      "            axisNum = -i+fNdim\n",
      "            result = result.sum(axis = axisNum)\n",
      "        return result\n",
      "    \n",
      "    def estimateProbability(self,x):\n",
      "        \"\"\"\n",
      "            input:\n",
      "                x is the variable name\n",
      "                f is factor name\n",
      "            outout:\n",
      "                a message send from x variable to f factor\n",
      "            fDic : a dictionary whose key is factor name and the corresponding values are\n",
      "                the neighours variables set and the value of factor\n",
      "        \"\"\"\n",
      "        result = 1\n",
      "        for h in self.varNeiboursDic.get(x):\n",
      "            if h not in self.leaf_factor:\n",
      "                result = result * self.miu_f_x(h,x)\n",
      "            else:\n",
      "                result = result * self.miu_leaf_f_x(h,x)\n",
      "        return result"
     ],
     "language": "python",
     "metadata": {},
     "outputs": [],
     "prompt_number": 2
    },
    {
     "cell_type": "markdown",
     "metadata": {},
     "source": [
      "### Part 3d: Estimating a marginal distribution\n",
      "\n",
      "Using the sum product algorithm that you have implemented, compute $p(E)$ for the graphical model above."
     ]
    },
    {
     "cell_type": "code",
     "collapsed": false,
     "input": [
      "# 1) Set Known probabilities distribution\n",
      "p_B = np.array([0.97, 0.01, 0.02])\n",
      "p_C = np.array([0.7, 0.3])\n",
      "p_A_B = np.array([[0.9,0.8,0.3],[0.1,0.2,0.7]])\n",
      "# Load P(D|B,C)\n",
      "# axis = 0 represent D (4 variabels)\n",
      "# axis = 1 represent B (3 variabels)\n",
      "# axis = 2 represent C (2 variabels)\n",
      "p_D_BC = np.zeros((4,3,2))\n",
      "p_D_BC[0] = np.array([[0.9, 0.3],[0.8,0.4],[0.1,0.01]])\n",
      "p_D_BC[1] = np.array([[0.08, 0.05],[0.17,0.05],[0.01,0.01]])\n",
      "p_D_BC[2] = np.array([[0.01,0.05],[0.01,0.15],[0.87,0.97]])\n",
      "p_D_BC[3] = np.array([[0.01,0.6],[0.02,0.4],[0.02,0.01]])\n",
      "## E.G. 2by2 matrix with ones = p_D_CB.sum(axis = 0) where first row with C = False\n",
      "## and second row is with C = True\n",
      "p_E_D = np.array([[0.99,0.99,0.4,0.9],[0.01,0.01,0.6,0.1]])\n",
      "p_F_C = np.array([[0.99,0.2],[0.01,0.8]])\n",
      "# 2) Define the graph with variables and factors \n",
      "fDic={} \n",
      "# key: the name of factor\n",
      "# values: a list where first element is the neighbours of this factor\n",
      "# and the second element is the value of this factor in terms of the related \n",
      "# conditional probability\n",
      "fDic['f_ab'] = [['A','B'],p_B.reshape((1,3)).T*p_A_B.T]# P(A,B)\n",
      "fDic['f_bcd']=[['B','C','D'], p_D_BC]# P(D|C,B)\n",
      "fDic['f_c'] =[['C'], p_C.reshape(1,2)]# P(C)\n",
      "fDic['f_de'] = [['D','E'],p_E_D]# P(E|D)\n",
      "fDic['f_cf'] = [['C','F'],p_F_C.T]#P(F|C)\n",
      "varNeiboursDic = {}\n",
      "# key: the name of variable\n",
      "# value: the neighbours name of this variable\n",
      "varNeiboursDic['A'] = ['f_ab']\n",
      "varNeiboursDic['B'] = ['f_ab','f_bcd']\n",
      "varNeiboursDic['C'] = ['f_c','f_cf','f_bcd']\n",
      "varNeiboursDic['D'] = ['f_bcd','f_de']\n",
      "varNeiboursDic['E'] = ['f_de']\n",
      "varNeiboursDic['F'] = ['f_cf']\n",
      "# Define the leaf factors and leaf variables\n",
      "leaf_factor = ['f_c']\n",
      "leaf_var = ['A','E','F']\n",
      "# 3) Start to use sum production algorithm to estimate P(E)\n",
      "sumProductAlg = SumProductAlgorithm(fDic,varNeiboursDic ,leaf_factor ,leaf_var)\n",
      "p_E =  sumProductAlg.estimateProbability('E') \n",
      "print 'P(E)'\n",
      "print '   False     True'\n",
      "print p_E\n"
     ],
     "language": "python",
     "metadata": {},
     "outputs": [
      {
       "output_type": "stream",
       "stream": "stdout",
       "text": [
        "P(E)\n",
        "   False     True\n",
        "[ 0.9500063  0.0499937]\n"
       ]
      }
     ],
     "prompt_number": 3
    },
    {
     "cell_type": "markdown",
     "metadata": {},
     "source": [
      "## Part 4: (3 points) Interpreting results[Coding & Description]\n",
      "\n",
      "Given that you have a cough (i.e. $C=True$), should you go to the hospital? Justify your decision by comparing the probability of an emergency versus the probability of your cough being fast healing."
     ]
    },
    {
     "cell_type": "code",
     "collapsed": false,
     "input": [
      "import numpy as np\n",
      "\n",
      " # 1) Set Varaibels' state list        \n",
      "A = [False, True]\n",
      "B = ['n', 'm', 's']\n",
      "C = [False, True]\n",
      "D = ['healthy', 'carrier', 'sick', 'recovering']\n",
      "E = [False, True]\n",
      "F = [False, True]\n",
      "\n",
      "# 2) Set Known probabilities distribution\n",
      "p_B = np.array([0.97, 0.01, 0.02])\n",
      "p_C = np.array([0.7, 0.3])\n",
      "p_A_B = np.array([[0.9,0.8,0.3],[0.1,0.2,0.7]])\n",
      "# Load P(D|B,C)\n",
      "# axis = 0 represent D (4 variabels)\n",
      "# axis = 1 represent C (2 variabels)\n",
      "# axis = 2 represent B (3 variabels)\n",
      "p_D_BC = np.zeros((4,2,3))\n",
      "p_D_BC[0] = np.array([[0.9, 0.8, 0.1],[0.3,0.4,0.01]])\n",
      "p_D_BC[1] = np.array([[0.08, 0.17, 0.01],[0.05,0.05,0.01]])\n",
      "p_D_BC[2] = np.array([[0.01,0.01,0.87],[0.05,0.15,0.97]])\n",
      "p_D_BC[3] = np.array([[0.01,0.02,0.02],[0.6,0.4,0.01]])\n",
      "## E.G. 2by2 matrix with ones = p_D_BC.sum(axis = 0) where first row with C = False\n",
      "## and second row is with C = True\n",
      "p_E_D = np.array([[0.99,0.99,0.4,0.9],[0.01,0.01,0.6,0.1]])\n",
      "p_F_C = np.array([[0.99,0.2],[0.01,0.8]])\n",
      "\n",
      "# 3) Calculate P(E,F|C)\n",
      "# 3.1) P(D,C,B) = P(D|C,B)P(C)P(B)\n",
      "p_DCB = np.dot(p_C.T.reshape(2,1), p_B.reshape(1,3))*p_D_BC\n",
      "#print p_DCB\n",
      "# 3.2) P(D) = Sum_{B,C}P(D,C,B)\n",
      "p_D =  p_DCB.sum(axis = 2).sum(axis = 1)\n",
      "#print p_D\n",
      "# 3.3) P(E) = sum_{D}P(E,D) = sum_{D}P(E|D)P(D)\n",
      "p_ED =  p_E_D * p_D\n",
      "p_E = p_ED.sum(axis = 1)\n",
      "#print p_E\n",
      "# 3.4) P(F,E|C)\n",
      "p_FE_C1 =  np.dot(p_E.reshape(1,2).T,p_F_C[0].reshape(1,2))\n",
      "p_FE_C2 = np.dot(p_E.reshape(1,2).T,p_F_C[1].reshape(1,2))\n",
      "p_FE_C = np.append(p_FE_C1,p_FE_C2,axis = 0)\n",
      "print 'P(F = False, E = True | C = True) = ',p_FE_C[1,1]\n",
      "print 'P(F = False | C = True) = ',p_FE_C1.sum(axis = 0)[1]\n",
      "print 'P(E = True | C = True) = ',p_FE_C1[1,1]+p_FE_C2[1,1]"
     ],
     "language": "python",
     "metadata": {},
     "outputs": [
      {
       "output_type": "stream",
       "stream": "stdout",
       "text": [
        "P(F = False, E = True | C = True) =  0.00999874\n",
        "P(F = False | C = True) =  0.2\n",
        "P(E = True | C = True) =  0.0499937\n"
       ]
      }
     ],
     "prompt_number": 1
    },
    {
     "cell_type": "raw",
     "metadata": {},
     "source": [
      "I don't agree with that we should go to the hospital if we have a cough (i.e. C = True), after comparing the above three conditional probabilities, such as  \n",
      "P(F = False, E = True | C = True) =  0.00999874\n",
      "P(F = False | C = True) =  0.2\n",
      "P(E = True | C = True) =  0.0499937.\n",
      "\n",
      "I think when we have cough and the probability of being in emergency(P(E = True | C = True)) is large or when we have cough and the probability of being in emergency and being not fast healing(P(F = False, E = True | C = True)) is large, we need to go the hospital immediately. However, we calculate that both of them is samller then 0.05. Though the probability of being not fast healing after we observed that we have cough is 0.2, comparing above two probabilities, I think we don't need to go to hospital immediately."
     ]
    }
   ],
   "metadata": {}
  }
 ]
}