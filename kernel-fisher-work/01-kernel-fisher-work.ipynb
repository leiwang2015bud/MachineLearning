{
 "metadata": {
  "name": "01-kernel-fisher-work.ipynb"
 },
 "nbformat": 3,
 "nbformat_minor": 0,
 "worksheets": [
  {
   "cells": [
    {
     "cell_type": "heading",
     "level": 1,
     "metadata": {},
     "source": [
      "Classification with Kernel Fisher Discriminant"
     ]
    },
    {
     "cell_type": "heading",
     "level": 6,
     "metadata": {},
     "source": [
      "COMP4670/8600 - Introduction to Statistical Machine Learning - Assignment 1 (due: Monday, 20 April, 23:59)"
     ]
    },
    {
     "cell_type": "markdown",
     "metadata": {},
     "source": [
      "Name: Lei Wang\n",
      "\n",
      "Student ID: u5419419"
     ]
    },
    {
     "cell_type": "markdown",
     "metadata": {},
     "source": [
      "## Instructions\n",
      "\n",
      "|             |Notes|\n",
      "|:------------|:--|\n",
      "|Maximum marks| 20|\n",
      "|Weight|20% of final grade|\n",
      "|Format| Complete this ipython notebook. Do not forget to fill in your name and student ID above|\n",
      "|Submission mode| Use [wattle](https://wattle.anu.edu.au/)|\n",
      "|Formulas| All formulas which you derive need to be explained unless you use very common mathematical facts. Picture yourself as explaining your arguments to somebody who is just learning about your assignment. With other words, do not assume that the person marking your assignment knows all the background and therefore you can just write down the formulas without any explanation. It is your task to convince the reader that you know what you are doing when you derive an argument.|\n",
      "| Code quality | Python code should be well structured, use meaningful identifiers for variables and subroutines, and provide sufficient comments. Please refer to the examples given in the tutorials. |\n",
      "| Code efficiency | An efficient implementation of an algorithm uses fast subroutines provided by the language or additional libraries. For the purpose of implementing Machine Learning algorithms in this course, that means using the appropriate data structures provided by Python and in numpy/scipy (e.g. Linear Algebra and random generators). |\n",
      "| Late penalty | For every day (starts at midnight) after the deadline of an assignment, the mark will be reduced by 5%. No assignments shall be accepted if it is later than 10 days. | \n",
      "| Coorperation | All assignments must be done individually. Cheating and plagiarism will be dealt with in accordance with University procedures (please see the ANU policies on [Academic Honesty and Plagiarism](http://academichonesty.anu.edu.au)). Hence, for example, code for programming assignments must not be developed in groups, nor should code be shared. You are encouraged to broadly discuss ideas, approaches and techniques with a few other students, but not at a level of detail where specific solutions or implementation issues are described by anyone. If you choose to consult with other students, you will include the names of your discussion partners for each solution. If you have any questions on this, please ask the lecturer before you act. |\n",
      "| Solution | To be presented in the tutorials. |"
     ]
    },
    {
     "cell_type": "markdown",
     "metadata": {},
     "source": [
      "$\\newcommand{\\dotprod}[2]{\\left\\langle #1, #2 \\right\\rangle}$\n",
      "$\\newcommand{\\onevec}{\\mathbb{1}}$\n",
      "\n",
      "Setting up the environment"
     ]
    },
    {
     "cell_type": "code",
     "collapsed": false,
     "input": [
      "import matplotlib.pyplot as plt\n",
      "import numpy as np\n",
      "import pandas as pd\n",
      "\n",
      "%matplotlib inline"
     ],
     "language": "python",
     "metadata": {},
     "outputs": [],
     "prompt_number": 1
    },
    {
     "cell_type": "markdown",
     "metadata": {},
     "source": [
      "## The data set\n",
      "\n",
      "We will use census data from the [Australian Bureau of Statistics](http://www.abs.gov.au/). The table, which you can [download here](https://sml.forge.nicta.com.au/isml15/data/census_abs2011_summary.csv), contains a set of median and mean values for different regions of Australia.\n",
      "*(optional information, for interest only) The data consists of values from 2011 of Statistical Areas Level 3 (SA3s) which are often functional areas of regional citeis and large urban transport and service hubs. In general they have populations between 30,000 and 130,000 persons. For details, look at the [source at ABS](http://www.abs.gov.au/websitedbs/censushome.nsf/home/data?opendocument&navpos=200).*\n",
      "\n",
      "The following code reads in the data using pandas."
     ]
    },
    {
     "cell_type": "code",
     "collapsed": false,
     "input": [
      "raw_data = pd.read_csv('census_abs2011_summary.csv')\n",
      "print(raw_data.shape)\n",
      "raw_data.head()"
     ],
     "language": "python",
     "metadata": {},
     "outputs": [
      {
       "output_type": "stream",
       "stream": "stdout",
       "text": [
        "(342, 8)\n"
       ]
      },
      {
       "html": [
        "<div style=\"max-height:1000px;max-width:1500px;overflow:auto;\">\n",
        "<table border=\"1\" class=\"dataframe\">\n",
        "  <thead>\n",
        "    <tr style=\"text-align: right;\">\n",
        "      <th></th>\n",
        "      <th>Median_age_of_persons_Census_year_2011</th>\n",
        "      <th>Median_mortgage_repayment_monthly_Census_year_2011</th>\n",
        "      <th>Median_rent_weekly_Census_year_2011</th>\n",
        "      <th>Median_total_family_income_weekly_Census_year_2011</th>\n",
        "      <th>Median_total_household_income_weekly_Census_year_2011</th>\n",
        "      <th>Median_total_personal_income_weekly_Census_year_2011</th>\n",
        "      <th>Average_household_size_Census_year_2011</th>\n",
        "      <th>Average_number_of_persons_per_bedroom_Census_year_2011</th>\n",
        "    </tr>\n",
        "  </thead>\n",
        "  <tbody>\n",
        "    <tr>\n",
        "      <th>0</th>\n",
        "      <td> 41</td>\n",
        "      <td> 1517</td>\n",
        "      <td> 180</td>\n",
        "      <td> 1307</td>\n",
        "      <td> 1015</td>\n",
        "      <td> 533</td>\n",
        "      <td> 2.5</td>\n",
        "      <td> 1.1</td>\n",
        "    </tr>\n",
        "    <tr>\n",
        "      <th>1</th>\n",
        "      <td> 37</td>\n",
        "      <td> 2045</td>\n",
        "      <td> 280</td>\n",
        "      <td> 2069</td>\n",
        "      <td> 1679</td>\n",
        "      <td> 830</td>\n",
        "      <td> 2.6</td>\n",
        "      <td> 1.1</td>\n",
        "    </tr>\n",
        "    <tr>\n",
        "      <th>2</th>\n",
        "      <td> 38</td>\n",
        "      <td> 1300</td>\n",
        "      <td> 200</td>\n",
        "      <td> 1256</td>\n",
        "      <td> 1033</td>\n",
        "      <td> 642</td>\n",
        "      <td> 2.3</td>\n",
        "      <td> 1.1</td>\n",
        "    </tr>\n",
        "    <tr>\n",
        "      <th>3</th>\n",
        "      <td> 49</td>\n",
        "      <td> 1304</td>\n",
        "      <td> 209</td>\n",
        "      <td>  972</td>\n",
        "      <td>  815</td>\n",
        "      <td> 438</td>\n",
        "      <td> 2.3</td>\n",
        "      <td> 1.1</td>\n",
        "    </tr>\n",
        "    <tr>\n",
        "      <th>4</th>\n",
        "      <td> 41</td>\n",
        "      <td> 1950</td>\n",
        "      <td> 280</td>\n",
        "      <td> 1395</td>\n",
        "      <td> 1087</td>\n",
        "      <td> 529</td>\n",
        "      <td> 2.5</td>\n",
        "      <td> 1.1</td>\n",
        "    </tr>\n",
        "  </tbody>\n",
        "</table>\n",
        "</div>"
       ],
       "metadata": {},
       "output_type": "pyout",
       "prompt_number": 2,
       "text": [
        "   Median_age_of_persons_Census_year_2011  \\\n",
        "0                                      41   \n",
        "1                                      37   \n",
        "2                                      38   \n",
        "3                                      49   \n",
        "4                                      41   \n",
        "\n",
        "   Median_mortgage_repayment_monthly_Census_year_2011  \\\n",
        "0                                               1517    \n",
        "1                                               2045    \n",
        "2                                               1300    \n",
        "3                                               1304    \n",
        "4                                               1950    \n",
        "\n",
        "   Median_rent_weekly_Census_year_2011  \\\n",
        "0                                  180   \n",
        "1                                  280   \n",
        "2                                  200   \n",
        "3                                  209   \n",
        "4                                  280   \n",
        "\n",
        "   Median_total_family_income_weekly_Census_year_2011  \\\n",
        "0                                               1307    \n",
        "1                                               2069    \n",
        "2                                               1256    \n",
        "3                                                972    \n",
        "4                                               1395    \n",
        "\n",
        "   Median_total_household_income_weekly_Census_year_2011  \\\n",
        "0                                               1015       \n",
        "1                                               1679       \n",
        "2                                               1033       \n",
        "3                                                815       \n",
        "4                                               1087       \n",
        "\n",
        "   Median_total_personal_income_weekly_Census_year_2011  \\\n",
        "0                                                533      \n",
        "1                                                830      \n",
        "2                                                642      \n",
        "3                                                438      \n",
        "4                                                529      \n",
        "\n",
        "   Average_household_size_Census_year_2011  \\\n",
        "0                                      2.5   \n",
        "1                                      2.6   \n",
        "2                                      2.3   \n",
        "3                                      2.3   \n",
        "4                                      2.5   \n",
        "\n",
        "   Average_number_of_persons_per_bedroom_Census_year_2011  \n",
        "0                                                1.1       \n",
        "1                                                1.1       \n",
        "2                                                1.1       \n",
        "3                                                1.1       \n",
        "4                                                1.1       "
       ]
      }
     ],
     "prompt_number": 2
    },
    {
     "cell_type": "markdown",
     "metadata": {},
     "source": [
      "## (2 points) Plot some characteristics of the data\n",
      "\n",
      "Display the following two summaries of the data. 1)Please label all the axes, and 2)title the plots appropriately.\n",
      "\n",
      "* Plot the median monthly mortgage repayment (horizontal axis) to the median weekly rent (vertical axis)\n",
      "\n",
      "* Plot the histogram of the median age. Use bin boundaries [0,20,30,35,40,45,50,60,80]"
     ]
    },
    {
     "cell_type": "code",
     "collapsed": false,
     "input": [
      "# Solution goes here\n",
      "fig = plt.figure(figsize=(11,5))\n",
      "# 1) first graph\n",
      "#    The median monthly mortgage repayment (horizontal axis) to the median weekly rent (vertical axis)\n",
      "# x = 'Median_mortgage_repayment_monthly_Census_year_2011'\n",
      "# y = 'Median_rent_weekly_Census_year_2011'\n",
      "x = raw_data['Median_mortgage_repayment_monthly_Census_year_2011']\n",
      "y = raw_data['Median_rent_weekly_Census_year_2011']\n",
      "\n",
      "ax = fig.add_subplot(121)\n",
      "ax.plot(x, y, 'g*')\n",
      "ax.set_title('Australian Census 2011 ')\n",
      "ax.set_xlabel('The median monthly mortgage repayment(AUD)')\n",
      "ax.set_ylabel('The median weekly rent(AUD)')\n",
      "\n",
      "# 2) second graph\n",
      "#    The histogram of the median age\n",
      "# Extract the age information\n",
      "age = raw_data['Median_age_of_persons_Census_year_2011']\n",
      "\n",
      "ax = fig.add_subplot(122)\n",
      "ax.hist(age, bins=[0,20,30,35,40,45,50,60,80])       # matplotlib version (plot)\n",
      "ax.set_title('Histogram of the median age')\n",
      "ax.set_xlabel('Age')\n",
      "ax.set_ylabel('The number of people in that age')"
     ],
     "language": "python",
     "metadata": {},
     "outputs": [
      {
       "metadata": {},
       "output_type": "pyout",
       "prompt_number": 3,
       "text": [
        "<matplotlib.text.Text at 0x10c66c5d0>"
       ]
      },
      {
       "metadata": {},
       "output_type": "display_data",
       "png": "[encoded data removed]",
       "text": [
        "<matplotlib.figure.Figure at 0x10c63a410>"
       ]
      }
     ],
     "prompt_number": 3
    },
    {
     "cell_type": "markdown",
     "metadata": {},
     "source": [
      "The binary classification task under consideration is to predict from the other features, whether the median age in a region is 38 or older."
     ]
    },
    {
     "cell_type": "code",
     "collapsed": false,
     "input": [
      "# if age >= 38, labeled with 1\n",
      "# else, labeled with -1.\n",
      "labelvec = np.array(raw_data['Median_age_of_persons_Census_year_2011'])\n",
      "y = np.ones(len(labelvec))\n",
      "neg = labelvec < 38\n",
      "y[neg] = -1 \n",
      "\n",
      "# positive examples: larger than or equal to 38\n",
      "# negative examples: smaller than 38\n",
      "num_pos = len(np.flatnonzero(y > 0))\n",
      "num_neg = len(np.flatnonzero(y < 0))\n",
      "print('Number of positive/negative examples = %d/%d' % (num_pos, num_neg))\n",
      "\n",
      "headers = list(raw_data.columns.values) # get the features' name\n",
      "headers.remove('Median_age_of_persons_Census_year_2011')\n",
      "raw_feat = np.array(raw_data[headers]) # feature matrix without age feature  \n",
      "\n",
      "avg = np.mean(raw_feat,axis = 0)\n",
      "std_dev = np.std(raw_feat, axis = 0)\n",
      "\n",
      "\n",
      "X = (raw_feat-avg)/std_dev # scaled features matrix [-1,1]\n",
      "print X.shape # X is m x n, where m is 342 subjects, n is 7 features\n",
      "print y.shape # y is m x 1, where m is 342 subjects"
     ],
     "language": "python",
     "metadata": {},
     "outputs": [
      {
       "output_type": "stream",
       "stream": "stdout",
       "text": [
        "Number of positive/negative examples = 187/155\n",
        "(342, 7)\n",
        "(342,)\n"
       ]
      }
     ],
     "prompt_number": 4
    },
    {
     "cell_type": "markdown",
     "metadata": {},
     "source": [
      "## (3 points) Classification via Fisher's Linear Discriminant\n",
      "\n",
      "Consider the problem of binary classification. Fisher's criterion is given by:\n",
      "$$\n",
      "J(w) = \\frac{w^T S_B w}{w^T S_W w}\n",
      "$$\n",
      "where $S_B$ is the between class covariance and $S_W$ is the within class covariance.\n",
      "\n",
      "When implementing this as a linear classifier, you need to choose a threshold in projection space. Describe your criteria for choosing a threshold, and justify why it is a good one."
     ]
    },
    {
     "cell_type": "markdown",
     "metadata": {},
     "source": [
      "\n",
      "### 1. Solution description: Describe your criteria for choosing a threshold, and justify why it is a good one.\n",
      "\n",
      "#### (1) What is a threshold?\n",
      "In order to reduce dimensionality, we apply Fisher's linear discriminant method. The key technique of this method is to project the $D$-dimensional input vector $x$ down to one-dimentional vector $w$ using\n",
      "\n",
      "$x_{projection} = w^Tx$\n",
      "\n",
      "If we place a threshold on $x_{projection}$ and classify $x_{projection} \\ge \\omega_0  $ as class $\\textit{C} _1$, and otherwise class $\\textit{C} _2$. \n",
      "\n",
      "#### (2) How to find threshold in theory and why we think it is a good one?\n",
      "We could assume that the each of class histogram resulting from projection onto the vector $w$ is a Gaussian Distribution, $\\aleph(\\mu_1,\\sigma_1^2)$ and $ \\aleph(\\mu_2,\\sigma_2^2)$. That means both of class 1 histogram and class 2 histogram are in same distribution. \n",
      "Based on the property of Gaussian distribution, the majority of points would be centered around the mean($\\mu_i$). The final goal of Fisher's linear discriminant is to decrease the overlap between two class histograms by maximizing $(\\mu_2 - \\mu_1)^2$ and minimizing $(\\sigma_1^2 + \\sigma_2^2)$. Therefore, we would like to choose the midpoint between $\\mu_1$ and $\\mu_2$ as threshold $\\omega_0$. We think it is a good threshold since it is the farthest place for the center of class 1 histogram($\\mu_1$) as well as the center of class 2 histogram($\\mu_2$), where there are a few points ditributed around that place relatively.\n",
      "\n",
      "$\\omega_0 = 0.5 (\\mu_1 + \\mu_2)$\n",
      "\n",
      "#### (3) How to find the threshold using above dataset?\n",
      "Firstly, we need to find the best direction vector $W = S_w^{-1}(m_1 - m_2)$.\n",
      "\n",
      "Secondly, we calculate the projection of each class onto the above direction vector $W$, saying $x_{classi\\_projection} = W^Tx_{classi}$ where $i \\in \\{1,2\\}$.\n",
      "\n",
      "Then, we find the mean for each of class projection, saying $\\mu_i$ where $i \\in \\{1,2\\}$.\n",
      "\n",
      "Finally, we get our threshold as $\\omega_0 = 0.5 (\\mu_1 - \\mu_2)$. \n",
      "\n",
      "*Attention: In case the distributions of class 1 histogram and class 2 histogram, which is resulted from the projection of each class onto direction vector $W$, are really really different from each other, we could plot these two histogram to see whether they are in similar distribution. If they do, we could choose our threshold in this way.*"
     ]
    },
    {
     "cell_type": "markdown",
     "metadata": {},
     "source": [
      "###2. Solution Description: Implement two functions ```train_fld``` and ```predict_fld``` that corresponds to training and prediction. The functions should be used as in the following cell.\n",
      "\n",
      "####(1) Define our Training set\n",
      "If our training set have m subjects and n features for each subject: \n",
      "$\\{(x^{(1)}, y^{(1)}),((x^{(2)}, y^{(2)}), ..., ((x^{(m)}, y^{(m)})\\}$ , where $y \\in \\{-1,1\\}$ \n",
      "\n",
      "$m = a + b$.\n",
      "\n",
      "There are $a$ trainging sets in class 1:\n",
      "$\\{(x^{(1)}, y^{(1)}),((x^{(2)}, y^{(2)}), ..., ((x^{(a)}, y^{(a)})\\}$ , where $y = 1\\}$ \n",
      "\n",
      "There are $b$ trainging sets in class 1:\n",
      "$\\{(x^{(1)}, y^{(1)}),((x^{(2)}, y^{(2)}), ..., ((x^{(b)}, y^{(b)})\\}$ , where $y = -1\\}$ \n",
      "\n",
      "**Attention: Since our feature matrix in this assignment is read as the transpose format of the feature matrix in theory, we should do matrix product caurefully in our assignment, such as we would define our real direction vector $W$ as a row vector, and the projection of a feature matrix would be $x_{projection} = xW^T$.**"
     ]
    },
    {
     "cell_type": "markdown",
     "metadata": {},
     "source": [
      "####(2) Training model in theory\n",
      "The class 1 feature matrix: \n",
      "\n",
      "$ x_{class1} =\n",
      "\\begin{bmatrix}\n",
      "x^{(1)}_1& x^{(2)}_1 & ... & x^{(a)}_1\\\\ x^{(1)}_2& x^{(2)}_2 & ... & x^{(a)}_2\\\\...\\\\ x^{(1)}_n& x^{(2)}_n & ... & x^{(a)}_n\\\\ \n",
      "\\end{bmatrix}\n",
      "=\n",
      "\\begin{bmatrix} \n",
      "x^{(1)}& x^{(2)}&...& x^{(m)} \n",
      "\\end{bmatrix}\n",
      "=\n",
      "\\begin{bmatrix} \n",
      "x_1\\\\ x_2\\\\...\\\\ x_n\\\\ \n",
      "\\end{bmatrix}$,where ($ x_{class1} \\in R^{ n \\times a}$ )\n",
      "\n"
     ]
    },
    {
     "cell_type": "markdown",
     "metadata": {},
     "source": [
      "Thus, we could calculate the means ($m_{class 1}$) and covariance($\\sigma^{2}_{class1}$).\n",
      "\n",
      "$m_{1} = \n",
      "\\begin{bmatrix} \n",
      "\\frac{1}{a}\\sum^{a}_{j = 1}x^{(j)}_1\\\\ \\frac{1}{a}\\sum^{a}_{j = 1}x^{(j)}_2\\\\...\\\\ \\frac{1}{a}\\sum^{a}_{j = 1}x^{(j)}_n\\\\ \n",
      "\\end{bmatrix}\n",
      "=\n",
      "\\begin{bmatrix} \n",
      "m_{class1\\_1}\\\\ m_{class1\\_2}\\\\...\\\\ m_{class1\\_n}\\\\ \n",
      "\\end{bmatrix}$,where ($ m_{ 1} \\in R^{ n \\times 1}$ )"
     ]
    },
    {
     "cell_type": "markdown",
     "metadata": {},
     "source": [
      "$\\sigma^2_{1} = \\sum^{a}_{j = 1}(x^{(i)}-m_1)^2 = \\sum^{a}_{j = 1}(x^{(i)}-m_1)(x^{(i)}-m_1)^T$,where ($ \\sigma^2_{ 1} \\in R^{ n \\times n}$ )"
     ]
    },
    {
     "cell_type": "markdown",
     "metadata": {},
     "source": [
      "Parameter vector(direction vector):\n",
      "\n",
      "$w = \n",
      "\\begin{bmatrix}\n",
      "w_1\\\\ w_2\\\\...\\\\ w_n\\\\ \n",
      "\\end{bmatrix} where w \\in R^{ n \\times 1}$\n",
      "\n",
      "$ x_{projection\\_class1} = w^Tx = \n",
      "\\begin{bmatrix} \n",
      "w_1& w_2&...& w_n \n",
      "\\end{bmatrix}\n",
      "\\begin{bmatrix} \n",
      "x_1\\\\ x_2\\\\...\\\\ x_n\\\\ \n",
      "\\end{bmatrix} = \n",
      "\\begin{bmatrix}\n",
      "x_{projection\\_1\\_class1}, x_{projection\\_2\\_class1},..., x_{projection\\_a\\_class1}\n",
      "\\end{bmatrix} $ where $ x_{projection} \\in R^{ 1 \\times a}\n",
      "$\n",
      "\n",
      "Therefore, \n",
      "$\\mu_1 = \\frac{1}{a}\\sum^{a}_{j = 1}x_{(projection\\_j\\_class1)}$\n",
      "\n"
     ]
    },
    {
     "cell_type": "markdown",
     "metadata": {},
     "source": [
      "**In the same way, we could get $x_{class2}$, $m_2$, $\\sigma_2^2$, $x_{projection\\_class2}$, and $\\mu_2$.**\n",
      "\n",
      ":) Yeah! We could calculate our $S_w$ now !\n",
      "\n",
      "$S_w = \\sigma_1^2 + \\sigma_2^2$\n",
      "\n",
      "Duang! We get the direction vector $W = S_w^{-1}(m_2 - m_1)$\n",
      "\n",
      "After we have the direction vector $W$ we can get the threshold $w_0 = 0.5(\\mu_1 + \\mu_2)$\n",
      "\n",
      "#### (3) Testing model in theory\n",
      "Finally, we could predict new data in the following way.\n",
      "\n",
      "If $W^Tx_{testing} \\ge w_0$, then we annotate this subject with class 1 label,\n",
      "\n",
      "else, we annotate this subject with class 2 label.\n",
      "\n",
      "**Attention Again: Since our feature matrix in this assignment is read as the transpose format of the feature matrix in theory, we should do matrix product caurefully in our assignment, such as we would define our real direction vector $W$ as a row vector, and the projection of a feature matrix would be $x_{projection} = xW^T$, and the direction vector would be $W = (m_2-m_1)S_w^{-1}$.**"
     ]
    },
    {
     "cell_type": "code",
     "collapsed": false,
     "input": [
      "# Solution goes here\n",
      "#################################### Training ######################################\n",
      "def splitXintoTwoClass(X,y):\n",
      "    \"\"\"\n",
      "    This function is to find the subjects in class1(y>0 positive), and in class2(y<=0 negtive)\n",
      "    (narray,narray) ---> (narray, narray)\n",
      "    \"\"\"\n",
      "    class1 = y>0\n",
      "    class2 = y<0\n",
      "    X_class1 =  X[class1]\n",
      "    X_class2 = X[class2]\n",
      "    return X_class1,X_class2\n",
      "# TEST FOR FUNCTION splitXintoTwoClass(X,y)\n",
      "# X_class1,X_class2 = splitXintoTwoClass(X,y)\n",
      "# print 'TEST FOR FUNCTION splitXintoTwoClass(X,y): ',(len(X_class1.shape)==2)\n",
      "\n",
      "def getMeanAndVariance(X_classi):\n",
      "    \"\"\"\n",
      "    This function would give us the mean and variance for each feature of a feature matrix\n",
      "    (narray) ---> (narray, narray)\n",
      "    \"\"\"\n",
      "    m_i = X_classi.mean(axis = 0) # we would calculate the mean of each column(feature) of X_classi\n",
      "    sigma2_i = cov(X_classi.T) # we would calculate the mean of each column(feature) of X_classi\n",
      "    N = X_classi.shape[0]\n",
      "    sigma2_i = sigma2_i*(N-1) # FOLLOW THE LECTURE SLIDS\n",
      "    return m_i,sigma2_i\n",
      "# TEST FOR FUNCTION getMeanAndVariance(X_classi)\n",
      "# X_classi = np.array([[1, 2], [3, 4]])\n",
      "# m_i,sigma2_i = getMeanAndVariance(X_classi)\n",
      "# print 'TEST FOR FUNCTION getMeanAndVariance(X_classi) m_i: ',m_i == array([[2.0,3.0]])\n",
      "# print 'TEST FOR FUNCTION getMeanAndVariance(X_classi) sigma2_i: ',sigma2_i == array([[1.0, 1.0]])\n",
      "\n",
      "def getDirectionVector(S_w, m_1, m_2):\n",
      "    W = dot((m_2-m_1),inv(S_w)) # because our feature matrix is the transpose format of a feature matrix in theory\n",
      "    return W                    # we get W as W = (m2 - m1)S_w^{-1}, we cannot inverse the position of m_2 and m_1\n",
      "\n",
      "def getMuAndProjection(W, X_classi):\n",
      "    X_projection_i = dot(X_classi,W.T)\n",
      "    mu_i = X_projection_i.mean()\n",
      "    return mu_i,X_projection_i\n",
      "    \n",
      "def getThreshold(mu_1,mu_2):\n",
      "    w0 = 0.5*(mu_1 + mu_2)\n",
      "    return w0\n",
      "\"\"\"\n",
      "Evaluation\n",
      "\"\"\"\n",
      "def confusion_matrix(prediction, labels):\n",
      "    \"\"\"Returns the confusion matrix for a list of predictions and (correct) labels\n",
      "        prediction = [y_predict1, y_predict2, ..., y_predictm]\n",
      "        labels = [y_1, y_2, ..., y_m]\n",
      "        \n",
      "        reuturn a matrix\n",
      "        cmatrix = [[tp,fp],[tn,fn]] size: 2 x 2\n",
      "    \"\"\"\n",
      "    assert len(prediction) == len(labels) # make sure there are same example numbers\n",
      "    def f(pr, la):\n",
      "        n = 0\n",
      "        for i in range(len(prediction)):\n",
      "            if prediction[i] == pr and labels[i] == la:\n",
      "                n += 1\n",
      "        return n\n",
      "    return np.matrix([[f(1, 1), f(1, 0)], [f(0, 1), f(0, 0)]])\n",
      "\n",
      "def accuracy(cmatrix):\n",
      "    \"\"\"Returns the accuracy of a confusion matrix\n",
      "        accuracy = correct prediction number / all prediction number\n",
      "    \"\"\"\n",
      "    tp, fp, fn, tn = cmatrix.flatten().tolist()[0]\n",
      "    return 1.0*(tp + tn) / (tp + fp + fn + tn)\n",
      "\n",
      "def balanced_accuracy(cmatrix):\n",
      "    \"\"\"Returns the balanced accuracy of a confusion matrix       \n",
      "    \"\"\"\n",
      "    tp, fp, fn, tn = cmatrix.flatten().tolist()[0]\n",
      "    return 1.0*tp / 2 / (tp + fn) + tn / 2 / (tn + fp)\n",
      "def drawDistribution(X_projection1, X_projection2):\n",
      "    \"\"\"\n",
      "    We would draw the projection distributions of two classes points onto\n",
      "    the direction vector w to see wether they are in similar distribution.\n",
      "    If they do, we could find the threshold by calculate the center of two means \n",
      "    of distributions, like w0 = 0.5*(mu_1 + mu_2).\n",
      "    \"\"\"\n",
      "    plt.hist(X_projection1, bins=50, label='class 1(positive)')\n",
      "    plt.hist(X_projection2, bins=50, label='class 2(negtive)')       # matplotlib version (plot)\n",
      "    plt.legend(loc='upper right')\n",
      "    plt.title('Projection onto the w')\n",
      "    plt.xlabel('projection position')\n",
      "    plt.ylabel('number of people in same projection position')\n",
      "    plt.show()\n",
      "    \n",
      "def train_fld(X,y):\n",
      "#1) split X into two classes\n",
      "    X_class1,X_class2 = splitXintoTwoClass(X,y)\n",
      "#2) Calculate necessary matrix for each feature class\n",
      "    m_1,sigma2_1 = getMeanAndVariance(X_class1)\n",
      "    m_2,sigma2_2 = getMeanAndVariance(X_class2)\n",
      "    S_w = sigma2_1 + sigma2_2\n",
      "#3) get the direction vector\n",
      "    W = 1* getDirectionVector(S_w, m_1, m_2)\n",
      "#4) get the mean for each projection onto the direction vector\n",
      "    mu_1,X_projection_1 = getMuAndProjection(W, X_class1)\n",
      "    mu_2,X_projection_2 = getMuAndProjection(W, X_class2)\n",
      "## check the distribution of histogram of projection for two classes\n",
      "    drawDistribution(X_projection_1, X_projection_2)\n",
      "#5) get the threshold\n",
      "    w0 = getThreshold(mu_1,mu_2)\n",
      "    return W,w0\n",
      "\n",
      "\n",
      "###################################### Testing ##################################\n",
      "def predict_fld(W, w0,X):\n",
      "    X_projection = dot(X,W.T)\n",
      "#     class2 = X_projection < w0\n",
      "#     pred = np.ones(len(X))\n",
      "#     pred[class2] = -1\n",
      "    pred = np.sign(X_projection - w0)\n",
      "    return pred"
     ],
     "language": "python",
     "metadata": {},
     "outputs": [],
     "prompt_number": 5
    },
    {
     "cell_type": "code",
     "collapsed": false,
     "input": [
      "XTraining = X\n",
      "yTraining = y\n",
      "W,w0 = train_fld(XTraining,yTraining)\n",
      "print w0\n",
      "\n",
      "XTesting = X\n",
      "pred = predict_fld(W,w0,XTesting)\n",
      "# print pred\n",
      "\n",
      "cmatrix = confusion_matrix((pred+1)/2,(y+1)/2)\n",
      "print cmatrix\n",
      "print accuracy(cmatrix),balanced_accuracy(cmatrix)"
     ],
     "language": "python",
     "metadata": {},
     "outputs": [
      {
       "metadata": {},
       "output_type": "display_data",
       "png": "[encoded data removed]",
       "text": [
        "<matplotlib.figure.Figure at 0x10b732c10>"
       ]
      },
      {
       "output_type": "stream",
       "stream": "stdout",
       "text": [
        "0.000163362516641\n",
        "[[ 48 113]\n",
        " [139  42]]\n",
        "0.263157894737 0.128342245989\n"
       ]
      }
     ],
     "prompt_number": 6
    },
    {
     "cell_type": "markdown",
     "metadata": {},
     "source": [
      "## (4 points) Kernels\n",
      "\n",
      "Recall and write down the definitions corresponding to the Gaussian kernel and the inhomogenous polynomial kernel. Please be precise about the meaning of each symbol *(1 point)*."
     ]
    },
    {
     "cell_type": "markdown",
     "metadata": {},
     "source": [
      "### Solution\n",
      "####1.The Gaussian kernel and the inhomogenous polynomial kernel.\n",
      "#####(1) Gaussian kernel\n",
      "\n",
      "$k(\\mathbf{x},\\mathbf{z}) = e^{(- \\frac{\\left \\| \\mathbf{x}-\\mathbf{z} \\right \\|^2}{2\\sigma^2})}$\n",
      "\n",
      "$\\sigma >0$: The width of kernel window\n",
      "\n",
      "####(2) Inhomogeneous kernel\n",
      "\n",
      "$k(\\mathbf{x},\\mathbf{z}) = (< \\mathbf{x},\\mathbf{z}>+c)^p$\n",
      "\n",
      "$c$ is a constant\n",
      "\n",
      "$p$ is the degree, and also is a constant.\n"
     ]
    },
    {
     "cell_type": "markdown",
     "metadata": {},
     "source": [
      "#### (3) Define $\\mathbf{x}$ and $\\mathbf{z}$ for above kernels\n",
      "If our training set have m subjects and n features: $\\{(x^{(1)}, y^{(1)}),((x^{(2)}, y^{(2)}), ..., ((x^{(m)}, y^{(m)})\\}$ , where $y \\in \\{-1,1\\}$ \n",
      "\n",
      "$ x_{orginal} =\n",
      "\\begin{bmatrix}\n",
      "x^{(1)}_1& x^{(2)}_1 & ... & x^{(m)}_1\\\\ x^{(1)}_2& x^{(2)}_2 & ... & x^{(m)}_2\\\\...\\\\ x^{(1)}_n& x^{(2)}_n & ... & x^{(m)}_n\\\\ \n",
      "\\end{bmatrix}\n",
      "= \\begin{bmatrix} \\mathbf{x^{(1)}_{orginal}} & \\mathbf{x^{(2)}_{orginal}}&...&\\mathbf{x^{(M)}_{orginal}} \\end{bmatrix}\n",
      "$,where ($ x_{orginal} \\in R^{ n \\times m}$ )\n",
      "\n",
      "In order to use kernel, we define the $\\mathbf{x}$ and $\\mathbf{z}$ we could consider each subject as following\n",
      "\n",
      "$\\mathbf{x} \\in \\{ \\mathbf{x^{(1)}_{orginal}}, \\mathbf{x^{(2)}_{orginal}},...,\\mathbf{x^{(M)}_{orginal}}\\}$ where $\\mathbf{x} \\in R^{n \\times 1}$\n",
      "\n",
      "$\\mathbf{z} \\in \\{ \\mathbf{x^{(1)}_{orginal}}, \\mathbf{x^{(2)}_{orginal}},...,\\mathbf{x^{(M)}_{orginal}}\\}$ where $\\mathbf{z} \\in R^{n \\times 1}$"
     ]
    },
    {
     "cell_type": "markdown",
     "metadata": {},
     "source": [
      "###2. Implement two functions corresponding to the kernels above *(2 points)*."
     ]
    },
    {
     "cell_type": "code",
     "collapsed": false,
     "input": [
      "def gaussianKernel(x,z,sigma):\n",
      "    \"\"\"\n",
      "    x: the column vector for each subject, where includes all features\n",
      "    z: landmarks, the column vector for each subject, where includes all features\n",
      "    sigma: a constant\n",
      "    return a constant k, we could view it as the similarity of x and z\n",
      "    \"\"\"\n",
      "    k = exp(-1.0 *power(norm(x - z),2)/(2.0*power(sigma,2)) )\n",
      "    return k\n",
      "\n",
      "#TEST\n",
      "# a = array([[2,1]])\n",
      "# b = array([[1,0]])\n",
      "# print a.T,'\\n', b.T\n",
      "# print power(norm(a-b),2)\n",
      "# print power(3,2)\n",
      "# print gaussianKernel(a,b,3)\n",
      "\n",
      "def inhomoKernel(x,z,c,p):\n",
      "    \"\"\"\n",
      "    x: the column vector for each subject, where includes all features\n",
      "    z: landmarks, the column vector for each subject, where includes all features\n",
      "    c,p : a constant\n",
      "    return a constant from k, where k array only have one element\n",
      "    \n",
      "    \"\"\"\n",
      "    k = power((inner(x,z)+c*1.0),p)\n",
      "    return k\n",
      "\n",
      "#TEST\n",
      "# a = array([[2,1]])\n",
      "# b = array([[1,0]])\n",
      "# print a.T,'\\n', b.T\n",
      "# print inhomoKernel(a,b,1,2)\n"
     ],
     "language": "python",
     "metadata": {},
     "outputs": [],
     "prompt_number": 7
    },
    {
     "cell_type": "markdown",
     "metadata": {},
     "source": [
      "Compute the kernel matrix on all the examples above, and plot the eigenvalues of the kernel matrix. Show results for the Gaussian kernel with width $\\sigma=1.1$ and the polynomial kernel with $c=1$ of order 2 and 3 *(1 point)*."
     ]
    },
    {
     "cell_type": "code",
     "collapsed": false,
     "input": [
      "def getGaussianKernelMatrix(X,sigma):\n",
      "    \"\"\"\n",
      "    X: the origianl feature matrix, where X \\in R^{n \\times m}\n",
      "    sigma : a given constant\n",
      "    return K: the gaussian kernel matrix, where K \\in R^{m \\times m}\n",
      "    \"\"\"\n",
      "    n,m = X.shape\n",
      "    K = zeros((m,m))\n",
      "    for j in xrange(0, m):\n",
      "        for i in xrange(0, m):\n",
      "            xi = X[:,i]\n",
      "            xj = X[:,j]\n",
      "            kij = gaussianKernel(xi,xj,sigma)\n",
      "            K[i,j] += kij\n",
      "    return K\n",
      "\n",
      "# Test\n",
      "# a = array([[2,1],[1,0]])\n",
      "# print getGaussianKernelMatrix(a,3)\n",
      "\n",
      "def getInhomoKernelMatrix(X,c,p):\n",
      "    \"\"\"\n",
      "    X: the origianl feature matrix, where X \\in R^{n \\times m}\n",
      "    sigma : a given constant\n",
      "    return K: the gaussian kernel matrix, where K \\in R^{m \\times m}\n",
      "    \"\"\"\n",
      "    n,m = X.shape\n",
      "    K = zeros((m,m))\n",
      "    for j in xrange(0, m):\n",
      "        for i in xrange(0, m):\n",
      "            xi = X[:,i]\n",
      "            xj = X[:,j]\n",
      "            kij = inhomoKernel(xi,xj,c,p)\n",
      "            K[i,j] += kij\n",
      "    return K\n",
      "# Test\n",
      "# a = array([[2,1],[1,0]])\n",
      "# print getInhomoKernelMatrix(a,1,2)   \n",
      "\n",
      "def plotEigenValues(K):\n",
      "    la, v = linalg.eig(K)\n",
      "    # eigenvalues\n",
      "    m,m= K.shape\n",
      "    xaxis = np.r_[1:m+1]\n",
      "    yaxis = la\n",
      "    plt.plot(xaxis,yaxis,'x')\n",
      "    #difine the range of x axis and y axis \n",
      "    plt.title('Eigen values for Kernel matrix')\n",
      "    plt.xlabel('Each egien vector')\n",
      "    plt.ylabel('egien value')\n",
      "    plt.show()\n",
      "# Test\n",
      "# a = array([[2,1],[1,0]])\n",
      "# K = getInhomoKernelMatrix(a,1,2) \n",
      "# plotEigenValues(K)"
     ],
     "language": "python",
     "metadata": {},
     "outputs": [],
     "prompt_number": 9
    },
    {
     "cell_type": "code",
     "collapsed": false,
     "input": [
      "Xkernel = X.T\n",
      "sigma = 1.1\n",
      "KGaussian = getGaussianKernelMatrix(Xkernel,sigma)\n",
      "c1 = 1\n",
      "p1 = 2\n",
      "Kinhomo1 = getInhomoKernelMatrix(Xkernel,c1,p1) \n",
      "c2 = 1\n",
      "p2 = 3\n",
      "Kinhomo2 = getInhomoKernelMatrix(Xkernel,c2,p2)"
     ],
     "language": "python",
     "metadata": {},
     "outputs": [],
     "prompt_number": 10
    },
    {
     "cell_type": "code",
     "collapsed": false,
     "input": [
      "print ('There are',KGaussian.shape[0], 'eigen values')\n",
      "print' Gaussian kernel with sigma = 1.1'\n",
      "plotEigenValues(KGaussian)"
     ],
     "language": "python",
     "metadata": {},
     "outputs": [
      {
       "output_type": "stream",
       "stream": "stdout",
       "text": [
        "('There are', 342, 'eigen values')\n",
        " Gaussian kernel with sigma = 1.1\n"
       ]
      },
      {
       "metadata": {},
       "output_type": "display_data",
       "png": "[encoded data removed]",
       "text": [
        "<matplotlib.figure.Figure at 0x10cc43190>"
       ]
      }
     ],
     "prompt_number": 11
    },
    {
     "cell_type": "code",
     "collapsed": false,
     "input": [
      "print ('There are',Kinhomo1.shape[0],'eigen values')\n",
      "print ' Polynomial kernel with c=1 of order 2'\n",
      "plotEigenValues(Kinhomo1)"
     ],
     "language": "python",
     "metadata": {},
     "outputs": [
      {
       "output_type": "stream",
       "stream": "stdout",
       "text": [
        "('There are', 342, 'eigen values')\n",
        " Polynomial kernel with c=1 of order 2\n"
       ]
      },
      {
       "output_type": "stream",
       "stream": "stderr",
       "text": [
        "/Users/bud/Library/Enthought/Canopy_64bit/User/lib/python2.7/site-packages/numpy/core/numeric.py:460: ComplexWarning: Casting complex values to real discards the imaginary part\n",
        "  return array(a, dtype, copy=False, order=order)\n"
       ]
      },
      {
       "metadata": {},
       "output_type": "display_data",
       "png": "[encoded data removed]",
       "text": [
        "<matplotlib.figure.Figure at 0x10d30f810>"
       ]
      }
     ],
     "prompt_number": 12
    },
    {
     "cell_type": "code",
     "collapsed": false,
     "input": [
      "print ('There are',Kinhomo2.shape[0], 'eigen values')\n",
      "print ' Polynomial kernel with c=1 of order 3'\n",
      "plotEigenValues(Kinhomo2)"
     ],
     "language": "python",
     "metadata": {},
     "outputs": [
      {
       "output_type": "stream",
       "stream": "stdout",
       "text": [
        "('There are', 342, 'eigen values')\n",
        " Polynomial kernel with c=1 of order 3\n"
       ]
      },
      {
       "metadata": {},
       "output_type": "display_data",
       "png": "[encoded data removed]",
       "text": [
        "<matplotlib.figure.Figure at 0x10d33dd10>"
       ]
      }
     ],
     "prompt_number": 13
    },
    {
     "cell_type": "markdown",
     "metadata": {},
     "source": [
      "## (4 points) Normalisation in using kernels\n",
      "\n",
      "You have seen the importance of normalisation in the tutorials.\n",
      "\n",
      "In the following, we use the fact that kernels ($k(\\cdot, \\cdot)$) are inner products in a feature space with feature mapping $\\phi(\\cdot)$:\n",
      "$$k(x,y) = \\dotprod{\\phi(x)}{\\phi(y)}$$\n",
      "\n",
      "### Centering\n",
      "\n",
      "Centering causes the mean of the data set to be the zero vector in feature space. The following is a derivation for doing the centering directly using kernels.\n",
      "\n",
      "$$\n",
      "\\mu = \\frac{1}{n}\\sum_{i=1}^n \\phi(x_i)\n",
      "$$\n",
      "then\n",
      "$$\n",
      "\\hat{\\phi}(x) = \\phi(x) - \\mu.\n",
      "$$\n",
      "Hence\n",
      "\\begin{align*}\n",
      "\\hat{k}(x,y) &= \\dotprod{\\hat{\\phi}(x)}{\\hat{\\phi}(y)}\\\\\n",
      "    &= \\dotprod{\\phi(x) - \\mu}{\\phi(y) - \\mu}\n",
      "\\end{align*}\n",
      "\n",
      "Justify and explain the above steps."
     ]
    },
    {
     "cell_type": "markdown",
     "metadata": {},
     "source": [
      "### Solution description\n",
      "#### 1. Basic defination\n",
      "Given a finite subset $S = \\{\\mathbf{x_1}, \\mathbf{x_2}, ..., \\mathbf{x_n}\\}$ of an input space $\\mathbf{X}$, a kernel $k(\\mathbf{x}, \\mathbf{y})$ and a feature map $\\phi$ into a feature space $\\mathbf{F}$ satisfying\n",
      "\n",
      "$k(\\mathbf{x}, \\mathbf{y}) = <\\phi(\\mathbf{x}),\\phi(\\mathbf{y})> = \\phi(\\mathbf{x})^T\\phi(\\mathbf{y}) = \\phi(\\mathbf{y})^T\\phi(\\mathbf{x}) $ ,where $\\mathbf{x}$ and $\\mathbf{y}$ are both a column vector.\n",
      "\n",
      "Thus, we could get the image of the finite subset $S$ after feature mapping, that is $\\phi(S) = \\{\\phi(\\mathbf{x_1}),\\phi(\\mathbf{x_2}),...,\\phi(\\mathbf{x_n})\\}$. Now elements in collection $\\phi(S)$ are a subset of the inner product space $F$. With specific arranging a set of inner product of different combination of two elements in $\\phi(S)$, we could get the kernel matrix as $\\mathbf{K} = k(\\mathbf{x_i},\\mathbf{x_j})$, where $i,j = 1,2,...,n$.\n",
      "\n",
      "The reason why our observation focus on a kernel-defined feature space $F$ but not directly on the vector $\\phi(\\mathbf{x})$ is that sometimes we cannot find a way to access to each components of such kind of vector. Thus, we would like to evaluate the inner products between two kinds of vector, such as $k(\\mathbf{x}, \\mathbf{y}) = <\\phi(\\mathbf{x}),\\phi(\\mathbf{y})>$.\n"
     ]
    },
    {
     "cell_type": "markdown",
     "metadata": {},
     "source": [
      "#### 2. The meaning of $\\mu$\n",
      "In feature space $F$, we assume that we could calculate the centre of mass of the set $\\mu = \\phi_S$ as\n",
      "\n",
      "$\\phi_S = \\frac{1}{n}\\sum_{i = 1}^{n}\\phi(x_i)$, where $\\phi_S$ is a column vector.\n",
      "\n",
      "However, since we cannot figure out what explicit components in vector $\\phi(\\mathbf{x})$, we also are not sure what the explicit components in vector $\\phi_S$. In this case we need to pay attention to this points. \n",
      "####3 The meaning of $\\hat{\\phi}(x)$\n",
      "Actually,  $\\hat{\\phi}(x)$ is the distance from the centre of mass $\\mu =\\phi_S$.\n",
      "\n",
      " $\\hat{\\phi}(x)$ = $\\phi(x)-\\phi_S $\n",
      "\n",
      "####4 Proof for existence of new kernel $\\hat{k}(\\mathbf{x},\\mathbf{y})$\n",
      "The reason why we want to transform to kernel format is that we could only observe inner products between the distance from the centre of mass $\\phi_S$ of two points which are in set $S$.\n",
      "\n",
      "Considering$< \\hat{\\phi}(x), \\hat{\\phi}(y)>$\n",
      "\n",
      "$= < \\phi(x)-\\phi_S ,\\phi(y)-\\phi_S >$\n",
      "\n",
      "$= (\\phi(x)-\\phi_S)^T(\\phi(y)-\\phi_S)\n",
      "= (\\phi(x)^T-\\phi_S^T)(\\phi(y)-\\phi_S)$\n",
      "\n",
      "$= \\phi(x)^T\\phi(y)-\\phi_S^T\\phi(y)-\\phi(x)^T\\phi_S+\\phi_S^T\\phi_S$\n",
      "\n",
      "$= k(x,y)-\\frac{1}{n}\\sum_{i = 1}^{n}k(x_i,y)-\\frac{1}{n}\\sum_{i = 1}^{n}k(x,x_i)+\\frac{1}{n^2}\\sum_{i,j = 1}^{n}k(x_i,x_j)$\n",
      "\n",
      "We find $< \\hat{\\phi}(x), \\hat{\\phi}(y)>$ is a linear combination of several known kernel function $k(x,y)$. \n",
      "\n",
      "Therefore, we could define a new kernel function as $\\hat{k}(\\mathbf{x},\\mathbf{y}) = < \\hat{\\phi}(x), \\hat{\\phi}(y)>$\n",
      "\n",
      "####5 Centering  operation on the kenerl matrix\n",
      "$\\hat{\\mathbf{K}} = \\mathbf{K} - \\mathbf{J} - \\mathbf{J}^T + \\mathbf{E}$\n",
      "\n",
      "$\\mathbf{J} = \\frac{1}{n}\\mathbf{1_{nx1}}\\mathbf{1_{1xn}}\\mathbf{K}$\n",
      "\n",
      "$\\mathbf{E} = \\frac{1}{n^2}(\\mathbf{1_{1xn}}\\mathbf{K}\\mathbf{1_{nx1}})\\mathbf{1_{nx1}}\\mathbf{1_{1xn}}$\n",
      "\n",
      "$\\mathbf{1_{ixj}} = \\begin{bmatrix} 1 & 1 &... &1\\\\ 1 & 1 &... &1\\\\...\\\\ 1 & 1 &... &1 \\end{bmatrix}$, where $\\mathbf{1_{ixj}} \\in R^{i \\times j}$ "
     ]
    },
    {
     "cell_type": "markdown",
     "metadata": {},
     "source": [
      "### Unit diagonal\n",
      "\n",
      "It is often convenient to have all the examples to be represented by vectors of the same length. This implies that the diagonal of the kernel matrix (the squared length) is the same for all examples. We arbitrarily (without loss of generality) set this length to 1.\n",
      "\\begin{align*}\n",
      "\\hat{k}(x,y) &= \\dotprod{\\frac{\\phi(x)}{\\|\\phi(x)\\|}}{\\frac{\\phi(y)}{\\|\\phi(y)\\|}}\\\\\n",
      "    &= \\frac{1}{\\|\\phi(x)\\|\\|\\phi(y)\\|}\\dotprod{\\phi(x)}{\\phi(y)}\\\\\n",
      "    &= \\frac{1}{\\|\\phi(x)\\|\\|\\phi(y)\\|} k(x,y)\n",
      "\\end{align*}\n",
      "\n",
      "Normalizing the kernel matrix such that it has one along the diagonal is sometimes called trace normalisation or spherical normalisation.\n",
      "\n",
      "Justify and explain each step of the derivation above.\n"
     ]
    },
    {
     "cell_type": "markdown",
     "metadata": {},
     "source": [
      "### Solution description\n",
      "####1 Norm of feature vector\n",
      "$\\|\\phi(x)\\|= \\sqrt{\\left \\| \\phi(x) \\right \\|^2} = \\sqrt{ \\left \\langle \\phi(x) ,\\phi(x)  \\right \\rangle} = \\sqrt{k(x,x)}$\n",
      "####2 Normalisation for feature vector\n",
      "\\begin{align*}\\frac{\\phi(x)}{\\|\\phi(x)\\|} = \\frac{\\phi(x)}{\\sqrt{k(x,x)}}\\end{align*}\n",
      "####3 Proof for existence of new kernel $\\hat{k}(x,y)$\n",
      "Considering\n",
      "\n",
      "\\begin{align*}\\dotprod{\\frac{\\phi(x)}{\\|\\phi(x)\\|}}{\\frac{\\phi(y)}{\\|\\phi(y)\\|}}\\\\\n",
      "    &= \\frac{\\dotprod{\\phi(x)}{\\phi(y)}}{\\|\\phi(x)\\|\\|\\phi(y)\\|}\\\\\n",
      "    &= \\frac{ k(x,y)}{\\|\\phi(x)\\|\\|\\phi(y)\\|}\\\\\n",
      "    &= \\frac{k(x,y)}{\\sqrt{k(x,x)}\\sqrt{k(y,y)}} \\end{align*}\n",
      "####4 Normalising a kernel matrix\n",
      "We know our kernel matrix is\n",
      "\n",
      "$ \\mathbf{K} =\n",
      "\\begin{bmatrix}\n",
      "k(x_1,x_1)& k(x_1,x_2) & ... & k(x_1,x_n)\\\\\n",
      "k(x_2,x_1)& k(x_2,x_2) & ... & k(x_2,x_n)\\\\\n",
      "...\\\\\n",
      "k(x_n,x_1)& k(x_n,x_2) & ... & k(x_n,x_n)\\\\ \n",
      "\\end{bmatrix}\n",
      "$,where ($\\mathbf{K} \\in R^{ n \\times n}$ )\n",
      "\n",
      "If we transform each element in above kernel matrix with $\\hat{k}(x,y)$, we could get the normalised kernel matrix as following.\n",
      "\n",
      "$ \\hat{\\mathbf{K}}=\n",
      "\\begin{bmatrix}\n",
      "\\frac{1}{\\sqrt{k(x_1,x_1)}}k(x_1,x_1)\\frac{1}{\\sqrt{k(x_1,x_1)}}& \\frac{1}{\\sqrt{k(x_1,x_1)}}k(x_1,x_2)\\frac{1}{\\sqrt{k(x_2,x_2)}} & ... & \\frac{1}{\\sqrt{k(x_1,x_1)}}k(x_1,x_n)\\frac{1}{\\sqrt{k(x_n,x_n)}}\\\\\n",
      "\\frac{1}{\\sqrt{k(x_2,x_2)}}k(x_2,x_1)\\frac{1}{\\sqrt{k(x_1,x_1)}}& \\frac{1}{\\sqrt{k(x_2,x_2)}}k(x_2,x_2)\\frac{1}{\\sqrt{k(x_2,x_2)}} & ... & \\frac{1}{\\sqrt{k(x_2,x_2)}}k(x_2,x_n)\\frac{1}{\\sqrt{k(x_n,x_n)}}\\\\\n",
      "...\\\\\n",
      "\\frac{1}{\\sqrt{k(x_n,x_n)}}k(x_n,x_1)\\frac{1}{\\sqrt{k(x_1,x_1)}}& \\frac{1}{\\sqrt{k(x_n,x_n)}}k(x_n,x_2)\\frac{1}{\\sqrt{k(x_2,x_2)}} & ... & \\frac{1}{\\sqrt{k(x_n,x_n)}}k(x_n,x_n)\\frac{1}{\\sqrt{k(x_n,x_n)}}\\\\ \n",
      "\\end{bmatrix}\n",
      "$,where ($\\hat{\\mathbf{K}} \\in R^{ n \\times n}$ )\n",
      "\n",
      "We build a diagonal matrix to store the inverse of the norms as $D$.\n",
      "\n",
      "$ \\mathbf{D}=\n",
      "\\begin{bmatrix}\n",
      "\\frac{1}{\\sqrt{k(x_1,x_1)}}& 0 &0& ... & 0\\\\\n",
      "0& \\frac{1}{\\sqrt{k(x_2,x_2)}}&0& ... & 0\\\\\n",
      "0&0& \\frac{1}{\\sqrt{k(x_3,x_3)}}& ... & 0\\\\\n",
      "...\\\\\n",
      "0& 0&0& ... & \\frac{1}{\\sqrt{k(x_n,x_n)}}\\\\ \n",
      "\\end{bmatrix}\n",
      "$,where ($\\mathbf{D} \\in R^{ n \\times n}$ )\n",
      "\n",
      "Thus, our normalised kernel matrix could be formed by orignal kernel matrix and diagonal matrix.\n",
      "\n",
      "$ \\hat{\\mathbf{K}}= \\mathbf{D}\\mathbf{K}\\mathbf{D} $\n"
     ]
    },
    {
     "cell_type": "code",
     "collapsed": false,
     "input": [
      "\n",
      "\"\"\"\n",
      "Centering and Normalisation of kernel\n",
      "\"\"\"\n",
      "# Centering\n",
      "def center(K):\n",
      "    \"\"\"Center the kernel matrix, such that the mean (in feature space) is zero.\"\"\"\n",
      "    n = K.shape[0]\n",
      "    one_nx1 = np.ones((n,1))\n",
      "    one_nxn = np.ones((n,n))\n",
      "    D = K.mean(axis = 0)\n",
      "    J = one_nx1*D\n",
      "    E = D.mean()*one_nxn\n",
      "    C = K - J -J.T +E   \n",
      "    return C\n",
      "\n",
      "#Normalising\n",
      "def normalise_unit_diag(K):\n",
      "    \"\"\"Normalise the kernel matrix, such that all diagonal entries are 1.\"\"\"\n",
      "    D_vector = 1.0/np.sqrt(np.diag(K)) \n",
      "    D = np.diag(D_vector, k = 0)\n",
      "    R = np.dot(D,np.dot(K,D))\n",
      "    return R\n",
      "# #Testing\n",
      "# a = array([[1,2,3],[4,5,6],[7,8,9]])\n",
      "# R = normalise_unit_diag(a)\n",
      "# print R"
     ],
     "language": "python",
     "metadata": {},
     "outputs": [],
     "prompt_number": 14
    },
    {
     "cell_type": "markdown",
     "metadata": {},
     "source": [
      "$\\newcommand{\\dotprod}[2]{\\left\\langle #1, #2 \\right\\rangle}$\n",
      "$\\newcommand{\\onevec}{\\mathbb{1}}$\n",
      "## (3 points) Kernelising Fisher's Discriminant\n",
      "\n",
      "### Definition\n",
      "Consider a binary classification task.\n",
      "Recall from the lecture that Fisher's criterion is given by:\n",
      "$$\n",
      "J(w) = \\frac{(m_2 - m_1)^2}{s_1^2 + s_2^2}\n",
      "$$\n",
      "where $m_1$ and $m_2$ are the means of class $\\mathcal{C}_1$ and $\\mathcal{C}_2$ respectively, and $s_1^2$ and $s_2^2$ are the corresponding within class variances.\n",
      "\n",
      "Write down the definition of $m_1, m_2, s_1, s_2$ in terms of the examples $\\mathbf{x}$ and the labels $y$. Please define all your symbols carefully, in particular $\\mathbf{w}$."
     ]
    },
    {
     "cell_type": "markdown",
     "metadata": {},
     "source": [
      "### Solution\n",
      "\n",
      "####(1) Assumption\n",
      "If our training set have m subjects and n features for each subject: \n",
      "$\\{(x^{(1)}, y^{(1)}),((x^{(2)}, y^{(2)}), ..., ((x^{(m)}, y^{(m)})\\}$ , where $y \\in \\{-1,1\\}$ \n",
      "\n",
      "$m = a + b$.\n",
      "\n",
      "There are $a$ trainging sets in class 1:\n",
      "$\\{(x^{(1)}, y^{(1)}),((x^{(2)}, y^{(2)}), ..., ((x^{(a)}, y^{(a)})\\}$ , where $y = 1\\}$ \n",
      "\n",
      "There are $b$ trainging sets in class 1:\n",
      "$\\{(x^{(1)}, y^{(1)}),((x^{(2)}, y^{(2)}), ..., ((x^{(b)}, y^{(b)})\\}$ , where $y = -1\\}$ \n",
      "####(2) More detials on feature matrix\n",
      "The class 1 feature matrix: \n",
      "\n",
      "$ \\mathbf{x}_{class1} =\n",
      "\\begin{bmatrix}\n",
      "x^{(1)}_1& x^{(2)}_1 & ... & x^{(a)}_1\\\\ x^{(1)}_2& x^{(2)}_2 & ... & x^{(a)}_2\\\\...\\\\ x^{(1)}_n& x^{(2)}_n & ... & x^{(a)}_n\\\\ \n",
      "\\end{bmatrix}\n",
      "=\n",
      "\\begin{bmatrix} \n",
      "\\mathbf{x}_1\\\\ \\mathbf{x}_2\\\\...\\\\ \\mathbf{x}_n\\\\ \n",
      "\\end{bmatrix}$,where ($ \\mathbf{x}_{class1} \\in R^{ n \\times a}$ )\n",
      "\n",
      "We can describe the class 2 feature matrix $ x_{class2}$ in the same way.\n",
      "\n",
      "####(3) Define the projection:\n",
      "\n",
      "In order to reduce dimensionality, we apply Fisher's linear discriminant method. The key technique of this method is to project the D-dimensional input vector $\\mathbf{x}$ down to one-dimentional vector $\\mathbf{w}$ using\n",
      "\n",
      "$ \\mathbf{x}_{projection}=\\mathbf{w}^T\\mathbf{x} $\n",
      "\n",
      "where direction vector:\n",
      "\n",
      "$ \\mathbf{w} = \n",
      "\\begin{bmatrix}\n",
      "w_1\\\\ w_2\\\\...\\\\ w_n\\\\ \n",
      "\\end{bmatrix}$ where $w \\in R^{ n \\times 1}$\n",
      "\n",
      "$ \\mathbf{x}_{projection\\_class1} = \\mathbf{w}^T\\mathbf{x_{class1}} = \n",
      "\\begin{bmatrix} \n",
      "w_1& w_2&...& w_n \n",
      "\\end{bmatrix}\n",
      "\\begin{bmatrix} \n",
      "x_1\\\\ x_2\\\\...\\\\ x_n\\\\ \n",
      "\\end{bmatrix} = \n",
      "\\begin{bmatrix}\n",
      "x_{projection\\_1\\_class1}, x_{projection\\_2\\_class1},..., x_{projection\\_a\\_class1}\n",
      "\\end{bmatrix} $ where $ x_{projection\\_1\\_class1} \\in R^{ 1 \\times a}$\n",
      "\n",
      "We also could provide the class 2 projection in the same way.\n",
      "\n",
      "####(4) Define $m_i$ and $S_i^2$\n",
      "After we get the projection of both classes onto direction vector $\\mathbf{w}$, we could find  $m_i$ and $S_i^2$ where $i = \\{1,2\\}$.\n",
      "\n",
      "$m_1 = \\frac{1}{a}\\sum^{a}_{j = 1}x_{(projection\\_j\\_class1)} $, where $m_1$ is a constant.\n",
      "\n",
      "$S_1^2 = \\sum^{a}_{j = 1}(x_{(projection\\_j\\_class1)} - m_1)^2$\n",
      "\n",
      "$m_2 = \\frac{1}{b}\\sum^{b}_{j = 1}x_{(projection\\_j\\_class2)}$, where $m_2$ is a constant.\n",
      "\n",
      "$S_2^2 = \\sum^{b}_{j = 1}(x_{(projection\\_j\\_class2)} - m_2)^2$\n",
      "\n"
     ]
    },
    {
     "cell_type": "markdown",
     "metadata": {},
     "source": [
      "### Matrix form\n",
      "\n",
      "Observe that you can express the sum of a set of vectors as a product of a vector of ones, $\\onevec$ and a matrix containing the vectors. Define matrices $\\mathbf{X}_1$ and $\\mathbf{X}_2$ as the data corresponding to class $C_1$ and $C_2$ respectively. Please specify the dimensions carefully. Using these definitions, derive the expression for the numerator of $J(w)$, i.e. $(m_2 - m_1)^2$ where the data only appears in terms of the matrices $\\mathbf{X}_1\\mathbf{X}_1^T$, $\\mathbf{X}_1\\mathbf{X}_2^T$, $\\mathbf{X}_2\\mathbf{X}_1^T$ and $\\mathbf{X}_2\\mathbf{X}_2^T$. There could be other vectors, for example $\\mathbf{w}$."
     ]
    },
    {
     "cell_type": "markdown",
     "metadata": {},
     "source": [
      "### Solution\n",
      "####(1) Define the mean of row vector $\\mathbf{x}$ wih matrix form\n",
      "$\\mathbf{x} = \\begin{bmatrix} x_1& x_2&...& x_m \\end{bmatrix}$ where $\\mathbf{x} \\in R^{1 \\times m}$\n",
      "\n",
      "$mean = \\frac{1}{m}\\sum^{m}_{i = 1}x_i  = \\frac{1}{m}\\begin{bmatrix} x_1& x_2&...& x_m \\end{bmatrix}\\begin{bmatrix} 1\\\\ 1\\\\...\\\\ 1 \\end{bmatrix} = \\frac{1}{m}\\mathbf{x}\\mathbf{1_{mx1}}$  ,where $\\mathbf{1_{mx1}} \\in R^{m \\times 1}$.\n",
      "\n",
      "Thus, according to the above assumption, we define\n",
      "\n",
      "$m_1 = \\frac{1}{a}\\sum^{a}_{j = 1}x_{projection\\_j\\_class1} = \\frac{1}{a}\\mathbf{X}_{projection\\_class1}\\mathbf{1_{ax1}}=\n",
      "\\frac{1}{a}\\mathbf{w}^T\\mathbf{X}_1\\mathbf{1_{ax1}}$,where $\\mathbf{1_{ax1}} \\in R^{a \\times 1}$ and $a$ is the number of subjects in class 1.\n",
      "\n",
      "$m_2 = \\frac{1}{b}\\sum^{b}_{j = 1}x_{projection\\_j\\_class2} = \\frac{1}{b}\\mathbf{X}_{projection\\_class2}\\mathbf{1_{bx1}}=\n",
      "\\frac{1}{b}\\mathbf{w}^T\\mathbf{X}_2\\mathbf{1_{bx1}}$,where $\\mathbf{1_{bx1}} \\in R^{b \\times 1}$ and $b$ is the number of subjects in class 2."
     ]
    },
    {
     "cell_type": "markdown",
     "metadata": {},
     "source": [
      "####(2) Define the square of row vector $\\mathbf{x}$ wih matrix form\n",
      "$\\mathbf{x} = \\begin{bmatrix} x_1& x_2&...& x_m \\end{bmatrix}$ where $\\mathbf{x} \\in R^{1 \\times m}$\n",
      "\n",
      "$\\mathbf{x}\\mathbf{x}^T = \\begin{bmatrix} x_1& x_2&...& x_m \\end{bmatrix}\\begin{bmatrix} x_1\\\\ x_2\\\\...\\\\ x_m \\end{bmatrix} = x_1^2 + x_2^2 + ... + x_m^2$\n",
      "\n",
      "If $m = 1$, that means there is only on element in row vector $\\mathbf{x}$, so\n",
      "\n",
      "$\\mathbf{x} = \\begin{bmatrix} x_1\\end{bmatrix}$ where $\\mathbf{x} \\in R^{1 \\times 1}$\n",
      "\n",
      "$\\mathbf{x}\\mathbf{x}^T = x_1^2$\n",
      "\n",
      "####(3) Define the $(m_2- m_1)^2$ with matrix form\n",
      "If we define\n",
      "\n",
      "$\\mathbf{m_1} = \\begin{bmatrix} (m_1)\\end{bmatrix} = m_1\\mathbf{1_{1x1}}$ where $\\mathbf{m_1}, \\mathbf{1_{1x1}} \\in R^{1 \\times 1}$\n",
      "\n",
      "$\\mathbf{m_2} = \\begin{bmatrix} (m_2)\\end{bmatrix}= m_2\\mathbf{1_{1x1}}$ where $\\mathbf{m_2}, \\mathbf{1_{1x1}} \\in R^{1 \\times 1}$\n",
      "\n",
      "\n",
      "we build a matrix $\\mathbf{x} = \\mathbf{m_2}-\\mathbf{m_1} = \\begin{bmatrix} (m_2- m_1)\\end{bmatrix}$ where $\\mathbf{x} \\in R^{1 \\times 1}$\n",
      "\n",
      "$\\mathbf{x}\\mathbf{x}^T = (\\mathbf{m_2}-\\mathbf{m_1})(\\mathbf{m_2}-\\mathbf{m_1})^T= (m_2- m_1)^2$\n",
      "\n",
      "and from (1) we know $m_1=\\frac{1}{a}\\mathbf{w}^T\\mathbf{X}_1\\mathbf{1_{ax1}}$,where $\\mathbf{1_{ax1}} \\in R^{a \\times 1}$ and $a$ is the number of subjects in class 1. $m_2=\\frac{1}{b}\\mathbf{w}^T\\mathbf{X}_2\\mathbf{1_{bx1}}$,where $\\mathbf{1_{bx1}} \\in R^{b \\times 1}$ and $b$ is the number of subjects in class 2.\n",
      "\n",
      "so we get\n",
      "\n",
      "$\\mathbf{m_1} = m_1\\mathbf{1_{1x1}} =\\frac{1}{a}\\mathbf{w}^T\\mathbf{X}_1\\mathbf{1_{ax1}} \\mathbf{1_{1x1}}$, where $\\mathbf{1_{ax1}} \\in R^{a \\times 1}$ and $\\mathbf{1_{1x1}} \\in R^{1 \\times 1}$\n",
      "\n",
      "$\\mathbf{m_2} = m_2\\mathbf{1_{1x1}} =\\frac{1}{b}\\mathbf{w}^T\\mathbf{X}_2\\mathbf{1_{bx1}} \\mathbf{1_{1x1}}$, where $\\mathbf{1_{bx1}} \\in R^{b \\times 1}$ and $\\mathbf{1_{1x1}} \\in R^{1 \\times 1}$\n",
      "\n",
      "Thus,\n",
      "\n",
      "$\\mathbf{x}\\mathbf{x}^T=(\\mathbf{m_2}-\\mathbf{m_1})(\\mathbf{m_2}-\\mathbf{m_1})^T = (m_2- m_1)^2$\n",
      "\n",
      "=\n",
      "$(\\frac{1}{b}\\mathbf{w}^T\\mathbf{X}_2\\mathbf{1_{bx1}} \n",
      "\\mathbf{1_{1x1}}-\\frac{1}{a}\\mathbf{w}^T\\mathbf{X}_1\\mathbf{1_{ax1}}\n",
      "\\mathbf{1_{1x1}})(\\frac{1}{b}\\mathbf{w}^T\\mathbf{X}_2\\mathbf{1_{bx1}} \n",
      "\\mathbf{1_{1x1}}-\\frac{1}{a}\\mathbf{w}^T\\mathbf{X}_1\\mathbf{1_{ax1}} \\mathbf{1_{1x1}})^T$\n",
      "\n",
      "=\n",
      "$(\\mathbf{w}^T(\\frac{1}{b}\\mathbf{X}_2\\mathbf{1_{bx1}} \n",
      "\\mathbf{1_{1x1}}-\\frac{1}{a}\\mathbf{X}_1\\mathbf{1_{ax1}}\\mathbf{1_{1x1}}))\n",
      "(\\mathbf{w}^T(\\frac{1}{b}\\mathbf{X}_2\\mathbf{1_{bx1}} \n",
      "\\mathbf{1_{1x1}}-\\frac{1}{a}\\mathbf{X}_1\\mathbf{1_{ax1}} \\mathbf{1_{1x1}}))^T $\n",
      "\n",
      "=\n",
      "$\\mathbf{w}^T(\\frac{1}{b}\\mathbf{X}_2\\mathbf{1_{bx1}} \n",
      "\\mathbf{1_{1x1}}-\\frac{1}{a}\\mathbf{X}_1\\mathbf{1_{ax1}}\\mathbf{1_{1x1}})\n",
      "(\\frac{1}{b}\\mathbf{X}_2\\mathbf{1_{bx1}} \\mathbf{1_{1x1}}-\\frac{1}{a}\\mathbf{X}_1\\mathbf{1_{ax1}} \\mathbf{1_{1x1}})^T\\mathbf{w} $\n",
      "\n",
      "=\n",
      "$\\mathbf{w}^T(\\frac{1}{b}\\mathbf{X}_2\\mathbf{1_{bx1}}-\\frac{1}{a}\\mathbf{X}_1\\mathbf{1_{ax1}})\n",
      "(\\frac{1}{b}\\mathbf{X}_2\\mathbf{1_{bx1}}-\\frac{1}{a}\\mathbf{X}_1\\mathbf{1_{ax1}})^T\\mathbf{w} $\n",
      "\n",
      "=\n",
      "$\\mathbf{w}^T(\\frac{1}{b}\\mathbf{X}_2\\mathbf{1_{bx1}}-\\frac{1}{a}\\mathbf{X}_1\\mathbf{1_{ax1}})\n",
      "(\\frac{1}{b}\\mathbf{1_{1xb}}\\mathbf{X}_2^T-\\frac{1}{a}\\mathbf{1_{1xa}}\\mathbf{X}_1^T)\\mathbf{w} $\n",
      "\n",
      "=\n",
      "$\\mathbf{w}^T(\n",
      "\\frac{1}{b^2}\\mathbf{X}_2\\mathbf{1_{bx1}}\\mathbf{1_{1xb}}\\mathbf{X}_2^T\n",
      "-\\frac{1}{ab}\\mathbf{X}_1\\mathbf{1_{ax1}}\\mathbf{1_{1xb}}\\mathbf{X}_2^T \n",
      "-\\frac{1}{ab}\\mathbf{X}_2\\mathbf{1_{bx1}}\\mathbf{1_{1xa}}\\mathbf{X}_1^T\n",
      "+\\frac{1}{a^2}\\mathbf{X}_1\\mathbf{1_{ax1}}\\mathbf{1_{1xa}}\\mathbf{X}_1^T\n",
      ")\\mathbf{w} $\n",
      "\n",
      "=\n",
      "$\\mathbf{w}^T(\n",
      "\\frac{1}{b^2}\\mathbf{X}_2\\mathbf{1_{bxb}}\\mathbf{X}_2^T\n",
      "-\\frac{1}{ab}\\mathbf{X}_1\\mathbf{1_{axb}}\\mathbf{X}_2^T \n",
      "-\\frac{1}{ab}\\mathbf{X}_2\\mathbf{1_{bxa}}\\mathbf{X}_1^T\n",
      "+\\frac{1}{a^2}\\mathbf{X}_1\\mathbf{1_{axa}}\\mathbf{X}_1^T\n",
      ")\\mathbf{w} $\n",
      "\n",
      "where vector of one $\\mathbf{1_{ixj}} \\in R^{i \\times j}$ and $a$ is the number of subjects in class 1, $b$ is the number of subjects in class 2.\n",
      "\n",
      "$\\mathbf{1_{ixj}} = \\begin{bmatrix} 1 & 1 &... &1\\\\ 1 & 1 &... &1\\\\...\\\\ 1 & 1 &... &1 \\end{bmatrix}$.\n"
     ]
    },
    {
     "cell_type": "markdown",
     "metadata": {},
     "source": [
      "#### (4) Define the $S_1^2+ S_2^2$\n",
      "\n",
      "Based above method, we could define \n",
      "\n",
      "$S_1^2 = \\sum^{a}_{j = 1}(x_{(projection\\_j\\_class1)} - m_1)^2 =\n",
      "( x_{(projection\\_j\\_class1)} - m_1\\mathbf{1_{1xa}})\n",
      "( x_{(projection\\_j\\_class1)} - m_1\\mathbf{1_{1xa}})^T\n",
      "=(\\mathbf{w}^T\\mathbf{X_1} - \\frac{1}{a}\\mathbf{w}^T\\mathbf{X_1}\\mathbf{1_{ax1}}\\mathbf{1_{1xa}})\n",
      "(\\mathbf{w}^T\\mathbf{X_1} - \\frac{1}{a}\\mathbf{w}^T\\mathbf{X_1}\\mathbf{1_{ax1}}\\mathbf{1_{1xa}})^T$\n",
      "\n",
      "=$\\mathbf{w}^T(\\mathbf{X_1} - \\frac{1}{a}\\mathbf{X_1}\\mathbf{1_{axa}})\n",
      "(\\mathbf{X_1} - \\frac{1}{a}\\mathbf{X_1}\\mathbf{1_{axa}})^T\\mathbf{w}$\n",
      "\n",
      "=$\\mathbf{w}^T(\\mathbf{X_1} - \\frac{1}{a}\\mathbf{X_1}\\mathbf{1_{axa}})\n",
      "(\\mathbf{X_1}^T - \\frac{1}{a}\\mathbf{1_{axa}}\\mathbf{X_1}^T)\\mathbf{w}$\n",
      "\n",
      "=$\\mathbf{w}^T(\\mathbf{X_1}\\mathbf{X_1}^T - \\frac{1}{a}\\mathbf{X_1}\\mathbf{1_{axa}}\\mathbf{X_1}^T -\n",
      "\\frac{1}{a}\\mathbf{X_1}\\mathbf{1_{axa}}\\mathbf{X_1}^T + \\frac{1}{a^2}\\mathbf{X_1}\\mathbf{1_{axa}}\\mathbf{1_{axa}}\\mathbf{X_1}^T)\\mathbf{w}$\n",
      "\n",
      "=$\\mathbf{w}^T(\\mathbf{X_1}\\mathbf{X_1}^T - \\frac{1}{a}\\mathbf{X_1}\\mathbf{1_{axa}}\\mathbf{X_1}^T)\\mathbf{w}$\n",
      "\n",
      "=$\\mathbf{w}^T\\mathbf{X_1}(\\mathbf{I_{axa}}- \\frac{1}{a}\\mathbf{1_{axa}})\\mathbf{X_1}^T\\mathbf{w}$ \n",
      "\n",
      "since the matrix $\\mathbf{1_{axa}}\\mathbf{1_{axa}} = a\\mathbf{1_{axa}}$\n",
      "where $\\mathbf{1_{axa}} = \\begin{bmatrix} 1 & 1 &... &1\\\\ 1 & 1 &... &1\\\\...\\\\ 1 & 1 &... &1 \\end{bmatrix}$, \n",
      "$\\mathbf{I_{axa}} = \\begin{bmatrix} 1 & 0 &... &0\\\\ 0 & 1 &... &0\\\\...\\\\ 0 & 0 &... &1 \\end{bmatrix}$\n",
      "and $\\mathbf{1_{axa}},\\mathbf{I_{axa}} \\in R^{a \\times a}$\n",
      "\n",
      "Then we could get $S_2^2$ in same way\n",
      "\n",
      "$S_2^2 =\n",
      "\\mathbf{w}^T\\mathbf{X_2}(\\mathbf{I_{bxb}}- \\frac{1}{b}\\mathbf{1_{bxb}})\\mathbf{X_2}^T\\mathbf{w}$ \n",
      "\n",
      "where $\\mathbf{1_{bxb}} = \\begin{bmatrix} 1 & 1 &... &1\\\\ 1 & 1 &... &1\\\\...\\\\ 1 & 1 &... &1 \\end{bmatrix}$, \n",
      "$\\mathbf{I_{bxb}} = \\begin{bmatrix} 1 & 0 &... &0\\\\ 0 & 1 &... &0\\\\...\\\\ 0 & 0 &... &1 \\end{bmatrix}$\n",
      "and $\\mathbf{1_{bxb}},\\mathbf{I_{bxb}} \\in R^{b \\times b}$"
     ]
    },
    {
     "cell_type": "markdown",
     "metadata": {},
     "source": [
      "Thus, we get\n",
      "\n",
      "$S_1^2+ S_2^2 = \n",
      "\\mathbf{w}^T\\mathbf{X_1}(\\mathbf{I_{axa}}- \\frac{1}{a}\\mathbf{1_{axa}})\\mathbf{X_1}^T\\mathbf{w} \n",
      "+\n",
      "\\mathbf{w}^T\\mathbf{X_2}(\\mathbf{I_{bxb}}- \\frac{1}{b}\\mathbf{1_{bxb}})\\mathbf{X_2}^T\\mathbf{w}$\n",
      "\n",
      "$=\n",
      "\\mathbf{w}^T(\\mathbf{X_1}(\\mathbf{I_{axa}}- \\frac{1}{a}\\mathbf{1_{axa}})\\mathbf{X_1}^T \n",
      "+\n",
      "\\mathbf{X_2}(\\mathbf{I_{bxb}}- \\frac{1}{b}\\mathbf{1_{bxb}})\\mathbf{X_2}^T)\\mathbf{w}\n",
      "$"
     ]
    },
    {
     "cell_type": "markdown",
     "metadata": {},
     "source": [
      "####(5) Combine above all to get $J(w)$ in matrix form\n",
      "\n",
      "\\begin{align*}J(w) = \\frac{(m_2 - m_1)^2}{S_1^2 + S_2^2} \\end{align*}\n",
      "\n",
      "\\begin{align*}=\\frac{\\mathbf{w}^T(\n",
      "\\frac{1}{b^2}\\mathbf{X}_2\\mathbf{1_{bxb}}\\mathbf{X}_2^T\n",
      "-\\frac{1}{ab}\\mathbf{X}_1\\mathbf{1_{axb}}\\mathbf{X}_2^T \n",
      "-\\frac{1}{ab}\\mathbf{X}_2\\mathbf{1_{bxa}}\\mathbf{X}_1^T\n",
      "+\\frac{1}{a^2}\\mathbf{X}_1\\mathbf{1_{axa}}\\mathbf{X}_1^T\n",
      ")\\mathbf{w} }{\n",
      "\\mathbf{w}^T(\\mathbf{X_1}(\\mathbf{I_{axa}}- \\frac{1}{a}\\mathbf{1_{axa}})\\mathbf{X_1}^T \n",
      "+\n",
      "\\mathbf{X_2}(\\mathbf{I_{bxb}}- \\frac{1}{b}\\mathbf{1_{bxb}})\\mathbf{X_2}^T)\\mathbf{w}\n",
      "}\n",
      "\\end{align*}\n",
      "\n",
      "where $a$ is the number of subjects in class 1, vector of one $\\mathbf{I_{bx1}} \\in R^{b \\times 1}$ and $b$ is the number of subjects in class 2, \n",
      "\n",
      "and\n",
      "$\\mathbf{1_{ixj}} = \\begin{bmatrix} 1 & 1 &... &1\\\\ 1 & 1 &... &1\\\\...\\\\ 1 & 1 &... &1 \\end{bmatrix}$, \n",
      "$\\mathbf{I_{ixj}} = \\begin{bmatrix} 1 & 0 &... &0\\\\ 0 & 1 &... &0\\\\...\\\\ 0 & 0 &... &1 \\end{bmatrix}$\n",
      "and $\\mathbf{1_{ixj}},\\mathbf{I_{ixj}} \\in R^{i \\times j}$\n"
     ]
    },
    {
     "cell_type": "markdown",
     "metadata": {},
     "source": [
      "### Kernel form\n",
      "\n",
      "The above matrix forms $\\mathbf{X}_1\\mathbf{X}_1^T$, $\\mathbf{X}_1\\mathbf{X}_2^T$, $\\mathbf{X}_2\\mathbf{X}_1^T$ and $\\mathbf{X}_2\\mathbf{X}_2^T$ can be considered to be the special case of the linear kernel, i.e. $\\phi(x) = x$. Observe that the numerator of Fisher's criterion can be expressed purely as inner products between examples. It turns out that the denominator can also be expressed purely as inner products.\n"
     ]
    },
    {
     "cell_type": "markdown",
     "metadata": {},
     "source": [
      "Implement Kernel Fisher's Discriminant such that it can take a general kernel function. This is the function of the form:\n",
      "$$\n",
      "J(\\alpha) = \\frac{\\alpha M \\alpha}{\\alpha N \\alpha}\n",
      "$$\n",
      "where $M$ and $N$ are defined on the following [Wikipedia entry](http://en.wikipedia.org/wiki/Kernel_Fisher_discriminant_analysis)."
     ]
    },
    {
     "cell_type": "markdown",
     "metadata": {},
     "source": [
      "###Solution\n",
      "Before we start implementing Kernel Fisher's Discriminant analysis(KFDA), we would like to make a short summary about it.\n",
      "\n",
      "The basic idea of KFDA is to find a good direction vector $W$ in feature space $F$. The projections of two set ${\\phi(x_i)}^{a}_{i = 1}$ of class1 and ${\\phi(x_i)}^{b}_{i = 1}$ of class2 which are projected onto this direction vector would be well seperated, where $a+b = m$ The seperation between two set is measured by the ratio of the error square between projections' mean and sum of projections' covariance. The good direction vector $W$ and  optimal decision boundry can be calculated as same idea as in linear fisher's discriminant analysis. The key thing is that we need to use $k(x,y)$ to replace $\\phi(x)^T\\phi(y)$.\n",
      "#### 1. Basic defination\n",
      "Given a finite subset $S = \\{\\mathbf{x_1}, \\mathbf{x_2}, ..., \\mathbf{x_n}\\}$ of an input space $\\mathbf{X}$, and  $\\mathbf{y}$ the label vector of corresponding  $\\mathbf{X}$,  a kernel $k(\\mathbf{x}, \\mathbf{z})$ and a feature map $\\phi$ into a feature space $\\mathbf{F}$ satisfying\n",
      "\n",
      "$k(\\mathbf{x}, \\mathbf{z}) = <\\phi(\\mathbf{x}),\\phi(\\mathbf{z})> = \\phi(\\mathbf{x})^T\\phi(\\mathbf{z}) = \\phi(\\mathbf{z})^T\\phi(\\mathbf{x}) $ ,where $\\mathbf{x}$ and $\\mathbf{z}$ are both a column vector.\n",
      "\n",
      "$\\mathbf{X} = \\begin{bmatrix} x^{(1)}\\\\ x^{(2)}\\\\...\\\\ x^{(m)} \\end{bmatrix}$ where $\\mathbf{X} \\in R^{m \\times n}$\n",
      "$\\mathbf{y} = \\begin{bmatrix} y^{(1)}\\\\ y^{(2)}\\\\...\\\\ y^{(m)} \\end{bmatrix}$ where $\\mathbf{y} \\in R^{m \\times 1}$\n",
      "\n",
      "\n",
      "Thus, we could get the image of the finite subset $S$ after feature mapping, that is $\\phi(S) = \\{\\phi(\\mathbf{x_1}),\\phi(\\mathbf{x_2}),...,\\phi(\\mathbf{x_n})\\}$. Now elements in collection $\\phi(S)$ are a subset of the inner product space $F$. With specific arranging a set of inner product of different combination of two elements in $\\phi(S)$, we could get the kernel matrix as $\\mathbf{K} = k(\\mathbf{x_i},\\mathbf{x_j})$, where $i,j = 1,2,...,n$.\n",
      "\n",
      "\n",
      "$\\mathbf{\\phi(x)} = \\begin{bmatrix} \\phi(x^{(1)})\\\\ \\phi(x^{(2)})\\\\...\\\\ \\phi(x^{(m)}) \\end{bmatrix}$ where $\\mathbf{\\phi(x)} \\in R^{m \\times p}$\n",
      "\n",
      "The reason why our observation focus on a kernel-defined feature space $F$ but not directly on the vector $\\phi(\\mathbf{x})$ is that sometimes we cannot find a way to access to each components of such kind of vector. Thus, we would like to evaluate the inner products between two kinds of vector, such as $k(\\mathbf{x}, \\mathbf{y}) = <\\phi(\\mathbf{x}),\\phi(\\mathbf{y})>$."
     ]
    },
    {
     "cell_type": "markdown",
     "metadata": {},
     "source": [
      "####2. Optimal direction $w^*$\n",
      "$w^* = \\phi(x)^Ta^*$, where $w^* \\in R^{p \\times 1}$\n",
      "\n",
      "$a^* =(\\mathbf{B}\\mathbf{K}+\\lambda\\mathbf{I})^{-1}\\mathbf{y}\n",
      "$, where $a^{*} \\in R^{m \\times 1}$\n",
      "\n",
      "$\\lambda$ is a positive regularization paramether.\n",
      "$K$ is the kernel matrix for training data $\\mathbf{X}$\n",
      "\n",
      "$B = D - C_a - C_b$\n",
      "\n",
      "$D$ is a diagonal matrix with entries, where\n",
      "\n",
      "$D_{ii}$ = $2b/m$   if $y^{(i)} = +1$ or $D_{ii}$= $2a/m$   if $y^{(i)} = -1$\n",
      "\n",
      "and \n",
      "$C_{a\\_ij}$ = $2b/am$   if $y^{(i)} = +1 = y^{(j)}$ or $C_{a\\_ij}$= 0$   otherwise\n",
      "\n",
      "and\n",
      "$C_{b\\_ij}$ = $2a/bm$   if $y^{(i)} = +1 = y^{(j)}$ or $C_{b\\_ij}$= 0$   otherwise\n",
      "\n",
      "$\\mathbf{I_{ixj}} = \\begin{bmatrix} 1 & 0 &... &0\\\\ 0 & 1 &... &0\\\\...\\\\ 0 & 0 &... &1 \\end{bmatrix}$\n",
      "and $\\mathbf{I_{ixj}} \\in R^{i \\times j}$"
     ]
    },
    {
     "cell_type": "markdown",
     "metadata": {},
     "source": [
      "####3. Optimal decision boundry and threshold choossing\n",
      "We can get the new projection of one subject from testing data $\\phi(x_{testing}^{(j)})$ onto the direction vetor $w^*$ is $\\phi(x_{testing}^{(j)})w^*$\n",
      "\n",
      "If $\\phi(x_{testing}^{(j)})w^*$ $\\geqslant threshold$, then $\\phi(x_{testing}^{(j)})$ belongs to class 1,\n",
      "\n",
      "else $\\phi(x_{testing}^{(j)})$ belongs to class 2.\n",
      "\n",
      "#### (1) Optimal decision boundry\n",
      "We could dirive the projection as follwoing.\n",
      "\n",
      "$\\phi(x_{testing}^{(j)})w^*$\n",
      "=$\\sum^{m}_{i = 1}\\phi(x_{testing}^{(j)})\\phi(x^{(i)})^Ta_i^*$\n",
      "=$\\sum^{m}_{i = 1}a_i^*k(x_{testing}^{(j)},x^{(i)})$\n",
      "\n",
      "If we have testing data like\n",
      "\n",
      "$\\mathbf{x_{testing}} = \\begin{bmatrix} x_{testing}^{(1)}\\\\ x_{testing}^{(2)}\\\\...\\\\ x_{testing}^{(t)} \\end{bmatrix}$ where $\\mathbf{x_{testing}} \\in R^{t \\times 1}$\n",
      "\n",
      "we would have \n",
      "\n",
      "$\\begin{bmatrix} D_{prediction}^{(1)}\\\\ D_{prediction}^{(2)}\\\\...\\\\ D_{prediction}^{(m)} \\end{bmatrix} = \\phi(x_{testing})w^*$\n",
      "=$\\begin{bmatrix}\n",
      "\\sum^{m}_{i = 1}a_i^*k(x_{testing}^{(1)},x^{(i)} )\\\\\n",
      "\\sum^{m}_{i = 1}a_i^*k(x_{testing}^{(2)},x^{(i)} )\\\\\n",
      "...\\\\\n",
      "\\sum^{m}_{i = 1}a_i^*k(x_{testing}^{(t)},x^{(i)} )\\\\\n",
      "\\end{bmatrix} $\n",
      "=$K_{testing}a^*$ \n",
      "#### (2) Threshold choossing\n",
      "We choose the middle point between the two means of projection of different training class points in feature space. Thus, we have\n",
      "\n",
      "$threshold$ = \n",
      "$0.5(a^*)^T\\phi(\\mathbf{x})(\\frac{1}{a}\\phi(\\mathbf{x})^Tj_a +\\frac{1}{b}\\phi(\\mathbf{x})^Tj_b)$\n",
      "=\n",
      "$0.5(a^*)^Tphi(\\mathbf{x})phi(\\mathbf{x})^Tt$\n",
      "=\n",
      "$0.5(a^*)^TKt$\n",
      "\n",
      ",where $t$ is with entries\n",
      "$t_i = \\frac{1}{a}$ if $y^{(i)}\\ =\\ +1$ or $t_i = \\frac{1}{b}$ if $y^{(i)}\\ =\\ -1$."
     ]
    },
    {
     "cell_type": "code",
     "collapsed": false,
     "input": [
      "\"\"\"\n",
      "Training\n",
      "\"\"\"\n",
      "def getbam(X,y):\n",
      "    \"\"\"\n",
      "    X is in R^{m \\times n}\n",
      "    y is in R^{m \\times 1}\n",
      "    \"\"\"\n",
      "#   y>0 class1\n",
      "#   y<0 class2\n",
      "    X_class1,X_class2 = splitXintoTwoClass(X,y)\n",
      "    a = X_class1.shape[0]\n",
      "    b = X_class2.shape[0]\n",
      "    m = X.shape[0]\n",
      "    return b,a,m\n",
      "\n",
      "def trainKFDAmodel(XkfdaTraining, YkfdaTraining, KTraining, lamda):\n",
      "    b,a,m= getbam(XkfdaTraining,YkfdaTraining)\n",
      "    I = np.eye(m)\n",
      "    onemx1 =  np.ones( (m,1))\n",
      "    y1 = 0.5*(YkfdaTraining+1)\n",
      "    y2 = y1-YkfdaTraining\n",
      "    rescal = onemx1 + (1.0*(b-a)/m)*YkfdaTraining\n",
      "    B = diag(rescal)-(2.0*b/(m*a))*dot(y1,y1.T)-(2.0*a/(m*b))*dot(y2,y2.T)\n",
      "    A = dot(pinv(dot(B,KTraining)+lamda*I),YkfdaTraining)\n",
      "    threshold =  (0.25/(a*b))*dot(dot(A.T,KTraining),rescal)\n",
      "    return A,threshold\n",
      "\"\"\"\n",
      "Testing\n",
      "\"\"\"  \n",
      "def testKFEAmodel(A,a0,KTesting):\n",
      "    \"\"\"\n",
      "    a0: the threshold for decision boudry, array((m,1))\n",
      "    we could define the cretia of decsion boudry as 0\n",
      "    \"\"\"\n",
      "    D = np.dot(KTesting.T,A)-a0\n",
      "    pred=sign(D)\n",
      "#     print 'Min projection: ',D.min(), 'Max project:',D.max()\n",
      "#     We want to make sure we find the right threoshold a0\n",
      "#     bins = numpy.linspace(D.min(), D.max(), 100)\n",
      "#     pyplot.hist(D.T, bins, alpha=0.5, label='Decision boundry')\n",
      "#     pyplot.legend(loc='upper right')\n",
      "#     pyplot.show()\n",
      "    return pred"
     ],
     "language": "python",
     "metadata": {},
     "outputs": [],
     "prompt_number": 8
    },
    {
     "cell_type": "markdown",
     "metadata": {},
     "source": [
      "## (4 points) Comparing performance for different kernels\n",
      "\n",
      "Use half of the available data for training the model. The rest of the data is allocated to the test set. Repeat the experiment 10 times for different random splits of the data. Report the balanced accuracy for the test sets and plot a boxplot comparing the performance of the five kernel functions: Gaussian kernel with width $\\sigma=\\{0.23, 1.1, 8.7\\}$ and the polynomial kernel with $c=1$ of order 2 and 3. Do not forget to label the graph appropriately.\n",
      "\n",
      "If you were unable to solve the previous questions on kernelising Fisher's Discriminant and normalisation, report results using Linear Fisher's Discriminant on the 8 features above, and also the polynomial basis of degree 2 from Tutorial 2."
     ]
    },
    {
     "cell_type": "code",
     "collapsed": false,
     "input": [
      "\"\"\"\n",
      "    Seperation:  raw dataset equally into training set and testing set\n",
      "\"\"\"\n",
      "def seperateRowDataSet(X,y):\n",
      "    \"\"\"\n",
      "    Input\n",
      "    X: raw feature matrix, X \\in R^{m \\times n}\n",
      "    y: label column vector, y \\in R^{m \\times 1}\n",
      "    \n",
      "    Return\n",
      "    X_training, \\in R^{m/2 \\times n}\n",
      "    y_training, \\in R^{m/2 \\times 1}\n",
      "    X_testing, \\in R^{m/2 \\times n}\n",
      "    y_testing, \\in R^{m/2 \\times 1}\n",
      "    \"\"\"\n",
      "    X_class1,X_class2 = splitXintoTwoClass(X,y)\n",
      "    a = X_class1.shape[0]\n",
      "    b = X_class2.shape[0]    \n",
      "    idxa = np.arange(a)\n",
      "    idxb = np.arange(b)   \n",
      "    random.seed=11109\n",
      "    np.random.shuffle(idxa)\n",
      "    random.seed=11109\n",
      "    np.random.shuffle(idxb)\n",
      "    ############### class 1 \n",
      "    am = 1+((a-1)/2)\n",
      "    train_idx_a = idxa[0:int(am)]\n",
      "    test_idx_a = idxa[int(am):]\n",
      "   \n",
      "    X_training_a = X_class1[train_idx_a]\n",
      "    y_training_a = np.ones((am,1))\n",
      "    \n",
      "    X_testing_a = X_class1[test_idx_a]\n",
      "    y_testing_a = np.ones((((a-1)/2),1))    \n",
      "    ################ class 2\n",
      "    bm = 1+((b-1)/2)\n",
      "    test_idx_b = idxb[0:int(bm)]\n",
      "    train_idx_b = idxb[int(bm):]\n",
      "   \n",
      "    X_testing_b = X_class1[test_idx_b]\n",
      "    y_testing_b = -1*np.ones((bm,1))\n",
      "    \n",
      "    X_training_b = X_class1[train_idx_b]\n",
      "    y_training_b = -1*np.ones((((b-1)/2),1))\n",
      "    ################ Combine together\n",
      "    X_training = np.append(X_training_a,X_training_b,axis = 0)\n",
      "    y_training = np.append(y_training_a,y_training_b,axis = 0)\n",
      "    \n",
      "    X_testing = np.append(X_testing_a,X_testing_b,axis = 0)\n",
      "    y_testing = np.append(y_testing_a,y_testing_b,axis = 0)\n",
      "       \n",
      "    return X_training,y_training,X_testing,y_testing\n",
      "# import random, math\n",
      "\n",
      "# def k_fold(data, myseed, k):\n",
      "#     # Shuffle input\n",
      "#     random.seed=myseed\n",
      "#     random.shuffle(data)\n",
      "#     # Compute partition size given input k\n",
      "#     len_part=int(math.ceil(len(data)/float(k)))\n",
      "#     # Create one partition per fold\n",
      "#     train={}\n",
      "#     test={}\n",
      "#     for ii in range(k):\n",
      "#         test[ii]  = data[ii*len_part:ii*len_part+len_part]\n",
      "#         train[ii] = [jj for jj in data if jj not in test]\n",
      "\n",
      "#     return test[0],test[1] \n",
      "\n",
      "# # data = array([1,2,3,4])\n",
      "# # train, test = k_fold(data, 11109, 2)\n",
      "# # print train,test\n",
      "    \n",
      "# def seperateRowDataSet(X,y):\n",
      "#     \"\"\"\n",
      "#     Input\n",
      "#     X: raw feature matrix, X \\in R^{m \\times n}\n",
      "#     y: label column vector, y \\in R^{m \\times 1}\n",
      "    \n",
      "#     Return\n",
      "#     X_training, \\in R^{m/2 \\times n}\n",
      "#     y_training, \\in R^{m/2 \\times 1}\n",
      "#     X_testing, \\in R^{m/2 \\times n}\n",
      "#     y_testing, \\in R^{m/2 \\times 1}\n",
      "#     \"\"\"\n",
      "#     m = X.shape[0]\n",
      "#     index =np.arange(m)\n",
      "#     indextrain, indexTest = k_fold(index, 11109, 2)\n",
      "#     X_training = X[indextrain]\n",
      "#     y_training = y[indextrain]\n",
      "#     X_testing = X[indexTest]\n",
      "#     y_testing = y[indexTest]    \n",
      "#     return X_training,y_training,X_testing,y_testing\n",
      "\n",
      "\"\"\"\n",
      "    Kernel matrix construction:\n",
      "    1)Training kernel matrix\n",
      "    2)Testing kernel matrix\n",
      "\"\"\"\n",
      "def getGaussianKernelMatrix(X,sigma):\n",
      "    \"\"\"\n",
      "    X: the origianl feature matrix, where X \\in R^{m \\times n}\n",
      "    sigma : a given constant\n",
      "    return K: the gaussian kernel matrix, where K \\in R^{m \\times m}\n",
      "    \"\"\"\n",
      "    m,n = X.shape\n",
      "    K = zeros((m,m))\n",
      "    for j in xrange(0, m):\n",
      "        for i in xrange(0, m):\n",
      "            xi = X[i,:]\n",
      "            xj = X[j,:]\n",
      "            kij = gaussianKernel(xi,xj,sigma)\n",
      "            K[i,j] += kij\n",
      "    return K\n",
      "\n",
      "# Test\n",
      "# a = array([[2,1],[1,0]])\n",
      "# print getGaussianKernelMatrix(a,3)\n",
      "\n",
      "def getInhomoKernelMatrix(X,c,p):\n",
      "    \"\"\"\n",
      "    X: the origianl feature matrix, where X \\in R^{m \\times n}\n",
      "    sigma : a given constant\n",
      "    return K: the gaussian kernel matrix, where K \\in R^{m \\times m}\n",
      "    \"\"\"\n",
      "    m,n = X.shape\n",
      "    K = zeros((m,m))\n",
      "    for j in xrange(0, m):\n",
      "        for i in xrange(0, m):\n",
      "            xi = X[i,:]\n",
      "            xj = X[j,:]\n",
      "            kij = inhomoKernel(xi,xj,c,p)\n",
      "            K[i,j] += kij\n",
      "    return K\n",
      "# Test\n",
      "# a = array([[2,1],[1,0]])\n",
      "# print getInhomoKernelMatrix(a,1,2)\n",
      "\n",
      "def getTestGaussianKernelMatrix(X,Z,sigma):\n",
      "    \"\"\"\n",
      "    X: the origianl feature matrix, where X \\in R^{m \\times n}\n",
      "    sigma : a given constant\n",
      "    return K: the gaussian kernel matrix, where K \\in R^{m \\times m}\n",
      "    \"\"\"\n",
      "    m,n = X.shape\n",
      "    K = zeros((m,m))\n",
      "    for j in xrange(0, m):\n",
      "        for i in xrange(0, m):\n",
      "            xi = X[i,:]\n",
      "            zj = Z[j,:]\n",
      "            kij = gaussianKernel(zj,xi,sigma)\n",
      "            K[i,j] += kij\n",
      "    return K\n",
      "\n",
      "# Test\n",
      "# a = array([[2,1],[1,0]])\n",
      "# print getGaussianKernelMatrix(a,3)\n",
      "\n",
      "def getTestInhomoKernelMatrix(X,Z,c,p):\n",
      "    \"\"\"\n",
      "    X: the origianl feature matrix, where X \\in R^{m \\times n}\n",
      "    sigma : a given constant\n",
      "    return K: the gaussian kernel matrix, where K \\in R^{m \\times m}\n",
      "    \"\"\"\n",
      "    m,n = X.shape\n",
      "    K = zeros((m,m))\n",
      "    for j in xrange(0, m):\n",
      "        for i in xrange(0, m):\n",
      "            xi = X[i,:]\n",
      "            zj = Z[j,:]\n",
      "            kij = inhomoKernel(zj,xi,c,p)\n",
      "            K[i,j] += kij\n",
      "    return K\n",
      "# Test\n",
      "# a = array([[2,1],[1,0]])\n",
      "# print getInhomoKernelMatrix(a,1,2) \n",
      "\n",
      "def getTrainTestGaussianKernelMatrix(X_training,X_testing, sigma):\n",
      "    KGaussian_training = getGaussianKernelMatrix(X_training,sigma)\n",
      "    KGaussian_testing = getTestGaussianKernelMatrix(X_training,X_testing,sigma)\n",
      "    return  KGaussian_training,KGaussian_testing\n",
      "\n",
      "def getTrainTestInhomoKernelMatrix(X_training,X_testing,c,p):\n",
      "    Kinhomo_training = getInhomoKernelMatrix(X_training,c,p) \n",
      "    Kinhomo_testing = getTestInhomoKernelMatrix(X_training,X_testing,c,p) \n",
      "    return Kinhomo_training,Kinhomo_testing\n",
      "\n",
      "\"\"\"\n",
      "    Normalisation of Kernel Matrix\n",
      "\"\"\"\n",
      "def getNorKernelMatrix(Kraw_traing, Kraw_testing):\n",
      "    ## Normalisation training kernel matrix\n",
      "    KTraining_normlised = normalise_unit_diag(Kraw_traing)\n",
      "    KTraining = KTraining_normlised    \n",
      "    ##Normalisation testing kernel matrix\n",
      "    KTesting_normlised = normalise_unit_diag(Kraw_testing)\n",
      "    KTesting = KTesting_normlised #The size of KTesting should be same as KTraining\n",
      "    return KTraining, KTesting\n",
      "#     return KTraining, Kraw_testing\n",
      "\n",
      "def getCenteringNorKernelMatrix(Kraw_traing, Kraw_testing):\n",
      "    ## Centering training kernel matrix\n",
      "    KTraining_centered = center(Kraw_traing)\n",
      "    ## Normalisation training kernel matrix\n",
      "    KTraining_normlised = normalise_unit_diag(KTraining_centered)\n",
      "    KTraining = KTraining_normlised    \n",
      "    ##Centering testing kernel matrix\n",
      "    KTesting_centered = center(Kraw_testing)\n",
      "    ##Normalisation testing kernel matrix\n",
      "    KTesting_normlised = normalise_unit_diag(KTesting_centered)\n",
      "    KTesting = KTesting_normlised #The size of KTesting should be same as KTraining\n",
      "    return KTraining, KTesting\n",
      "#     return KTraining, Kraw_testing\n",
      "\"\"\"\n",
      "Evaluation\n",
      "\"\"\"\n",
      "def confusion_matrix(prediction, labels):\n",
      "    \"\"\"Returns the confusion matrix for a list of predictions and (correct) labels\n",
      "        prediction = [y_predict1, y_predict2, ..., y_predictm]\n",
      "        labels = [y_1, y_2, ..., y_m]\n",
      "        \n",
      "        reuturn a matrix\n",
      "        cmatrix = [[tp,fp],[tn,fn]] size: 2 x 2\n",
      "    \"\"\"\n",
      "    assert len(prediction) == len(labels) # make sure there are same example numbers\n",
      "    def f(pr, la):\n",
      "        n = 0\n",
      "        for i in range(len(prediction)):\n",
      "            if prediction[i] == pr and labels[i] == la:\n",
      "                n += 1\n",
      "        return n\n",
      "    return np.matrix([[f(1, 1), f(1, 0)], [f(0, 1), f(0, 0)]])\n",
      "\n",
      "def accuracy(cmatrix):\n",
      "    \"\"\"Returns the accuracy of a confusion matrix\n",
      "        accuracy = correct prediction number / all prediction number\n",
      "    \"\"\"\n",
      "    tp, fp, fn, tn = cmatrix.flatten().tolist()[0]\n",
      "    return 1.0*(tp + tn) / (tp + fp + fn + tn)\n",
      "\n",
      "def balanced_accuracy(cmatrix):\n",
      "    \"\"\"Returns the balanced accuracy of a confusion matrix       \n",
      "    \"\"\"\n",
      "    tp, fp, fn, tn = cmatrix.flatten().tolist()[0]\n",
      "    return 1.0*tp / 2 / (tp + fn) + tn / 2 / (tn + fp)\n",
      "\n",
      "\"\"\"\n",
      "    Experiment Conduction\n",
      "\"\"\"\n",
      "def oneExperimentWithKFDA(X_training,y_training,y_testing,Kraw_traing, Kraw_testing,lamda):\n",
      "    \"\"\"\n",
      "    We implement Gaussain kernel and center as well as normalise kernel matrix    \n",
      "    Input:\n",
      "    X_training, \\in R^{n \\times m/2}\n",
      "    y_training, \\in R^{n \\times m/2}\n",
      "    y_testing, \\in R^{n \\times m/2}\n",
      "    Kraw_traing,  \\in R^{m/2 \\times m/2}\n",
      "    Kraw_testing, \\in R^{m/2 \\times m/2}\n",
      "    lamda :a positive regularization parameter\n",
      "    Output:\n",
      "    balanced_accuracy\n",
      "    \"\"\"\n",
      "#     KTraining, KTesting = getNorKernelMatrix(Kraw_traing, Kraw_testing)\n",
      "#     KTraining, KTesting = getCenteringNorKernelMatrix(Kraw_traing, Kraw_testing)\n",
      "    KTraining, KTesting = Kraw_traing, Kraw_testing\n",
      "    ########################## Training  ###################################################\n",
      "    A,threshold = trainKFDAmodel(X_training, y_training, KTraining, lamda)    \n",
      "    ########################## Testing  ####################################################\n",
      "    predKFDA = testKFEAmodel(A,threshold,KTesting)   \n",
      "    ########################## Evaluating  #################################################\n",
      "    M = confusion_matrix((predKFDA+1)/2,(y_testing+1)/2)\n",
      "    print M\n",
      "    print accuracy(M)\n",
      "#     print balanced_accuracy(M)\n",
      "    return balanced_accuracy(M)"
     ],
     "language": "python",
     "metadata": {},
     "outputs": [],
     "prompt_number": 15
    },
    {
     "cell_type": "code",
     "collapsed": false,
     "input": [
      "# Test\n",
      "lamda = 0.001\n",
      "sigmaVector = array([0.23,1.1,8.7])\n",
      "c = 1\n",
      "pVector = array([2,3])\n",
      "for i in xrange(0,1):\n",
      "#     sigma = sigmaVector[i]\n",
      "    sigma = 0.23\n",
      "\n",
      "    for j in xrange(0,1):\n",
      "        X_training,y_training,X_testing,y_testing = seperateRowDataSet(X,y);\n",
      "#         print y_training,y_testing\n",
      "        Kraw_traing, Kraw_testing = getTrainTestGaussianKernelMatrix(X_training,X_testing, sigma)\n",
      "        ba = oneExperimentWithKFDA(X_training,y_training,y_testing,Kraw_traing, Kraw_testing,lamda)\n",
      "        print ba\n",
      "        \n",
      "# for i in xrange(0,2):\n",
      "#     p = pVector[i]\n",
      "#     for j in xrange(0,1):\n",
      "#         X_training,y_training,X_testing,y_testing = seperateRowDataSet(X,y);\n",
      "#         Kraw_traing, Kraw_testing = getTrainTestInhomoKernelMatrix(X_training,X_testing,c,p)\n",
      "#         ba = oneExperimentWithKFDA(X_training,y_training,y_testing,Kraw_traing, Kraw_testing,lamda)\n",
      "#         print ba "
     ],
     "language": "python",
     "metadata": {},
     "outputs": [
      {
       "output_type": "stream",
       "stream": "stdout",
       "text": [
        "[[60 27]\n",
        " [33 51]]\n",
        "0.649122807018\n",
        "0.322580645161\n"
       ]
      }
     ],
     "prompt_number": 16
    },
    {
     "cell_type": "code",
     "collapsed": false,
     "input": [
      "def drawComparsionGraph(baMatrix):\n",
      "    \"\"\"\n",
      "    Inpput\n",
      "    baMatrix: \\in R^{5 \\times 10}\n",
      "    \"\"\"\n",
      "    length = baMatrix.shape[1]\n",
      "    baG1 = baMatrix[0].reshape(length)\n",
      "    baG2 = baMatrix[1].reshape(length)\n",
      "    baG3 = baMatrix[2].reshape(length)    \n",
      "    baI1 = baMatrix[3].reshape(length)\n",
      "    baI2= baMatrix[4].reshape(length)\n",
      "    print 'Gaussian Kernel (sigma = 0.23)\\n:',baG1\n",
      "    print '\\nGaussian Kernel (sigma = 1.1)\\n:',baG2\n",
      "    print '\\nGaussian Kernel (sigma = 8.7)\\n:',baG3\n",
      "    print '\\nPolynomial kernel (c=1 of order 2)\\n:',baI1\n",
      "    print '\\nPolynomial kernel (c=1 of order 3)\\n:',baI2    \n",
      "    ## combine these different collections into a list    \n",
      "    data_to_plot = [baG1, baG2, baG3, baI1, baI2]\n",
      "    # Create a figure instance\n",
      "    fig = plt.figure(1, figsize=(8, 6))\n",
      "    # Create an axes instance\n",
      "    ax = fig.add_subplot(111)\n",
      "    # Create the boxplot\n",
      "    bp = ax.boxplot(data_to_plot)\n",
      "    # Hide these grid behind plot objects\n",
      "    ax.set_axisbelow(True)\n",
      "    ax.set_title('Comparison of five different kernels with banlanced accuracy')\n",
      "    ax.set_xlabel('Different kernels')\n",
      "    ax.set_ylabel('Balanced accuracy')\n",
      "    ## Custom x-axis labels\n",
      "    ax.set_xticklabels(['Guassian(0.23)', 'Guassian(1.1)', 'Guassian(8.7)', 'Poly(c=1 d=2)','Poly(c=1 d=3)'])\n",
      "    ## Remove top axes and right axes ticks\n",
      "    ax.get_xaxis().tick_bottom()\n",
      "    ax.get_yaxis().tick_left()\n",
      "    \n",
      "    plt.show(bp)\n",
      "    # Save the figure\n",
      "    #fig.savefig('fig1.png', bbox_inches='tight')"
     ],
     "language": "python",
     "metadata": {},
     "outputs": [],
     "prompt_number": 22
    },
    {
     "cell_type": "code",
     "collapsed": false,
     "input": [
      "\"\"\"\n",
      "We set regularisation parameter as 0.001. \n",
      "We didn't do normalization for kernel matrix.\n",
      "\"\"\"\n",
      "lamda = 0.001\n",
      "baMatrix_lambda4 = zeros((5,10))\n",
      "sigmaVector = array([0.23,1.1,8.7])\n",
      "c = 1\n",
      "pVector = array([2,3])\n",
      "for i in xrange(0,3):\n",
      "    sigma = sigmaVector[i]\n",
      "    for j in xrange(0,10):\n",
      "        X_training,y_training,X_testing,y_testing = seperateRowDataSet(X,y);\n",
      "        Kraw_traing, Kraw_testing = getTrainTestGaussianKernelMatrix(X_training,X_testing, sigma)\n",
      "        ba = oneExperimentWithKFDA(X_training,y_training,y_testing,Kraw_traing, Kraw_testing,lamda)\n",
      "        baMatrix_lambda4[i][j]+=ba\n",
      "       \n",
      "for i in xrange(0,2):\n",
      "    p = pVector[i]\n",
      "    for j in xrange(0,10):\n",
      "        X_training,y_training,X_testing,y_testing = seperateRowDataSet(X,y);\n",
      "        Kraw_traing, Kraw_testing = getTrainTestInhomoKernelMatrix(X_training,X_testing,c,p)\n",
      "        ba = oneExperimentWithKFDA(X_training,y_training,y_testing,Kraw_traing, Kraw_testing,lamda)\n",
      "        baMatrix_lambda4[i+3][j]+=ba    "
     ],
     "language": "python",
     "metadata": {},
     "outputs": [
      {
       "output_type": "stream",
       "stream": "stdout",
       "text": [
        "[[53 19]\n",
        " [40 59]]\n",
        "0.654970760234\n",
        "[[67 24]\n",
        " [26 54]]"
       ]
      },
      {
       "output_type": "stream",
       "stream": "stdout",
       "text": [
        "\n",
        "0.707602339181\n",
        "[[56 15]\n",
        " [37 63]]"
       ]
      },
      {
       "output_type": "stream",
       "stream": "stdout",
       "text": [
        "\n",
        "0.695906432749\n",
        "[[58 21]\n",
        " [35 57]]"
       ]
      },
      {
       "output_type": "stream",
       "stream": "stdout",
       "text": [
        "\n",
        "0.672514619883\n",
        "[[56 17]\n",
        " [37 61]]"
       ]
      },
      {
       "output_type": "stream",
       "stream": "stdout",
       "text": [
        "\n",
        "0.684210526316\n",
        "[[54 19]\n",
        " [39 59]]"
       ]
      },
      {
       "output_type": "stream",
       "stream": "stdout",
       "text": [
        "\n",
        "0.66081871345\n",
        "[[64 25]\n",
        " [29 53]]"
       ]
      },
      {
       "output_type": "stream",
       "stream": "stdout",
       "text": [
        "\n",
        "0.684210526316\n",
        "[[61 18]\n",
        " [32 60]]"
       ]
      },
      {
       "output_type": "stream",
       "stream": "stdout",
       "text": [
        "\n",
        "0.707602339181\n",
        "[[61 20]\n",
        " [32 58]]"
       ]
      },
      {
       "output_type": "stream",
       "stream": "stdout",
       "text": [
        "\n",
        "0.695906432749\n",
        "[[74 32]\n",
        " [19 46]]"
       ]
      },
      {
       "output_type": "stream",
       "stream": "stdout",
       "text": [
        "\n",
        "0.701754385965\n",
        "[[54 42]\n",
        " [39 36]]"
       ]
      },
      {
       "output_type": "stream",
       "stream": "stdout",
       "text": [
        "\n",
        "0.526315789474\n",
        "[[59 38]\n",
        " [34 40]]"
       ]
      },
      {
       "output_type": "stream",
       "stream": "stdout",
       "text": [
        "\n",
        "0.578947368421\n",
        "[[42 32]\n",
        " [51 46]]"
       ]
      },
      {
       "output_type": "stream",
       "stream": "stdout",
       "text": [
        "\n",
        "0.514619883041\n",
        "[[48 36]\n",
        " [45 42]]"
       ]
      },
      {
       "output_type": "stream",
       "stream": "stdout",
       "text": [
        "\n",
        "0.526315789474\n",
        "[[57 40]\n",
        " [36 38]]"
       ]
      },
      {
       "output_type": "stream",
       "stream": "stdout",
       "text": [
        "\n",
        "0.555555555556\n",
        "[[43 31]\n",
        " [50 47]]"
       ]
      },
      {
       "output_type": "stream",
       "stream": "stdout",
       "text": [
        "\n",
        "0.526315789474\n",
        "[[41 33]\n",
        " [52 45]]"
       ]
      },
      {
       "output_type": "stream",
       "stream": "stdout",
       "text": [
        "\n",
        "0.502923976608\n",
        "[[53 27]\n",
        " [40 51]]"
       ]
      },
      {
       "output_type": "stream",
       "stream": "stdout",
       "text": [
        "\n",
        "0.608187134503\n",
        "[[49 37]\n",
        " [44 41]]"
       ]
      },
      {
       "output_type": "stream",
       "stream": "stdout",
       "text": [
        "\n",
        "0.526315789474\n",
        "[[58 35]\n",
        " [35 43]]"
       ]
      },
      {
       "output_type": "stream",
       "stream": "stdout",
       "text": [
        "\n",
        "0.590643274854\n",
        "[[69 56]\n",
        " [24 22]]"
       ]
      },
      {
       "output_type": "stream",
       "stream": "stdout",
       "text": [
        "\n",
        "0.53216374269\n",
        "[[64 48]\n",
        " [29 30]]"
       ]
      },
      {
       "output_type": "stream",
       "stream": "stdout",
       "text": [
        "\n",
        "0.549707602339\n",
        "[[70 55]\n",
        " [23 23]]"
       ]
      },
      {
       "output_type": "stream",
       "stream": "stdout",
       "text": [
        "\n",
        "0.543859649123\n",
        "[[55 43]\n",
        " [38 35]]"
       ]
      },
      {
       "output_type": "stream",
       "stream": "stdout",
       "text": [
        "\n",
        "0.526315789474\n",
        "[[52 39]\n",
        " [41 39]]"
       ]
      },
      {
       "output_type": "stream",
       "stream": "stdout",
       "text": [
        "\n",
        "0.53216374269\n",
        "[[50 40]\n",
        " [43 38]]"
       ]
      },
      {
       "output_type": "stream",
       "stream": "stdout",
       "text": [
        "\n",
        "0.514619883041\n",
        "[[56 50]\n",
        " [37 28]]"
       ]
      },
      {
       "output_type": "stream",
       "stream": "stdout",
       "text": [
        "\n",
        "0.491228070175\n",
        "[[47 39]\n",
        " [46 39]]"
       ]
      },
      {
       "output_type": "stream",
       "stream": "stdout",
       "text": [
        "\n",
        "0.502923976608\n",
        "[[38 36]\n",
        " [55 42]]"
       ]
      },
      {
       "output_type": "stream",
       "stream": "stdout",
       "text": [
        "\n",
        "0.46783625731\n",
        "[[58 52]\n",
        " [35 26]]"
       ]
      },
      {
       "output_type": "stream",
       "stream": "stdout",
       "text": [
        "\n",
        "0.491228070175\n",
        "[[80 61]\n",
        " [13 17]]"
       ]
      },
      {
       "output_type": "stream",
       "stream": "stdout",
       "text": [
        "\n",
        "0.567251461988\n",
        "[[15  8]\n",
        " [78 70]]"
       ]
      },
      {
       "output_type": "stream",
       "stream": "stdout",
       "text": [
        "\n",
        "0.497076023392\n",
        "[[89 74]\n",
        " [ 4  4]]"
       ]
      },
      {
       "output_type": "stream",
       "stream": "stdout",
       "text": [
        "\n",
        "0.543859649123\n",
        "[[10  6]\n",
        " [83 72]]"
       ]
      },
      {
       "output_type": "stream",
       "stream": "stdout",
       "text": [
        "\n",
        "0.479532163743\n",
        "[[89 76]\n",
        " [ 4  2]]"
       ]
      },
      {
       "output_type": "stream",
       "stream": "stdout",
       "text": [
        "\n",
        "0.53216374269\n",
        "[[90 76]\n",
        " [ 3  2]]"
       ]
      },
      {
       "output_type": "stream",
       "stream": "stdout",
       "text": [
        "\n",
        "0.538011695906\n",
        "[[10  5]\n",
        " [83 73]]"
       ]
      },
      {
       "output_type": "stream",
       "stream": "stdout",
       "text": [
        "\n",
        "0.485380116959\n",
        "[[37 30]\n",
        " [56 48]]"
       ]
      },
      {
       "output_type": "stream",
       "stream": "stdout",
       "text": [
        "\n",
        "0.497076023392\n",
        "[[ 8  1]\n",
        " [85 77]]"
       ]
      },
      {
       "output_type": "stream",
       "stream": "stdout",
       "text": [
        "\n",
        "0.497076023392\n",
        "[[79 62]\n",
        " [14 16]]"
       ]
      },
      {
       "output_type": "stream",
       "stream": "stdout",
       "text": [
        "\n",
        "0.555555555556\n",
        "[[88 74]\n",
        " [ 5  4]]"
       ]
      },
      {
       "output_type": "stream",
       "stream": "stdout",
       "text": [
        "\n",
        "0.538011695906\n",
        "[[17 10]\n",
        " [76 68]]"
       ]
      },
      {
       "output_type": "stream",
       "stream": "stdout",
       "text": [
        "\n",
        "0.497076023392\n",
        "[[ 8  8]\n",
        " [85 70]]"
       ]
      },
      {
       "output_type": "stream",
       "stream": "stdout",
       "text": [
        "\n",
        "0.456140350877\n",
        "[[91 74]\n",
        " [ 2  4]]"
       ]
      },
      {
       "output_type": "stream",
       "stream": "stdout",
       "text": [
        "\n",
        "0.555555555556\n",
        "[[90 73]\n",
        " [ 3  5]]"
       ]
      },
      {
       "output_type": "stream",
       "stream": "stdout",
       "text": [
        "\n",
        "0.555555555556\n",
        "[[62 50]\n",
        " [31 28]]"
       ]
      },
      {
       "output_type": "stream",
       "stream": "stdout",
       "text": [
        "\n",
        "0.526315789474\n",
        "[[74 56]\n",
        " [19 22]]"
       ]
      },
      {
       "output_type": "stream",
       "stream": "stdout",
       "text": [
        "\n",
        "0.561403508772\n",
        "[[67 57]\n",
        " [26 21]]"
       ]
      },
      {
       "output_type": "stream",
       "stream": "stdout",
       "text": [
        "\n",
        "0.514619883041\n",
        "[[90 76]\n",
        " [ 3  2]]"
       ]
      },
      {
       "output_type": "stream",
       "stream": "stdout",
       "text": [
        "\n",
        "0.538011695906\n",
        "[[48 45]\n",
        " [45 33]]"
       ]
      },
      {
       "output_type": "stream",
       "stream": "stdout",
       "text": [
        "\n",
        "0.473684210526\n"
       ]
      }
     ],
     "prompt_number": 26
    },
    {
     "cell_type": "code",
     "collapsed": false,
     "input": [
      "drawComparsionGraph(baMatrix_lambda4)"
     ],
     "language": "python",
     "metadata": {},
     "outputs": [
      {
       "output_type": "stream",
       "stream": "stdout",
       "text": [
        "Gaussian Kernel (sigma = 0.23)\n",
        ": [ 0.28494624  0.36021505  0.30107527  0.31182796  0.30107527  0.29032258\n",
        "  0.34408602  0.32795699  0.32795699  0.39784946]\n",
        "\n",
        "Gaussian Kernel (sigma = 1.1)\n",
        ": [ 0.29032258  0.3172043   0.22580645  0.25806452  0.30645161  0.2311828\n",
        "  0.22043011  0.28494624  0.26344086  0.31182796]\n",
        "\n",
        "Gaussian Kernel (sigma = 8.7)\n",
        ": [ 0.37096774  0.34408602  0.37634409  0.29569892  0.27956989  0.2688172\n",
        "  0.30107527  0.25268817  0.20430108  0.31182796]\n",
        "\n",
        "Polynomial kernel (c=1 of order 2)\n",
        ": [ 0.43010753  0.08064516  0.47849462  0.05376344  0.47849462  0.48387097\n",
        "  0.05376344  0.19892473  0.04301075  0.42473118]\n",
        "\n",
        "Polynomial kernel (c=1 of order 3)\n",
        ": [ 0.47311828  0.09139785  0.04301075  0.48924731  0.48387097  0.33333333\n",
        "  0.39784946  0.36021505  0.48387097  0.25806452]\n"
       ]
      },
      {
       "metadata": {},
       "output_type": "display_data",
       "png": "[encoded data removed]",
       "text": [
        "<matplotlib.figure.Figure at 0x10d0b4a90>"
       ]
      }
     ],
     "prompt_number": 27
    },
    {
     "cell_type": "code",
     "collapsed": false,
     "input": [],
     "language": "python",
     "metadata": {},
     "outputs": []
    }
   ],
   "metadata": {}
  }
 ]
}