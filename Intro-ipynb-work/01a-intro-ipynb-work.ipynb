{
 "metadata": {
  "name": "01a-intro-ipynb-work.ipynb"
 },
 "nbformat": 3,
 "nbformat_minor": 0,
 "worksheets": [
  {
   "cells": [
    {
     "cell_type": "heading",
     "level": 1,
     "metadata": {},
     "source": [
      "Introduction to IPython notebooks"
     ]
    },
    {
     "cell_type": "heading",
     "level": 6,
     "metadata": {},
     "source": [
      "COMP4670/8600 - Introduction to Statistical Machine Learning - Tutorial 1A"
     ]
    },
    {
     "cell_type": "markdown",
     "metadata": {},
     "source": [
      "The first tutorial will introduce the *basic elements* for writing Python programs, and using [IPython notebook](http://ipython.org/notebook.html)s. All tutorials and assignments will be done using this format.\n",
      "\n",
      "*If you already know Python well, please work on Tutorial 1B \"Linear Algebra and Optimisation\".*\n"
     ]
    },
    {
     "cell_type": "heading",
     "level": 2,
     "metadata": {},
     "source": [
      "Python and Programming for Machine Learning"
     ]
    },
    {
     "cell_type": "markdown",
     "metadata": {},
     "source": [
      "The introduction will focus on the concepts necessary for writing small programs in Python for the purpose of Machine Learning. That means, we expect a user of the code will be a reasonable knowledgeable person. Therefore, we can *skip* most of the code a robust system would have to contain in order to *check* the input types, *verify* the input parameter ranges, and *make sure* that really nothing can go wrong when somebody else is using the code.\n",
      "Having said this, you are nevertheless encouraged to include some sanity tests into your code to avoid making simple errors which can cost you a lot of time to find.\n",
      "Some of the Python concepts discussed in the tutorial will be\n",
      "- Data types (bool, int, float, str, list, tuple, set, dict)\n",
      "- Operators\n",
      "- Data flow\n",
      "- Functions\n",
      "- Classes and objects\n",
      "- Modules and how to use them\n",
      "\n",
      "**We will be using [Python3](https://wiki.python.org/moin/Python2orPython3) in this course**.\n",
      "\n",
      "Some resources:\n",
      "- [CodeAcademy](http://www.codecademy.com/en/tracks/python) gives a step by step introduction to python\n",
      "- [How to think like a computer scientist](http://interactivepython.org/courselib/static/thinkcspy/index.html) does what it says, using Python\n",
      "\n",
      "## Installation\n",
      "\n",
      "The easiest way to get a working Python environment is using one of the following collections:\n",
      "- [Enthought canopy](https://store.enthought.com/)\n",
      "- [Anaconda](http://continuum.io/downloads)\n",
      "\n",
      "It is also not too difficult to install python using your favourite package manager and then use [pip](http://en.wikipedia.org/wiki/Pip_%28package_manager%29) to manage python packages."
     ]
    },
    {
     "cell_type": "heading",
     "level": 2,
     "metadata": {},
     "source": [
      "IPython Notebooks"
     ]
    },
    {
     "cell_type": "markdown",
     "metadata": {},
     "source": [
      "**To work on a worksheet or assignment, download the notebook and edit it locally.**\n",
      "\n",
      "[IPython notebook](http://ipython.org/notebook.html)s provide a convenient browser based environment for data analysis in a literate programming environment. The descriptive parts of the notebook implements an enhanced version of [markdown](http://daringfireball.net/projects/markdown/syntax), which allows the use of [LaTeX](http://www.latex-project.org/) for rendering equations.\n",
      "1. Descriptive notes\n",
      "   - Markdown\n",
      "   - LaTeX\n",
      "2. Computational code\n",
      "   - numerical python\n",
      "      * numpy\n",
      "      * scipy\n",
      "   - pandas\n",
      "   - matplotlib\n",
      "   \n",
      "To use a notebook locally:\n",
      "```bash\n",
      "ipython3 notebook name_of_file.ipynb\n",
      "```\n"
     ]
    },
    {
     "cell_type": "markdown",
     "metadata": {},
     "source": [
      "## Markdown and LaTeX\n",
      "\n",
      "In addition to lists and links which are already shown above, \n",
      "tables are also nice and easy\n",
      "\n",
      "|Title | Middle| Left aligned | Right aligned |\n",
      "|------|:-----:|:-----|--:|\n",
      "|Monday|10:00|Sunny|*30*|\n",
      "|Thursday|12:32|Rain|*22.3*|\n",
      "\n",
      "It is also easy to typeset good looking equations inline, such as $f(x) = x^2$, or on a line by itself.\n",
      "\\begin{equation}\n",
      "    g(x) = \\sum_{i=1}^n \\frac{\\prod_{j=1}^d y_j \\sqrt{3x_i^4}}{f(x_i)}\n",
      "\\end{equation}\n",
      "If you use a symbol often, you can define it at the top of a document as follows (look at source), and use it in equations.\n",
      "\n",
      "## define a equation which can be cite as \\amazing \n",
      "$\\newcommand{\\amazing}{\\sqrt{3x_i^4}}$ \n",
      "\n",
      "\\begin{equation}\n",
      "    h(x) = \\sum_{i=1}^n \\amazing\n",
      "\\end{equation}\n",
      "\n",
      "## Computational code\n",
      "\n",
      "Setting up python environment ([do not use pylab](http://carreau.github.io/posts/10-No-PyLab-Thanks.ipynb.html))"
     ]
    },
    {
     "cell_type": "code",
     "collapsed": false,
     "input": [
      "import matplotlib.pyplot as plt\n",
      "import numpy as np\n",
      "import scipy as sp\n",
      "import pandas as pd\n",
      "pd.set_option('notebook_repr_html', True)\n",
      "\n",
      "%matplotlib inline\n"
     ],
     "language": "python",
     "metadata": {},
     "outputs": [],
     "prompt_number": 2
    },
    {
     "cell_type": "markdown",
     "metadata": {},
     "source": [
      "Some resources:\n",
      "* [Tentative NumPy Tutorial](http://wiki.scipy.org/Tentative_NumPy_Tutorial)\n",
      "* [SciPy Tutorial](http://docs.scipy.org/doc/scipy/reference/tutorial/)\n",
      "* [Matplotlib PyPlot Tutorial](http://matplotlib.org/1.3.1/users/pyplot_tutorial.html)\n",
      "* [Pandas Tutorials](http://pandas.pydata.org/pandas-docs/stable/tutorials.html) (especially [10 Minutes to Pandas (http://pandas.pydata.org/pandas-docs/stable/10min.html))\n"
     ]
    },
    {
     "cell_type": "markdown",
     "metadata": {},
     "source": [
      "## NumPy Tutorial\n",
      "1. NumPy's main object is the homogeneous multidimensional array. The elements in array are all of the same type, and indexed by a tupe of positive integers. In Numpy we regard *axes* as dimensions(row number), the number of *axes* as *rank*, and the length of *axes* as col number of this *axes*. \n",
      "\n",
      "2. numpy.ndarray class is different from numpy.array. The former one offers more functionality. The latter one is only handles one-dimensional arrays, such as a row vector.\n",
      "the number of subjects, features number: ndarray.shape\n",
      "rank of array: ndarray.ndim\n",
      "\n",
      "3. Array creation.\n",
      "array(),zeros(),ones(),empty(),arange().reshape(),linspace(),random.random()\n"
     ]
    },
    {
     "cell_type": "code",
     "collapsed": false,
     "input": [
      "# Array Creation\n",
      "a = array(    [    (1,2,3), (4,5,6)       ], dtype=complex      )\n",
      "a.shape\n",
      "print 'a = ',a\n",
      "\n",
      "b = array([ 1,2,3 ])\n",
      "B = array([(1,2,3)])\n",
      "print '\\nb is in:',b.shape,'size'\n",
      "print 'B is in:',B.shape, 'size'\n",
      "\n",
      "c = zeros( (1,3) ) # by default, the dtype of the created array is float64\n",
      "print '\\nc = ',c,' element in c is ',c.dtype,' type'\n",
      "C = zeros( (1,3) , dtype = int8 ) # dtype can also be specified\n",
      "print 'C = ',C,' element in C is ',C.dtype,' type'\n",
      "\n",
      "d = ones( (1,3) , dtype = int16)\n",
      "print '\\nd = ', d, ' d is in : ',d.shape, ' size'\n",
      "\n",
      "e = empty( (1,3) )\n",
      "print '\\ne is an array with empty elements'\n",
      "print 'e = ',e, 'and with type: ', e.dtype\n",
      "\n",
      "f = arange(0,10,  5)\n",
      "print '\\nf start from 0, and add 5 every time, the max is 10'\n",
      "print 'f = ',f\n",
      "Fvector = arange(10)\n",
      "print 'Fvector = ',Fvector\n",
      "Fmatrix = arange(10).reshape(5,2)\n",
      "print 'Fmatrix = ',Fmatrix\n",
      "\n",
      "g = linspace( 1, 10, 10)\n",
      "print '\\ng = ',g\n",
      "G = linspace( 0, 10, 10)\n",
      "print 'G = ',G\n",
      "\n",
      "x = linspace( 0, 2*pi, 359) # evaluate function\n",
      "h = sin(x)\n",
      "plot(x,h)\n",
      "\n",
      "# Create random number\n",
      "randomNum = random.random()\n",
      "print 'The random number in [0,1] is \\n',randomNum\n",
      "\n",
      "# Create random vector\n",
      "randomV = random.random(4)\n",
      "print 'The random vector :\\n',randomV\n",
      "\n",
      "# Create random narray\n",
      "randomArray = random.random((2,2))\n",
      "print 'The random array :\\n',randomArray\n",
      "\n",
      "# Create symmetric matrix s = a * a.T\n",
      "symmetric = random.random((2,2))\n",
      "print 'The original matrix: \\n',symmetric\n",
      "symmetric = symmetric * symmetric.T\n",
      "print 'The symmetric matrix, which is built from a*a.T :\\n',symmetric\n",
      "# transform from narray to np.matrix\n",
      "symmetric = np.matrix(symmetric)\n",
      "print 'We transform type from narray to \\n',type(symmetric)\n",
      "\n",
      "# Create diagonal matrix\n",
      "vector = random.random(4)\n",
      "print 'Create vector for diagonal matrix \\n',vector\n",
      "diagonal = np.matrix(np.diag(vector,k=0))\n",
      "print 'Here is our diagonal matrix \\n',diagonal"
     ],
     "language": "python",
     "metadata": {},
     "outputs": [
      {
       "output_type": "stream",
       "stream": "stdout",
       "text": [
        "a =  [[ 1.+0.j  2.+0.j  3.+0.j]\n",
        " [ 4.+0.j  5.+0.j  6.+0.j]]\n",
        "\n",
        "b is in: (3,) size\n",
        "B is in: (1, 3) size\n",
        "\n",
        "c =  [[ 0.  0.  0.]]  element in c is  float64  type\n",
        "C =  [[0 0 0]]  element in C is  int8  type\n",
        "\n",
        "d =  [[1 1 1]]  d is in :  (1, 3)  size\n",
        "\n",
        "e is an array with empty elements\n",
        "e =  [[  2.13618137e-314   2.13618137e-314   2.23097876e-314]] and with type:  float64\n",
        "\n",
        "f start from 0, and add 5 every time, the max is 10\n",
        "f =  [0 5]\n",
        "Fvector =  [0 1 2 3 4 5 6 7 8 9]\n",
        "Fmatrix =  [[0 1]\n",
        " [2 3]\n",
        " [4 5]\n",
        " [6 7]\n",
        " [8 9]]\n",
        "\n",
        "g =  [  1.   2.   3.   4.   5.   6.   7.   8.   9.  10.]\n",
        "G =  [  0.           1.11111111   2.22222222   3.33333333   4.44444444\n",
        "   5.55555556   6.66666667   7.77777778   8.88888889  10.        ]\n",
        "The random number in [0,1] is \n"
       ]
      },
      {
       "output_type": "stream",
       "stream": "stdout",
       "text": [
        "0.706948438617\n",
        "The random vector :\n",
        "[ 0.41572412  0.7033967   0.7802076   0.6018701 ]\n",
        "The random array :\n",
        "[[ 0.75148216  0.73054081]\n",
        " [ 0.62056083  0.45954378]]\n",
        "The original matrix: \n",
        "[[ 0.24284113  0.0139134 ]\n",
        " [ 0.00520162  0.75011302]]\n",
        "The symmetric matrix, which is built from a*a.T :\n",
        "[[  5.89718144e-02   7.23722665e-05]\n",
        " [  7.23722665e-05   5.62669535e-01]]\n",
        "We transform type from narray to \n",
        "<class 'numpy.matrixlib.defmatrix.matrix'>\n",
        "Create vector for diagonal matrix \n",
        "[ 0.70157802  0.97687549  0.03119739  0.80844229]\n",
        "Here is our diagonal matrix \n",
        "[[ 0.70157802  0.          0.          0.        ]\n",
        " [ 0.          0.97687549  0.          0.        ]\n",
        " [ 0.          0.          0.03119739  0.        ]\n",
        " [ 0.          0.          0.          0.80844229]]\n"
       ]
      },
      {
       "metadata": {},
       "output_type": "display_data",
       "png": "[encoded data removed]",
       "text": [
        "<matplotlib.figure.Figure at 0x10d490b10>"
       ]
      }
     ],
     "prompt_number": 118
    },
    {
     "cell_type": "markdown",
     "metadata": {},
     "source": [
      "4 .Array basic operations\n",
      "\n",
      "For each element, operations will deal with other element in same position. \n",
      "For example,\n",
      "+,-,$*$, \n",
      "a**2(for each element $a^2$ ), \n",
      "10$*sin(a)$ , \n",
      "a<10\n",
      "\n",
      "\n"
     ]
    },
    {
     "cell_type": "code",
     "collapsed": false,
     "input": [
      "# Array basic operations\n",
      " #1) Addition \n",
      "a = array( [ (2,3,4), (5,6,7)], dtype = int8 )\n",
      "b = ones( (2,3), dtype = int8 )\n",
      "\n",
      "c = a -b\n",
      "print 'a = \\n',a,'\\nb = \\n',b, '\\nc = \\n',c\n",
      "\n",
      "# 2) multiply, squiare, or function for each elements\n",
      "d = 2* a\n",
      "e = c**2\n",
      "f = 10*sin(b)\n",
      "g = e<10\n",
      "print '\\nd = 2 * a\\n',d,'\\ne = c^2\\n',e, '\\nf = \\n',f,'\\ng = e <10 \\n',g"
     ],
     "language": "python",
     "metadata": {},
     "outputs": [
      {
       "output_type": "stream",
       "stream": "stdout",
       "text": [
        "a = \n",
        "[[2 3 4]\n",
        " [5 6 7]] \n",
        "b = \n",
        "[[1 1 1]\n",
        " [1 1 1]] \n",
        "c = \n",
        "[[1 2 3]\n",
        " [4 5 6]]\n",
        "\n",
        "d = 2 * a\n",
        "[[ 4  6  8]\n",
        " [10 12 14]] \n",
        "e = c^2\n",
        "[[ 1  4  9]\n",
        " [16 25 36]] \n",
        "f = \n",
        "[[ 8.4140625  8.4140625  8.4140625]\n",
        " [ 8.4140625  8.4140625  8.4140625]] \n",
        "g = e <10 \n",
        "[[ True  True  True]\n",
        " [False False False]]\n"
       ]
      }
     ],
     "prompt_number": 63
    },
    {
     "cell_type": "markdown",
     "metadata": {},
     "source": [
      "5 .Element product  V.S. Matrix product \n",
      "\n",
      "$*$: for element product \n",
      "\n",
      "$dot(matrix_A, matrix_B)$: for matrix product"
     ]
    },
    {
     "cell_type": "code",
     "collapsed": false,
     "input": [
      "I = array( [ (1,0),(0,1)])\n",
      "a = array([ (1,2),(3,4)])\n",
      "\n",
      "trace_a = I*a\n",
      "A = dot(I,a)\n",
      "\n",
      "print 'I*a = \\n',trace_a,'\\ndot(I,a) = \\n',A"
     ],
     "language": "python",
     "metadata": {},
     "outputs": [
      {
       "output_type": "stream",
       "stream": "stdout",
       "text": [
        "I*a = \n",
        "[[1 0]\n",
        " [0 4]] \n",
        "dot(I,a) = \n",
        "[[1 2]\n",
        " [3 4]]\n"
       ]
      }
     ],
     "prompt_number": 66
    },
    {
     "cell_type": "markdown",
     "metadata": {},
     "source": [
      "6 .Renew Matrix\n",
      "\n",
      "+= or *="
     ]
    },
    {
     "cell_type": "code",
     "collapsed": false,
     "input": [
      "a = ones( (2,2), dtype = int8)\n",
      "print ' first time a is \\n',a\n",
      "\n",
      "a *= 3\n",
      "print ' this time a is \\n', a\n",
      "\n",
      "b = arange(4,dtype = float64).reshape(2,2)\n",
      "print 'b is \\n',b\n",
      "a += b # b is converted to integer type\n",
      "print 'now a is \\n',a\n",
      "a = exp(a*1j) # a is converted to the more general or precise one\n",
      "print 'finally, a = \\n',a \n",
      "print ' a is ', a.dtype, "
     ],
     "language": "python",
     "metadata": {},
     "outputs": [
      {
       "output_type": "stream",
       "stream": "stdout",
       "text": [
        " first time a is \n",
        "[[1 1]\n",
        " [1 1]]\n",
        " this time a is \n",
        "[[3 3]\n",
        " [3 3]]\n",
        "b is \n",
        "[[ 0.  1.]\n",
        " [ 2.  3.]]\n",
        "now a is \n",
        "[[3 4]\n",
        " [5 6]]\n",
        "finally, a = \n",
        "[[-0.98999250+0.14112001j -0.65364362-0.7568025j ]\n",
        " [ 0.28366219-0.95892427j  0.96017029-0.2794155j ]]\n",
        " a is  complex128  type\n"
       ]
      }
     ],
     "prompt_number": 76
    },
    {
     "cell_type": "markdown",
     "metadata": {},
     "source": [
      "7 . Unary operations\n",
      "\n",
      "1) compute the sum of all the elements in the array: ndarray.sum()"
     ]
    },
    {
     "cell_type": "code",
     "collapsed": false,
     "input": [
      "a = ones( (2,2) ,dtype = int8)\n",
      "aSum = a.sum()\n",
      "bSum = a.sum(axis = None)\n",
      "print 'the sum of all elements in array a is ',aSum, bSum"
     ],
     "language": "python",
     "metadata": {},
     "outputs": [
      {
       "output_type": "stream",
       "stream": "stdout",
       "text": [
        "the sum of all elements in array a is  4 4\n"
       ]
      }
     ],
     "prompt_number": 94
    },
    {
     "cell_type": "markdown",
     "metadata": {},
     "source": [
      "2)find the minimum(maximum) element in the array: ndarray.min() , ndarray.max()"
     ]
    },
    {
     "cell_type": "code",
     "collapsed": false,
     "input": [
      "a = 10*random.random((2,2))\n",
      "print 'a = \\n',a\n",
      "aMin = a.min()\n",
      "aMax = a.max()\n",
      "print ' the minimum element is ',aMin\n",
      "print ' the maximum element is ',aMax"
     ],
     "language": "python",
     "metadata": {},
     "outputs": [
      {
       "output_type": "stream",
       "stream": "stdout",
       "text": [
        "a = \n",
        "[[ 9.04081313  6.03589255]\n",
        " [ 6.44085829  8.53429683]]\n",
        " the minimum element is  6.03589255347\n",
        " the maximum element is  9.04081313059\n"
       ]
      }
     ],
     "prompt_number": 85
    },
    {
     "cell_type": "markdown",
     "metadata": {},
     "source": [
      "Specify axis of the array, and apply function for each column \n",
      "sum(*axis = 0*),min(*axis = 0*),max(*axis = 0*), and for each row sum(*axis = 1*),min(*axis = 1*),max(*axis = 1*)"
     ]
    },
    {
     "cell_type": "code",
     "collapsed": false,
     "input": [
      "a = arange(10).reshape((2,5))\n",
      "print 'a = \\n',a\n",
      "# for column\n",
      "print ' the sum for each col \\n',a.sum(axis = 0)\n",
      "print ' the mim for each col \\n',a.min(axis = 0)\n",
      "\n",
      "# for row\n",
      "print ' the sum for each row \\n',a.sum(axis = 1)\n",
      "print ' the mim for each row \\n',a.min(axis = 1)"
     ],
     "language": "python",
     "metadata": {},
     "outputs": [
      {
       "output_type": "stream",
       "stream": "stdout",
       "text": [
        "a = \n",
        "[[0 1 2 3 4]\n",
        " [5 6 7 8 9]]\n",
        " the sum for each col \n",
        "[ 5  7  9 11 13]\n",
        " the mim for each col \n",
        "[0 1 2 3 4]\n",
        " the sum for each row \n",
        "[10 35]\n",
        " the mim for each row \n",
        "[0 5]\n"
       ]
      }
     ],
     "prompt_number": 95
    },
    {
     "cell_type": "markdown",
     "metadata": {},
     "source": [
      "3) Others, we could refer to this website http://wiki.scipy.org/Numpy_Example_List\n",
      "\n",
      "Selector row or col: [1,:] or [:,1]\n",
      "\n",
      "The abs :abs()\n",
      "\n",
      "Add row or col: append(a,[[1,1,1]],axis = 0 ) or append(a,[[1,2,3]],axis = 1)\n",
      "\n",
      "Covariance : cov(a), cov(a,b), cov(column_stack([row_vector_a, row_vector_b,row_vector_c])\n",
      "\n",
      "Variance : a.var(),a.var(axis = 0),a.var(axis = 1)\n",
      "\n",
      "Determinant of square matrix: det(a)\n",
      "\n",
      "Diagonal matrix: row_vector = diag(a,k = 0)= a.diagonal(), matrix = diag(row_vector,k = 0)\n",
      "\n",
      "Trace: a.trace() \n",
      "\n",
      "Transpose matrix: a.T or a.transpose()\n",
      "\n",
      "I matrix: I = eye(2)\n",
      "\n",
      "Inverse matrix: inv(a), dot(inv(a),a)\n",
      "\n",
      "pseudo inverse matrix: pinv(a)\n",
      "\n",
      "Egien value and egien vector: eig(a)\n",
      "\n",
      "Logical and,or,not,xor : logical_and(a,b), logical_or(a,b), logical_not(a),logical_xor(a,b)\n",
      "\n",
      "Array to matrix: mat(array), mat[0] is the first row, m**3 is matrix multiply m*m*m, m.T is transpose of the matrix, m.H is the conjugate transpose, m.I is the inverse matrix\n",
      "\n",
      "Build matrix: matrix('1 2 3; 4 5 6')\n",
      "\n",
      "Element by element comparison: maximum(a, b)\n",
      "\n",
      "The mean of each of the cols or rows: a.mean(axis = 0) or a.mean(axis = 1)\n",
      "\n",
      "## Plot\n",
      "1. plot histograms\n",
      "\n",
      "\n"
     ]
    },
    {
     "cell_type": "code",
     "collapsed": false,
     "input": [
      "import numpy as np\n",
      "a = array([[1,2,3],[1,2,3],[1,2,3]])\n",
      "print a\n",
      "print a.mean(axis = 0).mean()"
     ],
     "language": "python",
     "metadata": {},
     "outputs": [
      {
       "output_type": "stream",
       "stream": "stdout",
       "text": [
        "[[1 2 3]\n",
        " [1 2 3]\n",
        " [1 2 3]]\n",
        "2.0\n"
       ]
      }
     ],
     "prompt_number": 9
    },
    {
     "cell_type": "code",
     "collapsed": false,
     "input": [
      "import numpy\n",
      "import pylab\n",
      "# Build a vector of 10000 normal deviates with variance 0.5^2 and mean 2\n",
      "mu, sigma = 2, 0.5\n",
      "v = numpy.random.normal(mu,sigma,10)\n",
      "v= v.reshape((10,1))\n",
      "print v.shape\n",
      "# Plot a normalized histogram with 50 bins\n",
      "pylab.hist(v, bins=50, normed=1)       # matplotlib version (plot)\n",
      "pylab.show()\n",
      "\n",
      "bins2 = [0,20,30,35,40,45,50,60,80]\n",
      "pylab.hist(v, bins2)       # matplotlib version (plot)\n",
      "pylab.show()"
     ],
     "language": "python",
     "metadata": {},
     "outputs": [
      {
       "output_type": "stream",
       "stream": "stdout",
       "text": [
        "(10, 1)\n"
       ]
      },
      {
       "metadata": {},
       "output_type": "display_data",
       "png": "[encoded data removed]",
       "text": [
        "<matplotlib.figure.Figure at 0x10d2ca310>"
       ]
      },
      {
       "metadata": {},
       "output_type": "display_data",
       "png": "[encoded data removed]",
       "text": [
        "<matplotlib.figure.Figure at 0x111cb70d0>"
       ]
      }
     ],
     "prompt_number": 6
    },
    {
     "cell_type": "code",
     "collapsed": false,
     "input": [
      "# Compute the histogram with numpy and then plot it\n",
      "(n, bins) = numpy.histogram(v, bins=50, normed=True)  # NumPy version (no plot)\n",
      "pylab.plot(.5*(bins[1:]+bins[:-1]), n)\n",
      "pylab.show()"
     ],
     "language": "python",
     "metadata": {},
     "outputs": [
      {
       "metadata": {},
       "output_type": "display_data",
       "png": "[encoded data removed]",
       "text": [
        "<matplotlib.figure.Figure at 0x10c6d8e50>"
       ]
      }
     ],
     "prompt_number": 97
    },
    {
     "cell_type": "code",
     "collapsed": false,
     "input": [
      "import random\n",
      "import numpy\n",
      "from matplotlib import pyplot\n",
      "x = [random.gauss(3,1) for _ in range(400)]\n",
      "y = [random.gauss(4,2) for _ in range(400)]\n",
      "\n",
      "bins = numpy.linspace(-10, 10, 100)\n",
      "\n",
      "pyplot.hist(x, bins, alpha=0.5, label='x')\n",
      "pyplot.hist(y, bins, alpha=0.5, label='y')\n",
      "pyplot.legend(loc='upper right')\n",
      "pyplot.show()"
     ],
     "language": "python",
     "metadata": {},
     "outputs": [
      {
       "metadata": {},
       "output_type": "display_data",
       "png": "[encoded data removed]",
       "text": [
        "<matplotlib.figure.Figure at 0x10be89e90>"
       ]
      }
     ],
     "prompt_number": 27
    },
    {
     "cell_type": "markdown",
     "metadata": {},
     "source": [
      "##SciPy Tutorial\n",
      "1. Interaction with Numpy\n",
      "2. Efficient means for array construction: np.mgrid, np.ogrid, np.r_, and np.c_\n",
      "3. Stack arrays by rows, columns, and in the third dimension: splitting arrays and stacking arrays.\n",
      "4. 1-dimensional Polynomials: np.poly1d([w2,w1,w0])\n",
      "5. Vectorizing functions: vec_function = vectorize(function), then vec_function([],[])\n",
      "6. Type handing: np.real\\np.imag, np.iscalar/np.iscomplexobj/np.isrealobj, $np.cast['f'](np.pi)$\n",
      "7. Other usful function: factorial function (n!), comb function $C_n^k"
     ]
    },
    {
     "cell_type": "code",
     "collapsed": false,
     "input": [
      "#2. np.r_\n",
      "print concatenate(([3],[0]*5,arange(-1,1.002,2/9.0)))\n",
      "print r_[3,[0]*5,-1:1:10j]\n",
      "\n",
      "#4. 1-dimensional polynomials\n",
      "p = poly1d([4,2,1])\n",
      "print p\n",
      "plot(p)"
     ],
     "language": "python",
     "metadata": {},
     "outputs": [
      {
       "output_type": "stream",
       "stream": "stdout",
       "text": [
        "[ 3.          0.          0.          0.          0.          0.         -1.\n",
        " -0.77777778 -0.55555556 -0.33333333 -0.11111111  0.11111111  0.33333333\n",
        "  0.55555556  0.77777778  1.        ]\n",
        "[ 3.          0.          0.          0.          0.          0.         -1.\n",
        " -0.77777778 -0.55555556 -0.33333333 -0.11111111  0.11111111  0.33333333\n",
        "  0.55555556  0.77777778  1.        ]\n",
        "   2\n",
        "4 x + 2 x + 1\n"
       ]
      },
      {
       "metadata": {},
       "output_type": "pyout",
       "prompt_number": 129,
       "text": [
        "[<matplotlib.lines.Line2D at 0x10cd9d4d0>]"
       ]
      },
      {
       "metadata": {},
       "output_type": "display_data",
       "png": "[encoded data removed]",
       "text": [
        "<matplotlib.figure.Figure at 0x10b68cbd0>"
       ]
      }
     ],
     "prompt_number": 129
    },
    {
     "cell_type": "markdown",
     "metadata": {},
     "source": [
      "##Linear Algebra: scipy.linalg\n",
      "\n",
      "1. Matrix v.s. narray: A.I v.s.linalg.inv(A)\n",
      "2. Solving linear system: linalg.solve(Matrix, colVec)\n",
      "3. Finding determinant and computing nomrs: linalg.det(A), linalg.norm(A)\n",
      "4. Solving linear least-squares problems and pseudo-inverses: x,resid,rank,sigma = linalg.lstsq(A, b)\n"
     ]
    },
    {
     "cell_type": "code",
     "collapsed": false,
     "input": [
      "# Create y = f(x)\n",
      "\n",
      "# Example 1. y = c_1 * (1/e)^x + c_2 * x\n",
      "# 1) Define the parameters c_1, c_2\n",
      "c1, c2 = 5.0, 2.0\n",
      "\n",
      "# 2) Define the range of x = [0.1,0.2,0.3,...,1]\n",
      "# if we want to draw discrete point for y = f(x)\n",
      "m = 10\n",
      "i = np.r_[1:m]\n",
      "xi = 0.1 * i\n",
      "print xi\n",
      "#print xi\n",
      "# if we want to draw continue-like line for y = f(x)\n",
      "xi2 = np.r_[0.1:1.0:   100j]\n",
      "#print xi2\n",
      "\n",
      "# 3) Write y\n",
      "yi = c1 * np.exp(-xi) + c2 * xi\n",
      "yi2 = c1 * np.exp(-xi2) + c2 * xi2\n",
      "\n",
      "# 4) plot y = f(x)\n",
      "plt.plot(xi,yi,'x',xi2,yi2)\n",
      "#difine the range of x axis and y axis \n",
      "plt.axis(     [0,1.1,        0, 5.5] )\n",
      "plt.title('Data')\n",
      "plt.show()"
     ],
     "language": "python",
     "metadata": {},
     "outputs": [
      {
       "output_type": "stream",
       "stream": "stdout",
       "text": [
        "[ 0.1  0.2  0.3  0.4  0.5  0.6  0.7  0.8  0.9]\n"
       ]
      },
      {
       "metadata": {},
       "output_type": "display_data",
       "png": "[encoded data removed]",
       "text": [
        "<matplotlib.figure.Figure at 0x10b7f8a10>"
       ]
      }
     ],
     "prompt_number": 2
    },
    {
     "cell_type": "code",
     "collapsed": false,
     "input": [
      "# Example 2. cure fitting for y = c_1 * (1/e)^x + c_2 * x\n",
      "# 1) Define the parameters c_1, c_2\n",
      "c1, c2 = 5.0, 2.0\n",
      "\n",
      "# 2) Define the range of x = [0.1,0.2,0.3,...,1]\n",
      "# if we want to draw discrete point for y = f(x)\n",
      "i = np.r_[1:11]\n",
      "xi = 0.1 * i\n",
      "#print xi\n",
      "# if we want to draw continue-like line for y = f(x)\n",
      "xi2 = np.r_[0.1:1.0:   100j]\n",
      "#print xi2\n",
      "\n",
      "# 3) Write y\n",
      "yi = c1 * np.exp(-xi) + c2 * xi\n",
      "# build nearby points\n",
      "bi = yi + 0.05 * np.max(yi) * np.random.randn(len(yi))\n",
      "# np.random.random(10) is the 10 numbers, whos is in [0,1]\n",
      "# np.random.randn(10) is the 10 numbers, who is from normal Gaussian distribution of mean 0 and variance 1\n",
      "#help(np.random.random)\n",
      "\n",
      "#yi2 = c1 * np.exp(-xi2) + c2 * xi2\n",
      "# use linalg.lstsq(A, b) to do curve fitting\n",
      "# Firstly, build a column matrix A from y = f(x)\n",
      "A = np.c_[np.exp(-xi)[:,np.newaxis], xi[:,np.newaxis]]\n",
      "# Then put A and b into linalg.lstsq(A, b), we get a column matrix c\n",
      "c, resid, rank, sigma = linalg.lstsq(A,bi)\n",
      "# Thus, we recover the function\n",
      "yi2 = c[0] *np.exp(-xi2) + c[1] * xi2\n",
      "\n",
      "# 4) plot y = f(x)\n",
      "plt.plot(xi,bi,'x',xi2,yi2)\n",
      "#difine the range of x axis and y axis \n",
      "plt.axis(     [0,1.1,        3.0, 5.5] )\n",
      "plt.title('curve fitting with linalg.lstsq')\n",
      "plt.show()"
     ],
     "language": "python",
     "metadata": {},
     "outputs": [
      {
       "metadata": {},
       "output_type": "display_data",
       "png": "[encoded data removed]",
       "text": [
        "<matplotlib.figure.Figure at 0x10d6b1dd0>"
       ]
      }
     ],
     "prompt_number": 166
    },
    {
     "cell_type": "raw",
     "metadata": {},
     "source": [
      "5. Decompositions:\n",
      "For square matrix A:\n",
      "1)Eigenvalues and eigen vectors: rowla, colVectors = linalg.eig(A)"
     ]
    },
    {
     "cell_type": "markdown",
     "metadata": {},
     "source": []
    },
    {
     "cell_type": "code",
     "collapsed": false,
     "input": [
      "A = np.array([(1,2),(3,4)])\n",
      "print 'A = \\n',A\n",
      "la, v = linalg.eig(A)\n",
      "# eigenvalues\n",
      "l1, l2 = la\n",
      "print 'la is \\n',la\n",
      "print ' egienvalue1 ',l1,'\\negienvalue2 ',l2\n",
      "# eigenvectors\n",
      "v1 = v[:,0]# first eigenvector in one row\n",
      "v2 = v[:,1]# second eigenvector in one row\n",
      "print 'eigenvectors matrix \\n',v\n",
      "print 'first eigenvector ',v1, '\\nsecond eigenvector ', v2\n"
     ],
     "language": "python",
     "metadata": {},
     "outputs": [
      {
       "output_type": "stream",
       "stream": "stdout",
       "text": [
        "A = \n",
        "[[1 2]\n",
        " [3 4]]\n",
        "la is \n",
        "[-0.37228132  5.37228132]\n",
        " egienvalue1  -0.372281323269 \n",
        "egienvalue2  5.37228132327\n",
        "eigenvectors matrix \n",
        "[[-0.82456484 -0.41597356]\n",
        " [ 0.56576746 -0.90937671]]\n",
        "first eigenvector  [-0.82456484  0.56576746] \n",
        "second eigenvector  [-0.41597356 -0.90937671]\n"
       ]
      }
     ],
     "prompt_number": 171
    },
    {
     "cell_type": "raw",
     "metadata": {},
     "source": [
      "For matrix that are not square:\n",
      "2) Singular value decomposition: A = U Sig Vh\n",
      "3) QR decomposition(a polar decomposition) A = QR (Q = U, R = Sig Vh)"
     ]
    },
    {
     "cell_type": "code",
     "collapsed": false,
     "input": [
      "# if there are missing some model. import it manually\n",
      "from scipy import linalg\n",
      "A = np.array([[1,2,3],[4,5,6]])\n",
      "M, N = A.shape\n",
      "# find U, [sig1,sig2,...,sign], Vh\n",
      "U,s,Vh = sp.linalg.svd(A)\n",
      "Q,R = sp.linalg.qr(A)\n",
      "# rebuild diagonal matrix Sig with [sig1,sig2,...,sign]\n",
      "#Sig = np.diag (s,k = 0)\n",
      "Sig =  sp.linalg.diagsvd(s,M,N)\n",
      "print 'U is \\n',U,'\\nSig is\\n',Sig,'\\nVh is \\n',Vh\n",
      "print 'Q is \\n',Q,'\\n R is \\n',R\n",
      "\n",
      "# Cheack computation\n",
      "print '\\n A is \\n',A\n",
      "print '\\nnewA from svd is \\n',dot(dot(U,Sig),Vh)\n",
      "print '\\nnewA from QR is \\n',dot(Q,R)"
     ],
     "language": "python",
     "metadata": {},
     "outputs": [
      {
       "output_type": "stream",
       "stream": "stdout",
       "text": [
        "U is \n",
        "[[-0.3863177  -0.92236578]\n",
        " [-0.92236578  0.3863177 ]] \n",
        "Sig is\n",
        "[[ 9.508032    0.          0.        ]\n",
        " [ 0.          0.77286964  0.        ]] \n",
        "Vh is \n",
        "[[-0.42866713 -0.56630692 -0.7039467 ]\n",
        " [ 0.80596391  0.11238241 -0.58119908]\n",
        " [ 0.40824829 -0.81649658  0.40824829]]\n",
        "Q is \n",
        "[[-0.24253563 -0.9701425 ]\n",
        " [-0.9701425   0.24253563]] \n",
        " R is \n",
        "[[-4.12310563 -5.33578375 -6.54846188]\n",
        " [ 0.         -0.72760688 -1.45521375]]\n",
        "\n",
        " A is \n",
        "[[1 2 3]\n",
        " [4 5 6]]\n",
        "\n",
        "newA from svd is \n",
        "[[ 1.  2.  3.]\n",
        " [ 4.  5.  6.]]\n",
        "\n",
        "newA from QR is \n",
        "[[ 1.  2.  3.]\n",
        " [ 4.  5.  6.]]\n"
       ]
      }
     ],
     "prompt_number": 9
    },
    {
     "cell_type": "raw",
     "metadata": {},
     "source": [
      "6. Matrix Functions\n",
      "1) Normal Taylor series expansion\n",
      "2) Exponential function: e^A = V   e^diagA  V^-1 (linalg.expm2)\n",
      "\n",
      "7. Create Special matrices"
     ]
    },
    {
     "cell_type": "code",
     "collapsed": false,
     "input": [
      "# diagonal matrix\n",
      "print linalg.block_diag(1,2,3)"
     ],
     "language": "python",
     "metadata": {},
     "outputs": [
      {
       "output_type": "stream",
       "stream": "stdout",
       "text": [
        "[[1 0 0]\n",
        " [0 2 0]\n",
        " [0 0 3]]\n"
       ]
      }
     ],
     "prompt_number": 13
    },
    {
     "cell_type": "code",
     "collapsed": false,
     "input": [
      "# companion matrix\n",
      "print linalg.companion([1, -10, 31, -30])"
     ],
     "language": "python",
     "metadata": {},
     "outputs": [
      {
       "output_type": "stream",
       "stream": "stdout",
       "text": [
        "[[ 10. -31.  30.]\n",
        " [  1.   0.   0.]\n",
        " [  0.   1.   0.]]\n"
       ]
      }
     ],
     "prompt_number": 14
    },
    {
     "cell_type": "code",
     "collapsed": false,
     "input": [],
     "language": "python",
     "metadata": {},
     "outputs": []
    }
   ],
   "metadata": {}
  }
 ]
}